{
 "cells": [
  {
   "cell_type": "code",
   "execution_count": 1,
   "metadata": {},
   "outputs": [
    {
     "name": "stderr",
     "output_type": "stream",
     "text": [
      "/Data/Packages/Utilities/miniconda3/envs/cryosbi_env/lib/python3.9/site-packages/tqdm/auto.py:21: TqdmWarning: IProgress not found. Please update jupyter and ipywidgets. See https://ipywidgets.readthedocs.io/en/stable/user_install.html\n",
      "  from .autonotebook import tqdm as notebook_tqdm\n"
     ]
    }
   ],
   "source": [
    "# from numbers import Number\n",
    "\n",
    "import torch\n",
    "from torch import nan\n",
    "from torch.distributions import constraints\n",
    "from torch.distributions.distribution import Distribution\n",
    "from torch.distributions import Uniform\n",
    "from torch.distributions.utils import broadcast_all"
   ]
  },
  {
   "cell_type": "code",
   "execution_count": 18,
   "metadata": {},
   "outputs": [],
   "source": [
    "class QuatDistribution(Distribution):\n",
    "\n",
    "    arg_constraints = {}\n",
    "    has_rsample = True\n",
    "\n",
    "    def __init__(self):\n",
    "        \n",
    "        batch_shape = (1, )\n",
    "        super().__init__(batch_shape,)\n",
    "\n",
    "    def rsample(self, sample_shape=torch.Size()):\n",
    "\n",
    "        shape = self._extended_shape(sample_shape)\n",
    "        n_quats = shape[0]\n",
    "\n",
    "        quats = torch.zeros((n_quats, 4))\n",
    "        count = 0\n",
    "        while count < n_quats:\n",
    "            quat = torch.rand(4) * 2.0 - 1.0\n",
    "            norm = torch.linalg.vector_norm(quat, ord=2)\n",
    "\n",
    "            if 0.2 <= norm <= 1.0:\n",
    "                quat /= norm\n",
    "                quats[count] = quat\n",
    "                count += 1\n",
    "\n",
    "        return quats"
   ]
  },
  {
   "cell_type": "code",
   "execution_count": 19,
   "metadata": {},
   "outputs": [
    {
     "data": {
      "text/plain": [
       "tensor([[-0.8432,  0.4737,  0.0425, -0.2507]])"
      ]
     },
     "execution_count": 19,
     "metadata": {},
     "output_type": "execute_result"
    }
   ],
   "source": [
    "qdist = QuatDistribution()\n",
    "qdist.sample(sample_shape=())"
   ]
  },
  {
   "cell_type": "code",
   "execution_count": 7,
   "metadata": {},
   "outputs": [
    {
     "data": {
      "text/plain": [
       "array([-0.01189362, -0.12632525,  0.23171002,  0.96447444], dtype=float32)"
      ]
     },
     "execution_count": 7,
     "metadata": {},
     "output_type": "execute_result"
    }
   ],
   "source": [
    "quat[0].numpy()"
   ]
  }
 ],
 "metadata": {
  "kernelspec": {
   "display_name": "cryosbi_env",
   "language": "python",
   "name": "python3"
  },
  "language_info": {
   "codemirror_mode": {
    "name": "ipython",
    "version": 3
   },
   "file_extension": ".py",
   "mimetype": "text/x-python",
   "name": "python",
   "nbconvert_exporter": "python",
   "pygments_lexer": "ipython3",
   "version": "3.9.16"
  },
  "orig_nbformat": 4
 },
 "nbformat": 4,
 "nbformat_minor": 2
}

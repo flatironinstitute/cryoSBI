{
 "cells": [
  {
   "cell_type": "code",
   "execution_count": 1,
   "metadata": {},
   "outputs": [],
   "source": [
    "from cryo_sbi import CryoEmSimulator\n",
    "from cryo_sbi import gen_training_set\n",
    "import torch\n",
    "import matplotlib.pyplot as plt"
   ]
  },
  {
   "cell_type": "code",
   "execution_count": 3,
   "metadata": {},
   "outputs": [
    {
     "name": "stdout",
     "output_type": "stream",
     "text": [
      "hsp90_models.npy\n"
     ]
    },
    {
     "name": "stderr",
     "output_type": "stream",
     "text": [
      "100%|██████████| 10000/10000 [01:13<00:00, 136.60pair/s]\n",
      "100%|██████████| 100/100 [00:00<00:00, 4779.94pair/s]\n"
     ]
    }
   ],
   "source": [
    "gen_training_set(\n",
    "    config_file=\"config_file.json\",\n",
    "    num_train_samples=10000,\n",
    "    num_val_samples=100,\n",
    "    file_name=\"tut_imgs\",\n",
    "    save_as_tensor=False,\n",
    "    n_workers=2,\n",
    "    batch_size=100\n",
    ")"
   ]
  },
  {
   "cell_type": "code",
   "execution_count": 4,
   "metadata": {},
   "outputs": [],
   "source": [
    "from cryo_sbi.inference.NPE_train_from_disk import npe_train_from_disk"
   ]
  },
  {
   "cell_type": "code",
   "execution_count": 6,
   "metadata": {},
   "outputs": [
    {
     "name": "stdout",
     "output_type": "stream",
     "text": [
      "Training neural netowrk:\n"
     ]
    },
    {
     "name": "stderr",
     "output_type": "stream",
     "text": [
      "100%|██████████| 30/30 [04:44<00:00,  9.48s/epoch, train_loss=-.981, val_loss=0.108]  \n"
     ]
    }
   ],
   "source": [
    "npe_train_from_disk(\n",
    "    train_config=\"resnet18_encoder.json\",\n",
    "    epochs=30,\n",
    "    train_data_dir=\"tut_imgs_train.h5\",\n",
    "    val_data_dir=\"tut_imgs_valid.h5\",\n",
    "    estimator_file=\"tut_estimator\",\n",
    "    loss_file=\"tut_loss\",\n",
    "    train_from_checkpoint=False,\n",
    "    model_state_dict=None,\n",
    "    n_workers=2\n",
    ")"
   ]
  },
  {
   "cell_type": "code",
   "execution_count": null,
   "metadata": {},
   "outputs": [],
   "source": []
  }
 ],
 "metadata": {
  "kernelspec": {
   "display_name": "cryosbi_kernel",
   "language": "python",
   "name": "cryosbi_kernel"
  },
  "language_info": {
   "codemirror_mode": {
    "name": "ipython",
    "version": 3
   },
   "file_extension": ".py",
   "mimetype": "text/x-python",
   "name": "python",
   "nbconvert_exporter": "python",
   "pygments_lexer": "ipython3",
   "version": "3.9.12"
  },
  "orig_nbformat": 4
 },
 "nbformat": 4,
 "nbformat_minor": 2
}

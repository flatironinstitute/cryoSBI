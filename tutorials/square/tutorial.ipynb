{
 "cells": [
  {
   "cell_type": "code",
   "execution_count": 1,
   "metadata": {},
   "outputs": [],
   "source": [
    "from cryo_em_sbi import CryoEmSbi\n",
    "import torch\n",
    "import numpy as np\n",
    "import matplotlib.pyplot as plt\n",
    "\n",
    "import sbi\n",
    "from tqdm import tqdm"
   ]
  },
  {
   "cell_type": "markdown",
   "metadata": {},
   "source": [
    "# Introduction\n",
    "\n",
    "In this tutorial I will show you how to generate synthetic images, preprocess them (apply ctf, noise, and shifts), and train a posterior probability function using SBI. I will also show how to check if the posterior trained work how it's intended to work."
   ]
  },
  {
   "cell_type": "markdown",
   "metadata": {},
   "source": [
    "## 1. The CryoEMSbi class\n",
    "\n",
    "This class takes an input file (config_square.json) at sets up everything required to do SBI using CryoEM data "
   ]
  },
  {
   "cell_type": "code",
   "execution_count": 2,
   "metadata": {},
   "outputs": [],
   "source": [
    "cryosbi = CryoEmSbi(\"config_square.json\")"
   ]
  },
  {
   "cell_type": "markdown",
   "metadata": {},
   "source": [
    "## 2. Simulate\n",
    "\n",
    "In this step we are going to generate synthetic cryoEM images based on the values on the config file. The images are generated from 20 discrete models, and each model has equal probability to be used. The indices and images are automatically saved as `indices.pt` and `images.pt`. You can change this names by passing your desired names to the function below.\n",
    "\n",
    "If you want to use slurm to generate data, just launch `launch_gen_data.job` (Found in this same folder)"
   ]
  },
  {
   "cell_type": "code",
   "execution_count": 13,
   "metadata": {},
   "outputs": [
    {
     "data": {
      "application/vnd.jupyter.widget-view+json": {
       "model_id": "60e65f61a4f242f6b09d4d8c276c5aca",
       "version_major": 2,
       "version_minor": 0
      },
      "text/plain": [
       "Running 10000 simulations in 10000 batches.:   0%|          | 0/10000 [00:00<?, ?it/s]"
      ]
     },
     "metadata": {},
     "output_type": "display_data"
    }
   ],
   "source": [
    "indices, images = cryosbi.simulate(num_workers=32)"
   ]
  },
  {
   "cell_type": "code",
   "execution_count": 2,
   "metadata": {},
   "outputs": [
    {
     "data": {
      "text/plain": [
       "<matplotlib.image.AxesImage at 0x7f6d200533d0>"
      ]
     },
     "execution_count": 2,
     "metadata": {},
     "output_type": "execute_result"
    },
    {
     "data": {
      "image/png": "[encoded data removed]",
      "text/plain": [
       "<Figure size 432x288 with 1 Axes>"
      ]
     },
     "metadata": {
      "needs_background": "light"
     },
     "output_type": "display_data"
    }
   ],
   "source": [
    "#Let's check how the images look\n",
    "indices = torch.load(\"indices.pt\")\n",
    "images = torch.load(\"images.pt\")\n",
    "\n",
    "plt.imshow(images[1].reshape(32, 32))"
   ]
  },
  {
   "cell_type": "markdown",
   "metadata": {},
   "source": [
    "# 3. Preprocessing\n",
    "To properly simulate CryoEM we need to add noise, apply CTF effects, and shift the images randomly. We do not generate images directly with this effects, as it would be expensive to generate new datasets for each combination of effects. Instead we create raw images, and then apply a desired combination of filters before training.\n",
    "\n",
    "The function below automatically saves indices and images as \"indices_training.pt\" and \"images_training.pt\".\n",
    "\n",
    "Additionally, if you use a cpu to generate images, but a gpu to train the posterior, the function below automatically changes everything to the required device.\n",
    "\n",
    "If you want to use slurm to run the preprocessing and the training just launch `launch_train_post_sbi_DEVICE.job`"
   ]
  },
  {
   "cell_type": "code",
   "execution_count": 5,
   "metadata": {},
   "outputs": [],
   "source": [
    "indices_training, images_training = cryosbi.preprocess(indices, images)"
   ]
  },
  {
   "cell_type": "code",
   "execution_count": 6,
   "metadata": {},
   "outputs": [
    {
     "data": {
      "text/plain": [
       "<matplotlib.image.AxesImage at 0x7f6d17f3b760>"
      ]
     },
     "execution_count": 6,
     "metadata": {},
     "output_type": "execute_result"
    },
    {
     "data": {
      "image/png": "[encoded data removed]",
      "text/plain": [
       "<Figure size 432x288 with 1 Axes>"
      ]
     },
     "metadata": {
      "needs_background": "light"
     },
     "output_type": "display_data"
    }
   ],
   "source": [
    "plt.imshow(images_training[350].reshape(32, 32))"
   ]
  },
  {
   "cell_type": "markdown",
   "metadata": {},
   "source": [
    "# 4. Training the posterior\n",
    "\n",
    "We use SBI to train the posterior. You can modify the type of model and the hyperparameters in the config file.\n",
    "\n",
    "If you want to use slurm to run the preprocessing and the training just launch `launch_train_post_sbi_DEVICE.job`"
   ]
  },
  {
   "cell_type": "code",
   "execution_count": 7,
   "metadata": {},
   "outputs": [
    {
     "name": "stderr",
     "output_type": "stream",
     "text": [
      "/mnt/home/dsilvasanchez/virtual_envs/sbi_env_try/lib/python3.8/site-packages/sbi/neural_nets/flow.py:141: UserWarning: In one-dimensional output space, this flow is limited to Gaussians\n",
      "  warn(\"In one-dimensional output space, this flow is limited to Gaussians\")\n"
     ]
    },
    {
     "name": "stdout",
     "output_type": "stream",
     "text": [
      " Neural network successfully converged after 43 epochs."
     ]
    }
   ],
   "source": [
    "posterior = cryosbi.train_posterior(num_workers=32)"
   ]
  },
  {
   "cell_type": "markdown",
   "metadata": {},
   "source": [
    "If you already trained a network, or you trained it with slurm, you can load it with:"
   ]
  },
  {
   "cell_type": "code",
   "execution_count": 3,
   "metadata": {},
   "outputs": [
    {
     "ename": "FileNotFoundError",
     "evalue": "[Errno 2] No such file or directory: 'posterior.pkl'",
     "output_type": "error",
     "traceback": [
      "\u001b[0;31m---------------------------------------------------------------------------\u001b[0m",
      "\u001b[0;31mFileNotFoundError\u001b[0m                         Traceback (most recent call last)",
      "\u001b[0;32m/tmp/ipykernel_2169896/1753470154.py\u001b[0m in \u001b[0;36m<module>\u001b[0;34m\u001b[0m\n\u001b[1;32m      1\u001b[0m \u001b[0;32mimport\u001b[0m \u001b[0mpickle\u001b[0m\u001b[0;34m\u001b[0m\u001b[0;34m\u001b[0m\u001b[0m\n\u001b[1;32m      2\u001b[0m \u001b[0;34m\u001b[0m\u001b[0m\n\u001b[0;32m----> 3\u001b[0;31m \u001b[0;32mwith\u001b[0m \u001b[0mopen\u001b[0m\u001b[0;34m(\u001b[0m\u001b[0mcryosbi\u001b[0m\u001b[0;34m.\u001b[0m\u001b[0mconfig\u001b[0m\u001b[0;34m[\u001b[0m\u001b[0;34m\"TRAINING\"\u001b[0m\u001b[0;34m]\u001b[0m\u001b[0;34m[\u001b[0m\u001b[0;34m\"POSTERIOR_NAME\"\u001b[0m\u001b[0;34m]\u001b[0m\u001b[0;34m,\u001b[0m \u001b[0;34m\"rb\"\u001b[0m\u001b[0;34m)\u001b[0m \u001b[0;32mas\u001b[0m \u001b[0mhandle\u001b[0m\u001b[0;34m:\u001b[0m\u001b[0;34m\u001b[0m\u001b[0;34m\u001b[0m\u001b[0m\n\u001b[0m\u001b[1;32m      4\u001b[0m     \u001b[0mposterior\u001b[0m \u001b[0;34m=\u001b[0m \u001b[0mpickle\u001b[0m\u001b[0;34m.\u001b[0m\u001b[0mload\u001b[0m\u001b[0;34m(\u001b[0m\u001b[0mhandle\u001b[0m\u001b[0;34m)\u001b[0m\u001b[0;34m\u001b[0m\u001b[0;34m\u001b[0m\u001b[0m\n",
      "\u001b[0;31mFileNotFoundError\u001b[0m: [Errno 2] No such file or directory: 'posterior.pkl'"
     ]
    }
   ],
   "source": [
    "import pickle\n",
    "\n",
    "with open(cryosbi.config[\"TRAINING\"][\"POSTERIOR_NAME\"], \"rb\") as handle:\n",
    "    posterior = pickle.load(handle)"
   ]
  },
  {
   "cell_type": "markdown",
   "metadata": {},
   "source": [
    "# 5. Checking if the posterior works\n",
    "\n",
    "We can check that the posterior works by generating new images, and checking if it can pinpoint the model they were generated from."
   ]
  },
  {
   "cell_type": "code",
   "execution_count": null,
   "metadata": {},
   "outputs": [],
   "source": [
    "true_indices = torch.tensor(np.arange(0., 20., 1.).reshape(20, 1))\n",
    "true_images = sbi.simulators.simutils.simulate_in_batches(cryosbi.simulator_analysis, true_indices, num_workers=1)"
   ]
  },
  {
   "cell_type": "code",
   "execution_count": null,
   "metadata": {},
   "outputs": [],
   "source": [
    "plt.imshow(true_images[0].reshape(32, 32))"
   ]
  },
  {
   "cell_type": "code",
   "execution_count": 8,
   "metadata": {},
   "outputs": [],
   "source": [
    "n_samples = 10000\n",
    "samples = torch.zeros(20, n_samples, 1)\n",
    "\n",
    "for i in range(20):\n",
    "    \n",
    "    samples[i] = posterior.sample((n_samples,), x=true_images[i], show_progress_bars=False)  "
   ]
  },
  {
   "cell_type": "code",
   "execution_count": 9,
   "metadata": {},
   "outputs": [
    {
     "data": {
      "image/png": "[encoded data removed]",
      "text/plain": [
       "<Figure size 1440x1440 with 20 Axes>"
      ]
     },
     "metadata": {
      "needs_background": "light"
     },
     "output_type": "display_data"
    }
   ],
   "source": [
    "fig, axes = plt.subplots(4, 5, figsize=(20, 20), sharex=True)\n",
    "fig.suptitle(f\"N_IMAGES: {cryosbi.config['SIMULATION']['N_SIMULATIONS']}, SNR:{cryosbi.config['PREPROCESSING']['SNR']}, Rotations\\nMAF\")\n",
    "\n",
    "for i in range(4):\n",
    "    for j in range(5):\n",
    "\n",
    "        axes[i,j].hist(samples[i*5 + j].numpy().flatten(), bins=30, histtype=\"step\")\n",
    "        axes[i,j].axvline(x=i*5 + j, color=\"red\")\n",
    "        axes[i,j].set_title(f\"index = {i*5 + j}\")\n",
    "        axes[i,j].set_yticks([])\n",
    "        axes[i,j].set_xticks(range(0, 19, 4))"
   ]
  },
  {
   "cell_type": "markdown",
   "metadata": {},
   "source": [
    "# Recovering distributions"
   ]
  },
  {
   "cell_type": "markdown",
   "metadata": {},
   "source": [
    "## Define your distribution"
   ]
  },
  {
   "cell_type": "code",
   "execution_count": null,
   "metadata": {},
   "outputs": [],
   "source": [
    "# If you want to use an uniform distribution\n",
    "true_indices =  cryosbi.prior_analysis.sample((5000,))\n",
    "\n",
    "# Example for a 2-well distribution\n",
    "\n",
    "\"\"\"\n",
    "import torch.distributions as D\n",
    "\n",
    "mix = D.Categorical(torch.ones(2,))\n",
    "comp = D.Normal(torch.tensor([7., 14.]), torch.tensor([2., 2.]))\n",
    "double_well_distribution = D.MixtureSameFamily(mix, comp)\n",
    "\n",
    "true_indices = double_well_distribution.sample((5000,))\n",
    "\n",
    "# Erase non-valid elementes (<0 or >19)\n",
    "\n",
    "true_indices = torch.round(true_indices)\n",
    "\n",
    "true_indices = true_indices[true_indices.round() <= 19.]\n",
    "true_indices = true_indices[true_indices.round() >= 0]\n",
    "\"\"\""
   ]
  },
  {
   "cell_type": "code",
   "execution_count": null,
   "metadata": {},
   "outputs": [],
   "source": [
    "num_workers = 8\n",
    "batch_size = int(true_indices.shape[0] / num_workers)\n",
    "\n",
    "true_images = sbi.simulators.simutils.simulate_in_batches(cryosbi.simulator_analysis, true_indices, num_workers=32)"
   ]
  },
  {
   "cell_type": "code",
   "execution_count": null,
   "metadata": {},
   "outputs": [],
   "source": [
    "n_samples = 1000\n",
    "samples = torch.zeros(true_indices.shape[0], n_samples, 1)\n",
    "\n",
    "for i in tqdm(range(true_indices.shape[0])):\n",
    "    samples[i] = posterior.sample((n_samples,), x=true_images[i], show_progress_bars=False)  "
   ]
  },
  {
   "cell_type": "code",
   "execution_count": null,
   "metadata": {},
   "outputs": [],
   "source": [
    "fig, ax = plt.subplots(1, 2, figsize=(15, 5))\n",
    "\n",
    "ax[0].hist(true_indices.numpy().flatten(), bins=np.arange(0, 20, 1), histtype=\"bar\", rwidth=0.8);\n",
    "ax[0].set_title(\"true distribution\")\n",
    "\n",
    "ax[1].hist(samples.numpy().flatten(), bins=np.arange(0, 20, 1), histtype=\"bar\", rwidth=0.8);\n",
    "ax[1].set_title(\"estimated distribution\")\n",
    "\n",
    "ax[0].set_xticks(np.arange(0, 20, 2));\n",
    "ax[1].set_xticks(np.arange(0, 20, 2));"
   ]
  }
 ],
 "metadata": {
  "kernelspec": {
   "display_name": "Python 3.8.12 ('sbi_env_try')",
   "language": "python",
   "name": "python3"
  },
  "language_info": {
   "codemirror_mode": {
    "name": "ipython",
    "version": 3
   },
   "file_extension": ".py",
   "mimetype": "text/x-python",
   "name": "python",
   "nbconvert_exporter": "python",
   "pygments_lexer": "ipython3",
   "version": "3.8.12"
  },
  "orig_nbformat": 4,
  "vscode": {
   "interpreter": {
    "hash": "4c2a1af4c67af5391b40e9df2dd79293a2163069b42db13e0a4e4857b53919cf"
   }
  }
 },
 "nbformat": 4,
 "nbformat_minor": 2
}

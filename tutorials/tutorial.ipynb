{
 "cells": [
  {
   "cell_type": "code",
   "execution_count": null,
   "metadata": {},
   "outputs": [],
   "source": [
    "import os\n",
    "import torch\n",
    "import numpy as np\n",
    "import matplotlib.pyplot as plt\n",
    "from scipy.spatial.transform import Rotation\n",
    "import umap\n",
    "\n",
    "from cryo_sbi import CryoEmSimulator\n",
    "import cryo_sbi.inference.train_npe_model as train_npe_model\n",
    "import cryo_sbi.utils.estimator_utils as est_utils\n",
    "import cryo_sbi.utils.image_utils as img_utils\n",
    "from cryo_sbi.utils.visualize_models import plot_model"
   ]
  },
  {
   "cell_type": "markdown",
   "metadata": {},
   "source": [
    "### Make the models \n",
    "\n",
    "Here we are creating a simple molecular model. \n",
    "In our model we will have four pseudo atoms arranged in a rectangle. The model differs between the sidelength we are using. The atoms are placed at the corners of the rectangle. The distance between the atoms is the same for all atoms.\n",
    "The goal is then to simulate cryo-EM images with these models and infer the distance between the two atoms from the images.\n",
    "\n",
    "The first step is to create the models. We start by crating an array with the side length `side_length` between the atoms. We will use this array to create the models.\n",
    "The models are created by placing pseudo atoms at the corners of the rectangle.\n",
    "\n",
    "The models are saved into teh file `models.pt`.\n",
    "\n"
   ]
  },
  {
   "cell_type": "code",
   "execution_count": null,
   "metadata": {},
   "outputs": [],
   "source": [
    "side_lengths = torch.linspace(0, 50, 100)\n",
    "\n",
    "models = []\n",
    "for side_length in side_lengths:\n",
    "    model = [\n",
    "        [side_length, -side_length, side_length, -side_length],\n",
    "        [side_length, side_length, -side_length, -side_length],\n",
    "        [0.0, 0.0, 0.0, 0.0],\n",
    "    ]\n",
    "    models.append(model)\n",
    "models = torch.tensor(models)"
   ]
  },
  {
   "cell_type": "markdown",
   "metadata": {},
   "source": [
    "##### Visualize the models"
   ]
  },
  {
   "cell_type": "markdown",
   "metadata": {},
   "source": [
    "To visulaize the model in the x-y plane, as we do not have a z-dimension in our model."
   ]
  },
  {
   "cell_type": "code",
   "execution_count": null,
   "metadata": {},
   "outputs": [],
   "source": [
    "fig = plt.figure()\n",
    "ax = fig.add_subplot()\n",
    "for i, c in zip([0, 25, 50, 75, 99], [\"red\", \"orange\", \"green\", \"blue\", \"purple\"]):\n",
    "    ax.scatter(\n",
    "        models[i, 0, 0],\n",
    "        models[i, 1, 0],\n",
    "        s=60,\n",
    "        color=c,\n",
    "        label=f\"Model with side length : {side_lengths[i]:.2f}\",\n",
    "    )\n",
    "    ax.scatter(models[i, 0, 1], models[i, 1, 1], s=60, color=c)\n",
    "    ax.scatter(models[i, 0, 2], models[i, 1, 2], s=60, color=c)\n",
    "    ax.scatter(models[i, 0, 3], models[i, 1, 3], s=60, color=c)\n",
    "\n",
    "ax.set_xlabel(\"X\")\n",
    "ax.set_ylabel(\"Y\")\n",
    "plt.legend()\n",
    "\n"
   ]
  },
  {
   "cell_type": "code",
   "execution_count": null,
   "metadata": {},
   "outputs": [],
   "source": [
    "# substract of center of mass\n",
    "for i in range(100):\n",
    "    models[i] = models[i] - models[i].mean(dim=1, keepdim=True)\n",
    "\n",
    "torch.save(models, \"models.pt\")"
   ]
  },
  {
   "cell_type": "markdown",
   "metadata": {},
   "source": [
    "### Run first simulation\n",
    "\n",
    "We will now simulate the cryo-EM images with our generated models.\n",
    "The simulation is done by the class `CryoEmSimulator`. And the simulation is run by the function `simulate` function.\n",
    "The class `CryoEmSimulator` takes as input a config file with the simulation parameters. The config file used here is `simulation_parameters.json`.\n",
    "\n",
    "The following parameters are used in the simulation:"
   ]
  },
  {
   "cell_type": "markdown",
   "metadata": {},
   "source": [
    "```\n",
    "simulation_parameters.json\n",
    "\n",
    "{\n",
    "    \"N_PIXELS\": 64,             --> size of the image\n",
    "    \"PIXEL_SIZE\": 2.0,          --> pixel size in angstroms\n",
    "    \"SIGMA\": [2.0, 2.0],        --> standard deviation of the gaussian\n",
    "    \"MODEL_FILE\": \"models.pt\",  --> file which contains the models\n",
    "    \"SHIFT\": 0.0,               --> shift of model center \n",
    "    \"DEFOCUS\": [2.0, 2.0],      --> defocus range for the simulation\n",
    "    \"SNR\": [0.01, 0.5],         --> signal to noise ratio  for the simulation\n",
    "    \"AMP\": 0.1,                 --> amplitude for the ctf \n",
    "    \"B_FACTOR\": [1.0, 1.0]      --> b factor for the ctf\n",
    "} \n",
    "```"
   ]
  },
  {
   "cell_type": "code",
   "execution_count": null,
   "metadata": {},
   "outputs": [],
   "source": [
    "simulator = CryoEmSimulator(\n",
    "    \"simulation_parameters.json\"\n",
    ")  # creating simulator with simulation parameters"
   ]
  },
  {
   "cell_type": "code",
   "execution_count": null,
   "metadata": {},
   "outputs": [],
   "source": [
    "images, parameters = simulator.simulate(\n",
    "    num_sim=5000, return_parameters=True\n",
    ")  # simulating images and save parameters"
   ]
  },
  {
   "cell_type": "code",
   "execution_count": null,
   "metadata": {},
   "outputs": [],
   "source": [
    "side_length = parameters[0]  # extracting side_length from parameters\n",
    "snr = parameters[-1]  # extracting snr from parameters"
   ]
  },
  {
   "cell_type": "markdown",
   "metadata": {},
   "source": [
    "#### Visualize the simulated images"
   ]
  },
  {
   "cell_type": "code",
   "execution_count": null,
   "metadata": {},
   "outputs": [],
   "source": [
    "fig, axes = plt.subplots(4, 4, figsize=(6, 6))\n",
    "for idx, ax in enumerate(axes.flatten()):\n",
    "    ax.imshow(images[idx], vmin=-3, vmax=3, cmap=\"gray\")\n",
    "    ax.set_title(\n",
    "        f\"Side: {side_lengths[side_length[idx].round().long()].item():.2f}\", fontsize=10\n",
    "    )\n",
    "    ax.axis(\"off\")"
   ]
  },
  {
   "cell_type": "markdown",
   "metadata": {},
   "source": [
    "### Train cryoSBI posterior\n",
    "\n",
    "We will now train the cryoSBI posterior to infer the distance between the atoms from the simulated images.\n",
    "The training is done with the function `npe_train_no_saving` which simulates images and simultaneously trains the posterior.\n",
    "The function takes as input the config file `training_parameters.json` which contains the training and neural network parameters.\n",
    "The function also takes as input the config file `simulation_parameters.json` which contains the simulation parameters used to simulate the images.\n"
   ]
  },
  {
   "cell_type": "markdown",
   "metadata": {},
   "source": [
    "```\n",
    "training_parameters.json\n",
    "```\n",
    "\n",
    "```\n",
    "{\n",
    "    \"EMBEDDING\": \"ConvEncoder_Tutorial\",    --> embedding network for the images\n",
    "    \"OUT_DIM\": 128,                         --> dimension of the embedding\n",
    "    \"NUM_TRANSFORM\": 5,                     --> number of transformations\n",
    "    \"NUM_HIDDEN_FLOW\": 5,                   --> number of hidden layers in the flow\n",
    "    \"HIDDEN_DIM_FLOW\": 128,                 --> dimension of the hidden layers in the flow\n",
    "    \"MODEL\": \"NSF\",                         --> type of flow\n",
    "    \"LEARNING_RATE\": 0.0003,                --> learning rate\n",
    "    \"CLIP_GRADIENT\": 5.0,                   --> gradient clipping\n",
    "    \"THETA_SHIFT\": 50,                      --> shift of the model center\n",
    "    \"THETA_SCALE\": 50,                      --> scale of the model\n",
    "    \"BATCH_SIZE\": 32                        --> batch size\n",
    "}\n",
    "```\n"
   ]
  },
  {
   "cell_type": "code",
   "execution_count": null,
   "metadata": {},
   "outputs": [],
   "source": [
    "train_npe_model.npe_train_no_saving(\n",
    "    \"simulation_parameters.json\",\n",
    "    \"training_parameters.json\",\n",
    "    150,\n",
    "    \"tutorial_estimator.pt\",  # name of the estimator file\n",
    "    \"tutorial.loss\",  # name of the loss file\n",
    "    n_workers=4,  # number of workers for data loading\n",
    "    device=\"cuda\",  # device to use for training and simulation\n",
    "    saving_frequency=100,  # frequency of saving the model\n",
    "    simulation_batch_size=160,  # batch size for simulation\n",
    ")"
   ]
  },
  {
   "cell_type": "markdown",
   "metadata": {},
   "source": [
    "##### Visualize the loss after training"
   ]
  },
  {
   "cell_type": "code",
   "execution_count": null,
   "metadata": {},
   "outputs": [],
   "source": [
    "plt.plot(torch.load(\"tutorial.loss\"))\n",
    "plt.xlabel(\"Epoch\")\n",
    "plt.ylabel(\"Loss\")"
   ]
  },
  {
   "cell_type": "markdown",
   "metadata": {},
   "source": [
    "### Evaluate the posterior on our simulated images\n",
    "\n",
    "We will now evaluate the trained posterior on our simulated images.\n",
    "For each simulated image we will infer the distance between the atoms and compare it to the true distance, by sampling from the posterior."
   ]
  },
  {
   "cell_type": "code",
   "execution_count": null,
   "metadata": {},
   "outputs": [],
   "source": [
    "posterior = est_utils.load_estimator(\n",
    "    \"training_parameters.json\",\n",
    "    \"tutorial_estimator.pt\",\n",
    "    device=\"cuda\",\n",
    ")"
   ]
  },
  {
   "cell_type": "code",
   "execution_count": null,
   "metadata": {},
   "outputs": [],
   "source": [
    "samples = est_utils.sample_posterior(\n",
    "    estimator=posterior,\n",
    "    images=images,\n",
    "    num_samples=15000,\n",
    "    batch_size=1000,\n",
    "    device=\"cuda\",\n",
    ")"
   ]
  },
  {
   "cell_type": "code",
   "execution_count": null,
   "metadata": {},
   "outputs": [],
   "source": [
    "fig, axes = plt.subplots(4, 4, figsize=(10, 10))\n",
    "for idx, ax in enumerate(axes.flatten()):\n",
    "    ax.hist(samples[:, idx].flatten(), bins=np.linspace(0, simulator.max_index, 60))\n",
    "    ax.axvline(side_length[idx], ymax=1, ymin=0, color=\"red\")\n",
    "    ax.set_yticks([])\n",
    "    ax.set_xticks([])"
   ]
  },
  {
   "cell_type": "markdown",
   "metadata": {},
   "source": [
    "### Plot latent space"
   ]
  },
  {
   "cell_type": "code",
   "execution_count": null,
   "metadata": {},
   "outputs": [],
   "source": [
    "latent_representations = est_utils.compute_latent_repr(\n",
    "    estimator=posterior,\n",
    "    images=images,\n",
    "    batch_size=1000,\n",
    "    device=\"cuda\",\n",
    ")"
   ]
  },
  {
   "cell_type": "code",
   "execution_count": null,
   "metadata": {},
   "outputs": [],
   "source": [
    "reducer = umap.UMAP(metric=\"euclidean\", n_components=2, n_neighbors=50)\n",
    "latent_vecs_transformed = reducer.fit_transform(latent_representations.numpy())"
   ]
  },
  {
   "cell_type": "code",
   "execution_count": null,
   "metadata": {},
   "outputs": [],
   "source": [
    "plt.scatter(\n",
    "    latent_vecs_transformed[:, 0],\n",
    "    latent_vecs_transformed[:, 1],\n",
    "    c=dist,\n",
    "    cmap=\"viridis\",\n",
    "    s=10,\n",
    ")\n",
    "plt.colorbar(label=\"Side length\")\n",
    "plt.xlabel(\"UMAP 1\")\n",
    "plt.ylabel(\"UMAP 2\")"
   ]
  },
  {
   "cell_type": "code",
   "execution_count": null,
   "metadata": {},
   "outputs": [],
   "source": [
    "plt.scatter(\n",
    "    latent_vecs_transformed[:, 0],\n",
    "    latent_vecs_transformed[:, 1],\n",
    "    c=snr,\n",
    "    cmap=\"viridis\",\n",
    "    s=10,\n",
    ")\n",
    "plt.colorbar(label=\"SNR\")\n",
    "plt.xlabel(\"UMAP 1\")\n",
    "plt.ylabel(\"UMAP 2\")"
   ]
  },
  {
   "cell_type": "code",
   "execution_count": null,
   "metadata": {},
   "outputs": [],
   "source": []
  }
 ],
 "metadata": {
  "kernelspec": {
   "display_name": "cryo_sbi",
   "language": "python",
   "name": "cryo_sbi"
  },
  "language_info": {
   "codemirror_mode": {
    "name": "ipython",
    "version": 3
   },
   "file_extension": ".py",
   "mimetype": "text/x-python",
   "name": "python",
   "nbconvert_exporter": "python",
   "pygments_lexer": "ipython3",
   "version": "3.10.0"
  }
 },
 "nbformat": 4,
 "nbformat_minor": 2
}

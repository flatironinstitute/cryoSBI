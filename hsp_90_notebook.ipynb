{
 "cells": [
  {
   "cell_type": "code",
   "execution_count": 1,
   "id": "b40a9f4e",
   "metadata": {},
   "outputs": [],
   "source": [
    "import numpy as np\n",
    "import pandas as pd\n",
    "from scipy.spatial.transform import Rotation\n",
    "\n",
    "# Plotting\n",
    "import matplotlib.pyplot as plt\n",
    "from mpl_toolkits.axes_grid1 import make_axes_locatable\n",
    "import seaborn as sns\n",
    "\n",
    "# MD Stuff\n",
    "import MDAnalysis as mda\n",
    "\n",
    "# Utils\n",
    "from tqdm import tqdm\n",
    "import pickle\n",
    "\n",
    "# SBI\n",
    "import torch\n",
    "import sbi\n",
    "from sbi import utils as utils\n",
    "from sbi import analysis as analysis\n",
    "from sbi.inference.base import infer\n",
    "from sbi.inference import SNPE, prepare_for_sbi, simulate_for_sbi\n",
    "from sbi.utils.get_nn_models import posterior_nn\n"
   ]
  },
  {
   "cell_type": "code",
   "execution_count": 2,
   "id": "be5c23d5",
   "metadata": {},
   "outputs": [],
   "source": [
    "def gen_quat(size):\n",
    "    #Sonya's code\n",
    "    \n",
    "    #np.random.seed(0)\n",
    "    quaternions = np.zeros((size, 4))\n",
    "    count = 0\n",
    "\n",
    "    while count < size:\n",
    "\n",
    "        quat = np.random.uniform(-1,1,4) #note this is a half-open interval, so 1 is not included but -1 is\n",
    "        norm = np.sqrt(np.sum(quat**2))\n",
    "\n",
    "        if ( 0.2 <= norm <= 1.0 ):\n",
    "            quaternions[count] = quat/norm\n",
    "            count += 1\n",
    "\n",
    "    return quaternions\n",
    "\n",
    "def gen_img(coord, n_pixels, pixel_size, sigma):\n",
    "    \n",
    "    n_atoms = coord.shape[1]\n",
    "    norm =  (2 * np.pi * sigma**2 * n_atoms)\n",
    "\n",
    "    grid_min = -pixel_size * (n_pixels - 1)*0.5\n",
    "    grid_max = pixel_size * (n_pixels - 1)*0.5 + pixel_size\n",
    "\n",
    "    grid = np.arange(grid_min, grid_max, pixel_size)\n",
    "\n",
    "    gauss = np.exp( -0.5 * ( ((grid[:,None] - coord[0,:])/sigma)**2) )[:,None] * \\\n",
    "            np.exp( -0.5 * ( ((grid[:,None] - coord[1,:])/sigma)**2) )\n",
    "\n",
    "    Icalc = gauss.sum(axis=2)\n",
    "\n",
    "    return Icalc/norm\n",
    "\n",
    "def load_model(fname, filter = \"name CA\"):\n",
    "\n",
    "    mda_model = mda.Universe(fname)\n",
    "\n",
    "    # Center model\n",
    "    mda_model.atoms.translate(-mda_model.select_atoms('all').center_of_mass())\n",
    "\n",
    "    # Extract coordinates\n",
    "    coordinates = mda_model.select_atoms(filter).positions.T\n",
    "\n",
    "    return coordinates"
   ]
  },
  {
   "cell_type": "code",
   "execution_count": 3,
   "id": "89925f76",
   "metadata": {},
   "outputs": [],
   "source": [
    "prior_indices = utils.BoxUniform(low=1*torch.ones(1), high=20*torch.ones(1))"
   ]
  },
  {
   "cell_type": "code",
   "execution_count": 5,
   "id": "ba39024e",
   "metadata": {},
   "outputs": [],
   "source": [
    "def simulator_plain(index):\n",
    "\n",
    "    index1 = int(torch.round(index))\n",
    "\n",
    "    coord = load_model(f\"models/state_1_{index1}.pdb\")\n",
    "\n",
    "    # quat = gen_quat(1)[0]\n",
    "    # rot_mat = Rotation.from_quat(quat).as_matrix()\n",
    "    # coord = np.matmul(rot_mat, coord)\n",
    "\n",
    "    N_PIXELS = 32\n",
    "    PIXEL_SIZE = 4\n",
    "    SIGMA = 1\n",
    "    IMG_PARAMS = (N_PIXELS, PIXEL_SIZE, SIGMA)\n",
    "\n",
    "    image = gen_img(coord, *IMG_PARAMS)*3. \n",
    "    #+ torch.randn(N_PIXELS, N_PIXELS)\n",
    "\n",
    "    return image\n",
    "\n",
    "sim_plain_sbi, prior_sbi = prepare_for_sbi(simulator_plain, prior_indices)"
   ]
  },
  {
   "cell_type": "code",
   "execution_count": 6,
   "id": "9d8313bd",
   "metadata": {},
   "outputs": [
    {
     "data": {
      "application/vnd.jupyter.widget-view+json": {
       "model_id": "06e56707b0ab4947afa82719b20a51d1",
       "version_major": 2,
       "version_minor": 0
      },
      "text/plain": [
       "Running 10 simulations.:   0%|          | 0/10 [00:00<?, ?it/s]"
      ]
     },
     "metadata": {},
     "output_type": "display_data"
    }
   ],
   "source": [
    "indices, images = simulate_for_sbi(sim_plain_sbi, proposal=prior_sbi, num_simulations=10, num_workers=1)"
   ]
  },
  {
   "cell_type": "code",
   "execution_count": 11,
   "id": "440c98fd",
   "metadata": {},
   "outputs": [
    {
     "data": {
      "text/plain": [
       "<matplotlib.image.AxesImage at 0x7fdae0985b80>"
      ]
     },
     "execution_count": 11,
     "metadata": {},
     "output_type": "execute_result"
    },
    {
     "data": {
      "image/png": "[encoded data removed]",
      "text/plain": [
       "<Figure size 432x288 with 1 Axes>"
      ]
     },
     "metadata": {
      "needs_background": "light"
     },
     "output_type": "display_data"
    }
   ],
   "source": [
    "plt.imshow(images[2].reshape(32, 32))"
   ]
  },
  {
   "cell_type": "code",
   "execution_count": 13,
   "id": "8c2d4cd2",
   "metadata": {},
   "outputs": [],
   "source": [
    "torch.save(images, \"images/images_noiseless_1d_no_rot.pt\")\n",
    "torch.save(indices, \"images/indices_noiseless_1d_no_rot.pt\")"
   ]
  },
  {
   "cell_type": "code",
   "execution_count": 14,
   "id": "de8585d8",
   "metadata": {},
   "outputs": [],
   "source": [
    "images = torch.load(\"images/images_noiseless_1d_no_rot.pt\")\n",
    "indices = torch.load(\"images/indices_noiseless_1d_no_rot.pt\")"
   ]
  },
  {
   "cell_type": "code",
   "execution_count": 15,
   "id": "b92e374a",
   "metadata": {},
   "outputs": [
    {
     "name": "stderr",
     "output_type": "stream",
     "text": [
      "/mnt/home/pcossio/virtual_envs/sbi_env/lib/python3.8/site-packages/sbi/neural_nets/flow.py:141: UserWarning: In one-dimensional output space, this flow is limited to Gaussians\n",
      "  warn(\"In one-dimensional output space, this flow is limited to Gaussians\")\n"
     ]
    },
    {
     "name": "stdout",
     "output_type": "stream",
     "text": [
      " Neural network successfully converged after 291 epochs."
     ]
    }
   ],
   "source": [
    "density_estimator_build_fun = posterior_nn(model='maf', hidden_features=10, num_transforms=4)\n",
    "\n",
    "inference = SNPE(prior=prior_sbi, density_estimator=density_estimator_build_fun)\n",
    "\n",
    "inference = inference.append_simulations(indices, images)\n",
    "\n",
    "density_estimator = inference.train()\n",
    "posterior_0_1d = inference.build_posterior(density_estimator)"
   ]
  },
  {
   "cell_type": "code",
   "execution_count": 19,
   "id": "7530168d",
   "metadata": {},
   "outputs": [],
   "source": [
    "with open(\"posteriors/posterior_1d_no_rot_norm.pkl\", \"wb\") as handle:\n",
    "    pickle.dump(posterior_0_1d, handle)"
   ]
  },
  {
   "cell_type": "code",
   "execution_count": 20,
   "id": "2cc598e6",
   "metadata": {},
   "outputs": [],
   "source": [
    "with open(\"posteriors/posterior_1d_no_rot_norm.pkl\", \"rb\") as handle:\n",
    "    posterior_0_1d = pickle.load(handle)"
   ]
  },
  {
   "cell_type": "code",
   "execution_count": 22,
   "id": "6f49d1c6",
   "metadata": {},
   "outputs": [],
   "source": [
    "true_index_1d = prior_sbi.sample((1,))"
   ]
  },
  {
   "cell_type": "code",
   "execution_count": 25,
   "id": "0860b88a",
   "metadata": {},
   "outputs": [
    {
     "data": {
      "application/vnd.jupyter.widget-view+json": {
       "model_id": "819614cd57064f39b4353734db80bf05",
       "version_major": 2,
       "version_minor": 0
      },
      "text/plain": [
       "Drawing 10000 posterior samples:   0%|          | 0/10000 [00:00<?, ?it/s]"
      ]
     },
     "metadata": {},
     "output_type": "display_data"
    }
   ],
   "source": [
    "obs_img_1d = simulator_plain(true_index_1d)\n",
    "\n",
    "obs_img_1d = torch.tensor(obs_img_1d.reshape(1, -1))\n",
    "\n",
    "\n",
    "n_samples = 10000\n",
    "\n",
    "samples_1d = posterior_0_1d.sample((n_samples,), x=obs_img_1d)"
   ]
  },
  {
   "cell_type": "code",
   "execution_count": 26,
   "id": "98dfdbd0",
   "metadata": {},
   "outputs": [
    {
     "data": {
      "image/png": "[encoded data removed]",
      "text/plain": [
       "<Figure size 360x360 with 1 Axes>"
      ]
     },
     "metadata": {
      "needs_background": "light"
     },
     "output_type": "display_data"
    }
   ],
   "source": [
    "fig, axes = analysis.pairplot(samples_1d,\n",
    "                           limits=[[1,21], [1,21]],\n",
    "                           #ticks=[[2,10], [2,10]],\n",
    "                           figsize=(5,5),\n",
    "                           points=true_index_1d,\n",
    "                           points_offdiag={'markersize': 6},\n",
    "                           points_colors='r');"
   ]
  },
  {
   "cell_type": "code",
   "execution_count": null,
   "id": "bfac66f7",
   "metadata": {},
   "outputs": [],
   "source": []
  }
 ],
 "metadata": {
  "kernelspec": {
   "display_name": "sbi_env_kernel",
   "language": "python",
   "name": "sbi_env_kernel"
  },
  "language_info": {
   "codemirror_mode": {
    "name": "ipython",
    "version": 3
   },
   "file_extension": ".py",
   "mimetype": "text/x-python",
   "name": "python",
   "nbconvert_exporter": "python",
   "pygments_lexer": "ipython3",
   "version": "3.8.12"
  }
 },
 "nbformat": 4,
 "nbformat_minor": 5
}

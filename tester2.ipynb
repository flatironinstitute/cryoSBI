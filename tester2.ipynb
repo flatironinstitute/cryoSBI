{
 "cells": [
  {
   "cell_type": "code",
   "execution_count": 7,
   "metadata": {},
   "outputs": [],
   "source": [
    "import argparse\n",
    "import torch\n",
    "from itertools import islice\n",
    "from lampe.data import JointLoader, H5Dataset\n",
    "from tqdm import tqdm\n",
    "import zuko\n",
    "\n",
    "from cryo_sbi import CryoEmSimulator\n",
    "\n",
    "from cryo_sbi.wpa_simulator.cryo_em_simulator import CryoEmSimulator"
   ]
  },
  {
   "cell_type": "code",
   "execution_count": 8,
   "metadata": {},
   "outputs": [],
   "source": [
    "def get_uniform_prior_1d(max_index):\n",
    "    \"\"\"Return uniform prior in 1d from 0 to 19\"\"\"\n",
    "\n",
    "    assert isinstance(max_index, int), \"max_index is no INT\"\n",
    "\n",
    "    LOWER = torch.zeros(1)\n",
    "    UPPER = max_index * torch.ones(1)\n",
    "    prior = zuko.distributions.BoxUniform(LOWER, UPPER)\n",
    "\n",
    "    return prior"
   ]
  },
  {
   "cell_type": "code",
   "execution_count": 5,
   "metadata": {},
   "outputs": [
    {
     "name": "stdout",
     "output_type": "stream",
     "text": [
      "protein_models/hsp90_models.npy\n"
     ]
    },
    {
     "name": "stderr",
     "output_type": "stream",
     "text": [
      "/Data/Packages/Utilities/miniconda3/envs/cryosbi_env/lib/python3.11/site-packages/torch/functional.py:504: UserWarning: torch.meshgrid: in an upcoming release, it will be required to pass the indexing argument. (Triggered internally at ../aten/src/ATen/native/TensorShape.cpp:3190.)\n",
      "  return _VF.meshgrid(tensors, **kwargs)  # type: ignore[attr-defined]\n",
      "/Data/Documents/Research/SMBp/sim_based_inf/cryo_em_SBI/src/cryo_sbi/wpa_simulator/ctf.py:22: UserWarning: To copy construct from a tensor, it is recommended to use sourceTensor.clone().detach() or sourceTensor.clone().detach().requires_grad_(True), rather than torch.tensor(sourceTensor).\n",
      "  env = torch.exp(torch.tensor(-image_params[\"B_FACTOR\"] * freq2_2d * 0.5))\n",
      "/Data/Documents/Research/SMBp/sim_based_inf/cryo_em_SBI/src/cryo_sbi/wpa_simulator/ctf.py:24: UserWarning: To copy construct from a tensor, it is recommended to use sourceTensor.clone().detach() or sourceTensor.clone().detach().requires_grad_(True), rather than torch.tensor(sourceTensor).\n",
      "  image_params[\"AMP\"] * torch.tensor(phase * freq2_2d * 0.5).cos()\n",
      "/Data/Documents/Research/SMBp/sim_based_inf/cryo_em_SBI/src/cryo_sbi/wpa_simulator/ctf.py:26: UserWarning: To copy construct from a tensor, it is recommended to use sourceTensor.clone().detach() or sourceTensor.clone().detach().requires_grad_(True), rather than torch.tensor(sourceTensor).\n",
      "  * torch.tensor(phase * freq2_2d * 0.5).sin()\n"
     ]
    }
   ],
   "source": [
    "cryo_simulator = CryoEmSimulator(\"config_file.json\")"
   ]
  },
  {
   "cell_type": "code",
   "execution_count": 10,
   "metadata": {},
   "outputs": [],
   "source": [
    "loader = JointLoader(\n",
    "    get_uniform_prior_1d(cryo_simulator.max_index),\n",
    "    cryo_simulator.simulator,\n",
    "    vectorized=False,\n",
    "    batch_size=1000,\n",
    "    num_workers=1,\n",
    "    prefetch_factor=1,\n",
    ")"
   ]
  },
  {
   "cell_type": "code",
   "execution_count": 21,
   "metadata": {},
   "outputs": [],
   "source": [
    "num_train_samples = 10\n",
    "\n",
    "torch.multiprocessing.set_sharing_strategy(\"file_system\")\n",
    "train_data = islice(loader, num_train_samples)\n",
    "thetas = []\n",
    "xs = []"
   ]
  }
 ],
 "metadata": {
  "kernelspec": {
   "display_name": "cryosbi_env",
   "language": "python",
   "name": "python3"
  },
  "language_info": {
   "codemirror_mode": {
    "name": "ipython",
    "version": 3
   },
   "file_extension": ".py",
   "mimetype": "text/x-python",
   "name": "python",
   "nbconvert_exporter": "python",
   "pygments_lexer": "ipython3",
   "version": "3.11.0"
  },
  "orig_nbformat": 4,
  "vscode": {
   "interpreter": {
    "hash": "dc73be64466a83cdcd5e120311d2528b39bc415692508fa70beea3b65b81c4d1"
   }
  }
 },
 "nbformat": 4,
 "nbformat_minor": 2
}

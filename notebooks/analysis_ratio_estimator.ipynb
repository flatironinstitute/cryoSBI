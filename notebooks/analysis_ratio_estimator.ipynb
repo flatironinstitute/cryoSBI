{
 "cells": [
  {
   "cell_type": "code",
   "execution_count": null,
   "id": "c11d3bbe-f081-467b-9a51-f993cd7dea8a",
   "metadata": {},
   "outputs": [],
   "source": [
    "import matplotlib.pyplot as plt\n",
    "import numpy as np\n",
    "import torch\n",
    "import json\n",
    "from multiprocessing import Pool\n",
    "from lampe.inference import NRE, NRELoss, MetropolisHastings\n",
    "from tqdm import tqdm"
   ]
  },
  {
   "cell_type": "code",
   "execution_count": null,
   "id": "2582aa76-9618-42d7-9c68-c38935156338",
   "metadata": {},
   "outputs": [],
   "source": [
    "import sys\n",
    "\n",
    "sys.path.insert(0, \"../scr/inference/\")\n",
    "sys.path.insert(0, \"../scr/inference/models\")\n",
    "sys.path.insert(0, \"../scr/wpa_simulator/\")"
   ]
  },
  {
   "cell_type": "code",
   "execution_count": null,
   "id": "8a987878-3283-4c93-9ab7-9c818fa5bee5",
   "metadata": {},
   "outputs": [],
   "source": [
    "from models import build_model\n",
    "from cryo_em_simulator import CryoEmSimulator\n",
    "import priors"
   ]
  },
  {
   "cell_type": "markdown",
   "id": "1f1226dd-53f1-40db-82a7-657c60a8e104",
   "metadata": {},
   "source": [
    "## Load cryo-em simulator and posterior with correct config"
   ]
  },
  {
   "cell_type": "code",
   "execution_count": null,
   "id": "f2eb23c1-3229-48a7-a965-deb74277e0a8",
   "metadata": {},
   "outputs": [],
   "source": [
    "cryosbi = CryoEmSimulator(\n",
    "    \"../data/trained_posteriors/benchmark_hsp90/image_params_snr10.json\"\n",
    ")"
   ]
  },
  {
   "cell_type": "code",
   "execution_count": null,
   "id": "269ee74f-9a78-4c27-bd7f-14ec441de8ba",
   "metadata": {},
   "outputs": [],
   "source": [
    "train_config = json.load(open(\"../data/trained_posteriors/benchmark_hsp90/.json\"))\n",
    "estimator = build_model.build_nre_classifier_model(train_config)\n",
    "estimator.load_state_dict(\n",
    "    torch.load(\"../data/trained_posteriors/benchmark_hsp90/NRE_snr01.estimator\")\n",
    ")"
   ]
  },
  {
   "cell_type": "markdown",
   "id": "d8542c11-e902-4470-8797-ad664f54cecd",
   "metadata": {},
   "source": [
    "## Plot the training loss"
   ]
  },
  {
   "cell_type": "code",
   "execution_count": null,
   "id": "d09e9104-f017-481f-b4c6-39f165195bc8",
   "metadata": {
    "tags": []
   },
   "outputs": [],
   "source": [
    "loss1 = torch.load(\"../data/trained_posteriors/benchmark_hsp90/NRE_snr01.loss\")\n",
    "plt.plot(loss1.numpy(), label=\"Train\")\n",
    "# plt.plot(loss1.numpy()[1], label='Validation')\n",
    "# plt.plot(loss1.numpy()[0], label='Train')\n",
    "# plt.ylim((1.8, 5))\n",
    "plt.ylabel(\"Loss\", fontsize=12)\n",
    "plt.xlabel(\"Epoch\", fontsize=12)\n",
    "plt.legend()\n",
    "# plt.savefig('loss_snr10.pdf', dpi=600)"
   ]
  },
  {
   "cell_type": "markdown",
   "id": "488a4635-ea67-4728-b016-a9ecebe23e4a",
   "metadata": {},
   "source": [
    "## Testing posterior on array of images"
   ]
  },
  {
   "cell_type": "code",
   "execution_count": null,
   "id": "872d28d3-0ec6-4928-b825-216f071740d3",
   "metadata": {},
   "outputs": [],
   "source": [
    "indices = torch.tensor(np.arange(0, 20, 1), dtype=float).reshape(-1, 1)\n",
    "images = torch.stack([cryosbi.simulator(index) for index in indices], dim=0)"
   ]
  },
  {
   "cell_type": "code",
   "execution_count": null,
   "id": "12cb38b9-4706-4bb7-9961-b110bf527b9d",
   "metadata": {},
   "outputs": [],
   "source": [
    "plt.imshow(images[9].reshape(64, 64))"
   ]
  },
  {
   "cell_type": "code",
   "execution_count": null,
   "id": "914656cd-2712-49db-b56e-044fb8d8b4f6",
   "metadata": {},
   "outputs": [],
   "source": [
    "estimator.eval()\n",
    "estimator.cuda()\n",
    "prior = priors.get_unirom_prior_1d()"
   ]
  },
  {
   "cell_type": "code",
   "execution_count": null,
   "id": "01c49684-e060-47a4-aaf6-a4ababebd4a6",
   "metadata": {},
   "outputs": [],
   "source": [
    "with torch.no_grad():\n",
    "    theta_0 = prior.sample(\n",
    "        (1096, images.shape[0])\n",
    "    ).cuda()  # 1024 concurrent Markov chains\n",
    "\n",
    "    features = estimator.embedding(images.cuda())\n",
    "    log_p = (\n",
    "        lambda theta: estimator.nre(theta, features)\n",
    "        + prior.log_prob(theta.cpu()).cuda()\n",
    "    )  # p(theta | x) = r(theta, x) p(theta)\n",
    "\n",
    "    sampler = MetropolisHastings(theta_0, log_f=log_p, sigma=0.6)\n",
    "    samples = torch.cat([theta for theta in sampler(512 + 2024, burn=2024, step=8)])"
   ]
  },
  {
   "cell_type": "code",
   "execution_count": null,
   "id": "b0cd582b-c933-48d4-b804-fedd92ca5899",
   "metadata": {
    "tags": []
   },
   "outputs": [],
   "source": [
    "fig, axes = plt.subplots(4, 5, figsize=(10, 10), sharex=True)\n",
    "for idx, ax in enumerate(axes.reshape(1, -1)[0]):\n",
    "    ax.hist(\n",
    "        samples[:, idx].cpu().flatten().numpy(),\n",
    "        bins=np.arange(0, 20, 0.5),\n",
    "        histtype=\"step\",\n",
    "        color=\"blue\",\n",
    "        label=\"all\",\n",
    "    )\n",
    "    ax.set_yticks([])\n",
    "    ax.set_xticks(range(0, 20, 4))\n",
    "    ax.axvline(indices[idx], color=\"red\")\n",
    "# plt.savefig('Example_NSF.pdf', dpi=400)"
   ]
  },
  {
   "cell_type": "markdown",
   "id": "a7213a4a-3a5d-4e04-9edd-d1906ff02818",
   "metadata": {},
   "source": [
    "## Compute posterior convidence distribution"
   ]
  },
  {
   "cell_type": "code",
   "execution_count": null,
   "id": "2c197c38-9df1-42e2-8f41-4ee17bbb0553",
   "metadata": {},
   "outputs": [],
   "source": [
    "def batched_simulator(batche_of_indices):\n",
    "    return torch.stack([cryosbi.simulator(index) for index in batche_of_indices], dim=0)"
   ]
  },
  {
   "cell_type": "code",
   "execution_count": null,
   "id": "0d40097c-43b3-41a4-b01a-0216c6ec6465",
   "metadata": {},
   "outputs": [],
   "source": [
    "N_samples = 20000\n",
    "indices = priors.get_unirom_prior_1d().sample((N_samples,))"
   ]
  },
  {
   "cell_type": "code",
   "execution_count": null,
   "id": "b8ae78b5-6e52-4117-a3c1-2303680e4d27",
   "metadata": {},
   "outputs": [],
   "source": [
    "batched_indices = torch.split(indices, split_size_or_sections=1000, dim=0)\n",
    "with Pool(24) as p:\n",
    "    images = p.map(batched_simulator, batched_indices)"
   ]
  },
  {
   "cell_type": "code",
   "execution_count": null,
   "id": "3333c40d-7f20-4d9e-9049-cb4f49721c37",
   "metadata": {},
   "outputs": [],
   "source": [
    "images = torch.cat(images, dim=0)"
   ]
  },
  {
   "cell_type": "code",
   "execution_count": null,
   "id": "a51be57a-fefd-42f7-92f6-e59ff604ab77",
   "metadata": {},
   "outputs": [],
   "source": [
    "theta_samples = []"
   ]
  },
  {
   "cell_type": "code",
   "execution_count": null,
   "id": "f1c977bb-673d-4b08-94c0-39d93c52c63b",
   "metadata": {},
   "outputs": [],
   "source": [
    "estimator.cuda()\n",
    "estimator.eval()\n",
    "batch_size = 1000\n",
    "batched_images = torch.split(images, split_size_or_sections=batch_size, dim=0)\n",
    "\n",
    "with torch.no_grad():\n",
    "    for batch in tqdm(batched_images, unit=\"batch\"):\n",
    "        theta_0 = prior.sample(\n",
    "            (512, batch.shape[0])\n",
    "        ).cuda()  # 1024 concurrent Markov chains\n",
    "\n",
    "        batch = estimator.embedding(batch.cuda())\n",
    "        log_p = (\n",
    "            lambda theta: estimator.nre(theta, batch.cuda())\n",
    "            + prior.log_prob(theta.cpu()).cuda()\n",
    "        )  # p(theta | x) = r(theta, x) p(theta)\n",
    "\n",
    "        sampler = MetropolisHastings(theta_0, log_f=log_p, sigma=0.6)\n",
    "        samples = torch.cat([theta for theta in sampler(512 + 1024, burn=1024, step=8)])\n",
    "        theta_samples.append(samples)"
   ]
  },
  {
   "cell_type": "code",
   "execution_count": null,
   "id": "1ae9f2ec-42c4-46d3-9f5c-be151d45866d",
   "metadata": {},
   "outputs": [],
   "source": [
    "samples = torch.cat(theta_samples, dim=1)"
   ]
  },
  {
   "cell_type": "code",
   "execution_count": null,
   "id": "4dee65aa-a740-407a-b9d1-67ea2523bae4",
   "metadata": {},
   "outputs": [],
   "source": [
    "mean_distance = (samples.mean(dim=0) - indices.reshape(-1)).numpy()"
   ]
  },
  {
   "cell_type": "code",
   "execution_count": null,
   "id": "b911fc2d-586a-404f-b749-e8b74db082c2",
   "metadata": {},
   "outputs": [],
   "source": [
    "posterior_quantiles = np.quantile(samples.numpy(), [0.025, 0.975], axis=0)\n",
    "confidence_widths = posterior_quantiles[1] - posterior_quantiles[0]"
   ]
  },
  {
   "cell_type": "code",
   "execution_count": null,
   "id": "4b687871-5b21-454b-8f23-f09d1de387f9",
   "metadata": {},
   "outputs": [],
   "source": [
    "_ = plt.hist(\n",
    "    mean_distance,\n",
    "    bins=np.arange(-20, 20, 0.2),\n",
    "    histtype=\"step\",\n",
    "    density=True,\n",
    "    linewidth=2,\n",
    ")\n",
    "plt.xlabel(\"Posterior mean - true index\")\n",
    "plt.savefig()"
   ]
  },
  {
   "cell_type": "code",
   "execution_count": null,
   "id": "c7f191d2-286f-461b-aaf8-289a1f08f43d",
   "metadata": {},
   "outputs": [],
   "source": [
    "_ = plt.hist(\n",
    "    confidence_widths,\n",
    "    bins=np.arange(0, 20, 0.4),\n",
    "    histtype=\"step\",\n",
    "    density=True,\n",
    "    linewidth=2,\n",
    ")\n",
    "plt.xlabel(r\"Width of $95\\%-$confidence intervall\")"
   ]
  },
  {
   "cell_type": "code",
   "execution_count": null,
   "id": "18bffaf8-6274-4fb8-9eec-07d10a6e7917",
   "metadata": {},
   "outputs": [],
   "source": [
    "plt.scatter(confidence_widths, np.abs(mean_distance), s=0.05)\n",
    "plt.plot([0, 10], [0, 10], linewidth=0.7, color=\"red\")\n",
    "plt.ylabel(\"|Posterior mean - true index|\")\n",
    "plt.xlabel(\"Width of $95\\%-$confidence intervall\")"
   ]
  },
  {
   "cell_type": "code",
   "execution_count": null,
   "id": "059750da-bf51-45ed-b61e-6d4a565371c1",
   "metadata": {},
   "outputs": [],
   "source": [
    "np.save(\"confidence_widths_snr01_wideres50_128.npy\", np.array(confidence_widths))\n",
    "np.save(\"mean_distance_snr01_wideres50_128.npy\", mean_distance)"
   ]
  },
  {
   "cell_type": "code",
   "execution_count": null,
   "id": "09d2bfa9-7758-40f0-a220-f527bb7f7d9a",
   "metadata": {},
   "outputs": [],
   "source": [
    "for file, name in zip(\n",
    "    [\n",
    "        \"confidence_widths_snr01_resnet.npy\",\n",
    "        \"confidence_widths_snr01_wideres50.npy\",\n",
    "        \"confidence_widths_snr10_deep_ce.npy\",\n",
    "        \"confidence_widths_snr01_wideres50_128.npy\",\n",
    "    ],\n",
    "    [\"SNR=0.1 Resnet\", \"SNR=1, Resnet\", \"SNR=10\", \"SNR=0.1 128x128\"],\n",
    "):\n",
    "    confidence_widths = np.load(file)\n",
    "    _ = plt.hist(\n",
    "        confidence_widths,\n",
    "        bins=np.arange(0, 20, 0.3),\n",
    "        histtype=\"step\",\n",
    "        density=True,\n",
    "        label=name,\n",
    "        linewidth=2,\n",
    "    )\n",
    "    plt.xlabel(r\"with of $95\\%-$confidence intervall\")\n",
    "plt.legend()\n",
    "# plt.savefig('Posterior_widths_SNR.pdf', dpi=300)"
   ]
  },
  {
   "cell_type": "markdown",
   "id": "f01ff907-0aa6-42c7-af38-d8a7774c3c1f",
   "metadata": {},
   "source": [
    "# Compare with bioEM calculations"
   ]
  },
  {
   "cell_type": "code",
   "execution_count": null,
   "id": "ef462556-3f7a-42fc-80de-5005f2617b8b",
   "metadata": {},
   "outputs": [],
   "source": [
    "image = np.genfromtxt(\n",
    "    f\"../../BioEM_production/hsp90_images/particle_from_16_snr1\", skip_header=1\n",
    ")"
   ]
  },
  {
   "cell_type": "code",
   "execution_count": null,
   "id": "ce542b12-9b16-4f7b-ac27-7ddb118a44bc",
   "metadata": {},
   "outputs": [],
   "source": [
    "image = torch.tensor(image[:, 2])"
   ]
  },
  {
   "cell_type": "code",
   "execution_count": null,
   "id": "ab8094f6-cbd4-4a9c-a85e-50b3dc319c12",
   "metadata": {},
   "outputs": [],
   "source": [
    "plt.imshow(image.reshape(64, 64))"
   ]
  },
  {
   "cell_type": "code",
   "execution_count": null,
   "id": "84043072-7d9b-4368-9057-61eb83d2fd6d",
   "metadata": {},
   "outputs": [],
   "source": [
    "assert np.isclose(image.std(), 1)"
   ]
  },
  {
   "cell_type": "code",
   "execution_count": null,
   "id": "8d52558e-549b-408d-bf69-dcdfa99cc5ef",
   "metadata": {},
   "outputs": [],
   "source": [
    "estimator.cuda()\n",
    "estimator.eval()\n",
    "thetas = torch.tensor(np.arange(0, 20, 1), dtype=torch.float).reshape(-1, 1)\n",
    "with torch.no_grad():\n",
    "    log_prob = estimator(thetas.cuda(), image.float().cuda()).cpu()"
   ]
  },
  {
   "cell_type": "code",
   "execution_count": null,
   "id": "e43be550-bdfc-4689-9fe4-e965ac34760f",
   "metadata": {},
   "outputs": [],
   "source": [
    "plt.plot(thetas.cpu(), log_prob)"
   ]
  },
  {
   "cell_type": "code",
   "execution_count": null,
   "id": "275012af-dff0-4cae-a966-1a500ac941ac",
   "metadata": {},
   "outputs": [],
   "source": [
    "np.savez_compressed(\n",
    "    \"posterior_lampe_large_deep_ce_snr01_16\",\n",
    "    theta=thetas.cpu().numpy(),\n",
    "    log_prob=log_prob.numpy(),\n",
    ")"
   ]
  },
  {
   "cell_type": "markdown",
   "id": "a890dc7a-5881-46fa-9ac2-c5a9379d7834",
   "metadata": {},
   "source": [
    "## Compute posterior calibration"
   ]
  },
  {
   "cell_type": "code",
   "execution_count": null,
   "id": "076e5567-6962-4652-a1df-c362cf8e3728",
   "metadata": {},
   "outputs": [],
   "source": [
    "from lampe.data import JointLoader\n",
    "from priors import get_unirom_prior_1d\n",
    "from lampe.diagnostics import expected_coverage_ni\n",
    "from lampe.plots import coverage_plot\n",
    "from itertools import islice"
   ]
  },
  {
   "cell_type": "code",
   "execution_count": null,
   "id": "813d38ab-2cf4-48bc-8b08-7d928b244870",
   "metadata": {},
   "outputs": [],
   "source": [
    "loader = JointLoader(\n",
    "    get_unirom_prior_1d(),\n",
    "    cryosbi.simulator,\n",
    "    vectorized=True,\n",
    "    batch_size=1,\n",
    "    num_workers=24,\n",
    "    prefetch_factor=1,\n",
    ")"
   ]
  },
  {
   "cell_type": "code",
   "execution_count": null,
   "id": "5bfb7150-5ed0-4d17-a31a-54be434b2ff9",
   "metadata": {},
   "outputs": [],
   "source": [
    "estimator.cuda()\n",
    "estimator.eval()\n",
    "\n",
    "log_p = (\n",
    "    lambda theta, x: estimator(theta.cuda(), x.cuda())\n",
    "    + prior.log_prob(theta.cpu()).cuda()\n",
    ")\n",
    "nre_levels, nre_coverages = expected_coverage_ni(\n",
    "    log_p, loader, (torch.tensor([0.0]), torch.tensor([19.0]))\n",
    ")\n",
    "\n",
    "fig = coverage_plot(levels, coverages, legend=\"NRE\")\n",
    "# fig.savefig('sbc_posterior.pdf', dpi=600)"
   ]
  }
 ],
 "metadata": {
  "kernelspec": {
   "display_name": "cryo_sbi",
   "language": "python",
   "name": "cryo_sbi"
  },
  "language_info": {
   "codemirror_mode": {
    "name": "ipython",
    "version": 3
   },
   "file_extension": ".py",
   "mimetype": "text/x-python",
   "name": "python",
   "nbconvert_exporter": "python",
   "pygments_lexer": "ipython3",
   "version": "3.10.0 (default, Mar  3 2022, 09:58:08) [GCC 7.5.0]"
  },
  "vscode": {
   "interpreter": {
    "hash": "1391d301e9aa4dc24331c4a52095d8473e5107d84c03241f78234deb9fd2437e"
   }
  },
  "widgets": {
   "application/vnd.jupyter.widget-state+json": {
    "state": {},
    "version_major": 2,
    "version_minor": 0
   }
  }
 },
 "nbformat": 4,
 "nbformat_minor": 5
}

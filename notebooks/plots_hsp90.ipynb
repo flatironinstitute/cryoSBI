{
 "cells": [
  {
   "cell_type": "code",
   "execution_count": null,
   "id": "c11d3bbe-f081-467b-9a51-f993cd7dea8a",
   "metadata": {},
   "outputs": [],
   "source": [
    "import matplotlib.pyplot as plt\n",
    "import numpy as np\n",
    "import torch\n",
    "\n",
    "from cryo_sbi.inference.models import build_models\n",
    "from cryo_sbi import CryoEmSimulator\n",
    "from cryo_sbi.inference import priors"
   ]
  },
  {
   "cell_type": "code",
   "execution_count": null,
   "id": "adc58c11",
   "metadata": {},
   "outputs": [],
   "source": [
    "file_name = '23_03_09_results'    # File name \n",
    "data_dir = \"../experiments/benchmark_hsp90/results/raw_results/\"\n",
    "plot_dir = \"../experiments/benchmark_hsp90/results/plots/\"\n",
    "config_dir = \"../experiments/benchmark_hsp90/\"\n",
    "num_samples_stats = 20000           # Number of simulations for computing posterior stats\n",
    "num_samples_SBC = 10000             # Number of simulations for SBC\n",
    "num_posterior_samples_SBC = 4096    # Number of posterior samples for each SBC simulation\n",
    "num_samples_posterior = 50000       # Number of samples to draw from posterior\n",
    "batch_size_sampling = 100           # Batch size for sampling posterior\n",
    "num_workers = 24                    # Number of CPU cores\n",
    "device = 'cuda'                     # Device for computations\n",
    "save_data = False\n",
    "save_figures = False"
   ]
  },
  {
   "cell_type": "code",
   "execution_count": null,
   "id": "83b79b4a",
   "metadata": {},
   "outputs": [],
   "source": [
    "results_fig2b = torch.load(\"../experiments/benchmark_hsp90/results/raw_data/23_04_03_final_posterior_snr01_examples.pt\")"
   ]
  },
  {
   "cell_type": "code",
   "execution_count": null,
   "id": "c987c2d7",
   "metadata": {},
   "outputs": [],
   "source": [
    "fig , axes = plt.subplots(1, 3, figsize=(10, 3))\n",
    "idxs = [5, 11, 18]\n",
    "inset_x = [0.5, 0.05, 0.05]\n",
    "for idx, ax in enumerate(axes):\n",
    "    ax.hist(\n",
    "        results_fig2b['posterior_samples'][:, idxs[idx]].flatten().numpy(),\n",
    "        bins=np.arange(0, 20, 0.3),\n",
    "        histtype=\"step\",\n",
    "        color=\"blue\",\n",
    "        linewidth=1.1\n",
    "    )\n",
    "    ax.set_yticks([])\n",
    "    ax.set_xlabel(r'$\\phi$', fontsize=18)\n",
    "    ax.axvline(results_fig2b['indices'][idxs[idx]], color='red')\n",
    "    ax_inset = ax.inset_axes((inset_x[idx], 0.30, 0.4, 0.90))\n",
    "    ax_inset.set_xticks([])\n",
    "    ax_inset.set_yticks([])\n",
    "    ax_inset.imshow(results_fig2b[\"images\"][idxs[idx]])\n",
    "\n",
    "if save_figures:\n",
    "    plt.savefig('../data/trained_posteriors/benchmark_hsp90/results/plots/fig1_b.pdf', dpi=400, bbox_inches='tight')"
   ]
  },
  {
   "cell_type": "code",
   "execution_count": null,
   "id": "0ec65501",
   "metadata": {},
   "outputs": [],
   "source": [
    "del results_fig2b"
   ]
  },
  {
   "cell_type": "code",
   "execution_count": null,
   "id": "1d2d8e17",
   "metadata": {},
   "outputs": [],
   "source": [
    "results_fig2c = torch.load(\"../experiments/benchmark_hsp90/results/raw_data/23_04_03_final_posteriorstats_training.pt\")"
   ]
  },
  {
   "cell_type": "code",
   "execution_count": null,
   "id": "f2b82588",
   "metadata": {},
   "outputs": [],
   "source": [
    "mean_distance, confidence_widths = results_fig2c"
   ]
  },
  {
   "cell_type": "code",
   "execution_count": null,
   "id": "d5f080f4",
   "metadata": {},
   "outputs": [],
   "source": [
    "mean_distance = (results_fig2c['posterior_samples'].mean(dim=0) - results_fig2c['indices'].reshape(-1)).numpy()\n",
    "posterior_quantiles = np.quantile(results_fig2c['posterior_samples'].numpy(), [0.025, 0.975], axis=0)\n",
    "confidence_widths = (posterior_quantiles[1] - posterior_quantiles[0]).flatten()"
   ]
  },
  {
   "cell_type": "code",
   "execution_count": null,
   "id": "06d4157a",
   "metadata": {},
   "outputs": [],
   "source": [
    "fig, (ax1, ax2) = plt.subplots(1, 2, figsize=(10, 5))\n",
    "_ = ax1.hist(mean_distance, bins=np.arange(-10, 10, 0.2), density=True)\n",
    "_ = ax2.hist(confidence_widths, bins=np.arange(0, 20, 0.5), density=True)\n",
    "ax1.set_xlabel(r'$\\overline{\\phi} - \\phi_{True}$', fontsize=13)\n",
    "ax2.set_xlabel(r'Width of 3$\\sigma$-confidence-intervall', fontsize=13)\n",
    "ax1.set_yticklabels([])\n",
    "ax2.set_yticklabels([])\n",
    "if save_figures:\n",
    "    fig.savefig('../data/trained_posteriors/benchmark_hsp90/results/plots/fig1_c.pdf')"
   ]
  },
  {
   "cell_type": "code",
   "execution_count": null,
   "id": "5968c2d9",
   "metadata": {},
   "outputs": [],
   "source": [
    "del results_fig2c"
   ]
  },
  {
   "cell_type": "code",
   "execution_count": null,
   "id": "d85da3cc",
   "metadata": {},
   "outputs": [],
   "source": [
    "labels = [f'{snr:.2f}' for snr in np.logspace(np.log10(0.5), -2, 5)]\n",
    "fig, axes = plt.subplots(1, 4, figsize=(17, 5), sharex=True, sharey=True)\n",
    "for idx, defoc in enumerate(np.linspace(0.5, 2, 4)):\n",
    "    data = []\n",
    "    for snr in np.logspace(np.log10(0.5), -2, 5):\n",
    "        mean_diff, confidence = torch.load(f'../experiments/benchmark_hsp90/results/raw_data/23_03_21_final_posteriorstats_snr={round(snr, 2)}_defocus={defoc}.pt')\n",
    "        data.append(confidence)\n",
    "    axes[idx].violinplot(data, vert=False, showextrema=False)\n",
    "    if defoc == 0.5:\n",
    "        axes[idx].set_yticks([1, 2, 3, 4, 5])\n",
    "        axes[idx].set_yticklabels(labels)\n",
    "    axes[idx].set_title(f'Defocus = {defoc}', fontsize=14)\n",
    "#axes[0].set_xlabel(r'$3\\sigma$-confidence width', fontsize=14)\n",
    "axes[0].set_xlabel(r'Width of 3$\\sigma$-confidence-intervall', fontsize=14)\n",
    "axes[0].set_ylabel('SNR', fontsize=14)\n",
    "#fig.savefig('../experiments/benchmark_hsp90/results/plots/DEFOCUS_SNR_VIOLIN_mean.pdf', dpi=500)"
   ]
  },
  {
   "cell_type": "code",
   "execution_count": null,
   "id": "ba103664",
   "metadata": {},
   "outputs": [],
   "source": [
    "labels = [f'{snr:.2f}' for snr in np.logspace(np.log10(0.5), -2, 5)]\n",
    "fig, axes = plt.subplots(1, 4, figsize=(17, 5), sharex=True, sharey=True)\n",
    "for idx, defoc in enumerate(np.linspace(0.5, 2, 4)):\n",
    "    data = []\n",
    "    for snr in np.logspace(np.log10(0.5), -2, 5):\n",
    "        mean_diff, confidence = torch.load(f'../experiments/benchmark_hsp90/results/raw_data/23_03_21_final_posteriorstats_snr={round(snr, 2)}_defocus={defoc}.pt')\n",
    "        data.append(mean_diff)\n",
    "    axes[idx].violinplot(data, vert=False, showextrema=False)\n",
    "    if defoc == 0.5:\n",
    "        axes[idx].set_yticks([1, 2, 3, 4, 5])\n",
    "        axes[idx].set_yticklabels(labels)\n",
    "    axes[idx].set_title(f'Defocus = {defoc}', fontsize=14)\n",
    "#axes[0].set_xlabel(r'$3\\sigma$-confidence width', fontsize=14)\n",
    "axes[0].set_xlabel(r'$\\overline{\\phi} - \\phi_{True}$', fontsize=14)\n",
    "axes[0].set_ylabel('SNR', fontsize=14)\n",
    "#fig.savefig('../experiments/benchmark_hsp90/results/plots/DEFOCUS_SNR_VIOLIN_mean.pdf', dpi=500)"
   ]
  },
  {
   "cell_type": "code",
   "execution_count": null,
   "id": "100234f2",
   "metadata": {},
   "outputs": [],
   "source": [
    "results_fig2d = torch.load(\"../experiments/benchmark_hsp90/results/raw_data/23_04_03_final_posterior_quats.pt\")\n",
    "quats = np.load('quaternion_list.npy')"
   ]
  },
  {
   "cell_type": "code",
   "execution_count": null,
   "id": "b17a1240",
   "metadata": {},
   "outputs": [],
   "source": [
    "mean_distance = (results_fig2d['posterior_samples'].mean(dim=0) - results_fig2d['indices'].reshape(-1)).numpy()\n",
    "posterior_quantiles = np.quantile(results_fig2d['posterior_samples'].numpy(), [0.025, 0.975], axis=0)\n",
    "confidence_widths = (posterior_quantiles[1] - posterior_quantiles[0]).flatten()"
   ]
  },
  {
   "cell_type": "code",
   "execution_count": null,
   "id": "c069b3dc",
   "metadata": {},
   "outputs": [],
   "source": [
    "quats = np.load('quaternion_list.npy')"
   ]
  },
  {
   "cell_type": "code",
   "execution_count": null,
   "id": "9cfd433e",
   "metadata": {},
   "outputs": [],
   "source": [
    "import matplotlib.pyplot as plt\n",
    "from matplotlib import cm, colors\n",
    "from mpl_toolkits.mplot3d import Axes3D\n",
    "import numpy as np\n",
    "from scipy.spatial.transform import Rotation\n",
    "\n",
    "# Create a sphere\n",
    "r = 1\n",
    "pi = np.pi\n",
    "cos = np.cos\n",
    "sin = np.sin\n",
    "phi, theta = np.mgrid[0.0:pi:100j, 0.0:2.0*pi:100j]\n",
    "x = r*sin(phi)*cos(theta)\n",
    "y = r*sin(phi)*sin(theta)\n",
    "z = r*cos(phi)\n",
    "\n",
    "unit_vecotr = np.array([0, 0, 1])\n",
    "points = []\n",
    "for i in range(len(quats)):\n",
    "    rot_mat = Rotation.from_quat(quats[i]).as_matrix()\n",
    "    coord = np.matmul(rot_mat, unit_vecotr)\n",
    "    points.append(coord)\n",
    "points = np.array(points)\n",
    "\n",
    "xx = points[:, 0]\n",
    "yy = points[:, 1]\n",
    "zz = points[:, 2]\n",
    "\n",
    "#Set colours and render\n",
    "fig = plt.figure()\n",
    "ax = fig.add_subplot(111, projection='3d')\n",
    "\n",
    "#ax.plot_surface(\n",
    "#    x, y, z,  rstride=1, cstride=1, color='c', alpha=0.3, linewidth=0)\n",
    "\n",
    "im = ax.scatter(xx, yy, zz, s=0.1)\n",
    "\n",
    "ax.set_xlabel('x')\n",
    "ax.set_ylabel('y')\n",
    "#ax.set_zlabel('z')\n",
    "ax.set_xticklabels([])\n",
    "ax.set_yticklabels([])\n",
    "ax.set_zticklabels([])\n",
    "\n",
    "ax.azim = -40\n",
    "ax.elev = 30\n",
    "ax.dist = 10\n",
    "\n",
    "fig.colorbar(im)\n",
    "\n",
    "ax.set_xlim([-1,1])\n",
    "ax.set_ylim([-1,1])\n",
    "ax.set_zlim([-1,1])\n",
    "ax.set_aspect(\"auto\")\n",
    "plt.tight_layout()\n",
    "plt.show()\n",
    "#plt.savefig(\"rotation_posterior_widths_snr001_widres50_128x128.pdf\", dpi=600)"
   ]
  },
  {
   "cell_type": "code",
   "execution_count": null,
   "id": "cbff90d3",
   "metadata": {},
   "outputs": [],
   "source": [
    "def asSpherical(xyz):\n",
    "    x       = xyz[0]\n",
    "    y       = xyz[1]\n",
    "    z       = xyz[2]\n",
    "    r       =  np.sqrt(x*x + y*y + z*z)\n",
    "    theta   =  np.arccos(z/r)\n",
    "    phi     =  np.arctan2(y,x)\n",
    "    return [r,theta,phi]\n",
    "\n",
    "coordinates = np.array([asSpherical(point)[1:] for point in points])"
   ]
  },
  {
   "cell_type": "code",
   "execution_count": null,
   "id": "3e60963a",
   "metadata": {},
   "outputs": [],
   "source": [
    "unit_vecotr = np.array([0, 0, 60])\n",
    "points = []\n",
    "for i in np.where(confidence_widths < 2.4)[0]:\n",
    "    rot_mat = Rotation.from_quat(quats[i]).as_matrix()\n",
    "    coord = np.matmul(rot_mat, unit_vecotr)\n",
    "    points.append(coord)\n",
    "points = np.array(points)\n",
    "\n",
    "x1 = points[:, 0]\n",
    "y1 = points[:, 1]\n",
    "z1 = points[:, 2]\n"
   ]
  },
  {
   "cell_type": "code",
   "execution_count": null,
   "id": "15fdf6e5",
   "metadata": {},
   "outputs": [],
   "source": [
    "xx, yy, zz = np.load(\"../data/protein_models/hsp90_models.npy\")[0, :][19]\n",
    "\n",
    "fig = plt.figure()\n",
    "ax = fig.add_subplot(111, projection='3d')\n",
    "ax.azim = 190\n",
    "ax.elev = 10\n",
    "#ax.plot_surface(\n",
    "#    x, y, z,  rstride=1, cstride=1, color='c', alpha=0.3, linewidth=0)\n",
    "\n",
    "im = ax.scatter(xx, yy, zz, s=5)\n",
    "#im = ax.scatter(x1, y1, z1, s=1)\n"
   ]
  },
  {
   "cell_type": "code",
   "execution_count": null,
   "id": "16dfdbe1",
   "metadata": {},
   "outputs": [],
   "source": [
    "xx, yy, zz = np.load(\"../data/protein_models/hsp90_models.npy\")[:, 0][19]\n",
    "\n",
    "fig = plt.figure()\n",
    "ax = fig.add_subplot(111, projection='3d')\n",
    "ax.azim = 190\n",
    "ax.elev = 10\n",
    "#ax.plot_surface(\n",
    "#    x, y, z,  rstride=1, cstride=1, color='c', alpha=0.3, linewidth=0)\n",
    "\n",
    "im = ax.scatter(xx, yy, zz, s=5)\n",
    "#im = ax.scatter(x1, y1, z1, s=1)\n"
   ]
  },
  {
   "cell_type": "code",
   "execution_count": null,
   "id": "f7edaf11",
   "metadata": {},
   "outputs": [],
   "source": [
    "xx, yy, zz = np.load(\"../data/protein_models/hsp90_models.npy\")[0, 0]\n",
    "\n",
    "fig = plt.figure()\n",
    "ax = fig.add_subplot(111, projection='3d')\n",
    "ax.azim = 190\n",
    "ax.elev = 10\n",
    "#ax.plot_surface(\n",
    "#    x, y, z,  rstride=1, cstride=1, color='c', alpha=0.3, linewidth=0)\n",
    "\n",
    "im = ax.scatter(xx, yy, zz, s=5)"
   ]
  },
  {
   "cell_type": "code",
   "execution_count": null,
   "id": "50ae77e6",
   "metadata": {},
   "outputs": [],
   "source": [
    "fig , ax = plt.subplots(1, 1, figsize=(7, 4))\n",
    "\n",
    "scatter_plot = ax.scatter(coordinates[:, 1], coordinates[:, 0], s=0.5*confidence_widths, c=confidence_widths)\n",
    "cbar = fig.colorbar(scatter_plot)\n",
    "cbar.set_label(label=r'Width of 3$\\sigma$-confidence-intervall',size=13)\n",
    "cbar.ax.tick_params(labelsize=12)\n",
    "ax.set_ylabel(r'$\\theta$', fontsize=18)\n",
    "ax.set_xlabel(r'$\\varphi$', fontsize=18)\n",
    "ax.set_yticks(\n",
    "    ticks=[0, np.pi / 4, np.pi / 2, 3 * np.pi / 4, np.pi],\n",
    "    labels=['0', r'$\\frac{1}{4}\\pi$', r'$\\frac{1}{2}\\pi$', r'$\\frac{3}{4}\\pi$', r'$\\pi$'],\n",
    "    fontsize=12\n",
    ")\n",
    "ax.set_xticks(\n",
    "    ticks=[-np.pi, -np.pi/2 ,0, np.pi/2 ,np.pi],\n",
    "    labels=[r'$-\\pi$', r'$-\\frac{1}{2}\\pi$', r'0', r'$\\frac{1}{2}\\pi$', r'$\\pi$'],\n",
    "    fontsize=12\n",
    ")\n",
    "\n",
    "if save_figures:\n",
    "    plt.savefig(f'../../cryo_sbi_experimental/data/trained_posteriors/benchmark_hsp90/results/plots/fig2d.pdf', dpi=400, bbox_inches='tight')"
   ]
  },
  {
   "cell_type": "code",
   "execution_count": null,
   "id": "670d1bdc",
   "metadata": {},
   "outputs": [],
   "source": [
    "gaussian_posterior = torch.load(\"../experiments/benchmark_hsp90/results/raw_data/23_03_21_final_posterior_gaussian_stats.pt\")\n",
    "colored_posterior = torch.load(\"../experiments/benchmark_hsp90/results/raw_data/23_03_21_final_posterior_colored_stats.pt\")\n",
    "gradient_posterior = torch.load(\"../experiments/benchmark_hsp90/results/raw_data/23_03_21_final_posterior_gradient_stats.pt\")"
   ]
  },
  {
   "cell_type": "code",
   "execution_count": null,
   "id": "d05fa775",
   "metadata": {},
   "outputs": [],
   "source": [
    "samples = gaussian_posterior['posterior_samples']\n",
    "indices = gaussian_posterior['indices']\n",
    "mean_distance_gaussian = (samples.mean(dim=0) - indices.reshape(-1)).numpy()\n",
    "posterior_quantiles = np.quantile(samples.numpy(), [0.025, 0.975], axis=0)\n",
    "confidence_widths_gaussian = (posterior_quantiles[1] - posterior_quantiles[0]).flatten()"
   ]
  },
  {
   "cell_type": "code",
   "execution_count": null,
   "id": "268d59e4",
   "metadata": {},
   "outputs": [],
   "source": [
    "samples = colored_posterior['posterior_samples']\n",
    "indices = colored_posterior['indices']\n",
    "mean_distance_colored = (samples.mean(dim=0) - indices.reshape(-1)).numpy()\n",
    "posterior_quantiles = np.quantile(samples.numpy(), [0.025, 0.975], axis=0)\n",
    "confidence_widths_colored = (posterior_quantiles[1] - posterior_quantiles[0]).flatten()"
   ]
  },
  {
   "cell_type": "code",
   "execution_count": null,
   "id": "10a25f59",
   "metadata": {},
   "outputs": [],
   "source": [
    "samples = gradient_posterior['posterior_samples']\n",
    "indices = gradient_posterior['indices']\n",
    "mean_distance_gradient = (samples.mean(dim=0) - indices.reshape(-1)).numpy()\n",
    "posterior_quantiles = np.quantile(samples.numpy(), [0.025, 0.975], axis=0)\n",
    "confidence_widths_gradient = (posterior_quantiles[1] - posterior_quantiles[0]).flatten()"
   ]
  },
  {
   "cell_type": "code",
   "execution_count": null,
   "id": "d276e33a",
   "metadata": {},
   "outputs": [],
   "source": [
    "gaussian_sbc = torch.load(\"../experiments/benchmark_hsp90/results/raw_data/23_03_21_final_posterior_gaussian_SBC.pt\")\n",
    "colored_sbc = torch.load(\"../experiments/benchmark_hsp90/results/raw_data/23_03_21_final_posterior_colored_SBC.pt\")\n",
    "gradient_sbc = torch.load(\"../experiments/benchmark_hsp90/results/raw_data/23_03_21_final_posterior_gradient_SBC.pt\")\n",
    "\n",
    "levels = torch.stack([gaussian_sbc['levels'], colored_sbc['levels'], gradient_sbc['levels']], dim=1)\n",
    "coverages = torch.stack([gaussian_sbc['coverages'], colored_sbc['coverages'], gradient_sbc['coverages']], dim=1)"
   ]
  },
  {
   "cell_type": "code",
   "execution_count": null,
   "id": "904eefa6",
   "metadata": {},
   "outputs": [],
   "source": [
    "fig, axes = plt.subplots(1, 3, figsize=(14, 4))\n",
    "\n",
    "axes[0].hist(mean_distance_gaussian, bins=np.arange(-10, 10, 0.5), histtype='step', density=True, label='Gaussain', linewidth=2)\n",
    "axes[0].hist(mean_distance_colored, bins=np.arange(-10, 10, 0.5), histtype='step', density=True, label='Colored', linewidth=2)\n",
    "axes[0].hist(mean_distance_gradient, bins=np.arange(-10, 10, 0.5), histtype='step', density=True, label='Gradient', linewidth=2)\n",
    "axes[0].set_xlabel(r'$\\overline{\\phi} - \\phi_{True}$', fontsize=13)\n",
    "axes[0].set_yticklabels([])\n",
    "\n",
    "axes[1].hist(confidence_widths_gaussian, bins=np.arange(0, 20, 0.5), histtype='step', density=True, label='Gaussian', linewidth=2)\n",
    "axes[1].hist(confidence_widths_colored, bins=np.arange(0, 20, 0.5), histtype='step', density=True, label='Colored', linewidth=2)\n",
    "axes[1].hist(confidence_widths_gradient, bins=np.arange(0, 20, 0.5), histtype='step', density=True, label='Gradient', linewidth=2)\n",
    "axes[1].set_xlabel(r'Width of 3$\\sigma$-confidence intervall', fontsize=13)\n",
    "axes[1].set_yticklabels([])\n",
    "axes[1].legend(fontsize=13)\n",
    "\n",
    "axes[2].plot(levels, coverages)\n",
    "axes[2].plot([0, 1], [0, 1], linestyle=\"--\", linewidth=2, color=\"black\")\n",
    "axes[2].set_xlabel('Credible level', fontsize=13)\n",
    "axes[2].set_ylabel('Expected coverage', fontsize=13)\n",
    "\n",
    "fig.savefig(f'{plot_dir}hsp90_noise_missspecification.pdf', dpi=400)"
   ]
  },
  {
   "cell_type": "code",
   "execution_count": null,
   "id": "ba83cade",
   "metadata": {},
   "outputs": [],
   "source": [
    "fig, axes = plt.subplots(2, 3, figsize=(10, 5))\n",
    "\n",
    "axes[0, 0].set_title('Gaussian noise')\n",
    "axes[0, 0].imshow(gaussian_posterior['images'][0])\n",
    "axes[1, 0].hist(gaussian_posterior['posterior_samples'][:, 0], bins=np.arange(0, 20, 0.2), histtype='step')\n",
    "axes[1, 0].axvline(gaussian_posterior['indices'][0], color='red')\n",
    "axes[1, 0].set_yticks([])\n",
    "axes[1, 0].set_xlabel(r'$\\phi$', fontsize=13)\n",
    "\n",
    "axes[0, 1].set_title('Colored noise')\n",
    "axes[0, 1].imshow(colored_posterior['images'][13])\n",
    "axes[1, 1].hist(colored_posterior['posterior_samples'][:, 13], bins=np.arange(0, 20, 0.2), histtype='step')\n",
    "axes[1, 1].axvline(colored_posterior['indices'][13], color='red')\n",
    "axes[1, 1].set_yticks([])\n",
    "axes[1, 1].set_xlabel(r'$\\phi$', fontsize=13)\n",
    "\n",
    "axes[0, 2].set_title('Gradient noise')\n",
    "axes[0, 2].imshow(gradient_posterior['images'][20])\n",
    "axes[1, 2].hist(gradient_posterior['posterior_samples'][:, 20], bins=np.arange(0, 20, 0.2), histtype='step')\n",
    "axes[1, 2].axvline(gradient_posterior['indices'][20], color='red')\n",
    "axes[1, 2].set_yticks([])\n",
    "axes[1, 2].set_xlabel(r'$\\phi$', fontsize=13)\n",
    "\n",
    "for ax in axes[0]:\n",
    "    ax.set_yticks([])\n",
    "    ax.set_xticks([])\n",
    "\n",
    "#fig.savefig(f'{plot_dir}hsp90_noise_example_particles.pdf', dpi=400)"
   ]
  },
  {
   "cell_type": "code",
   "execution_count": null,
   "id": "e51efa1c",
   "metadata": {},
   "outputs": [],
   "source": []
  }
 ],
 "metadata": {
  "kernelspec": {
   "display_name": "cryo_sbi",
   "language": "python",
   "name": "python3"
  },
  "language_info": {
   "codemirror_mode": {
    "name": "ipython",
    "version": 3
   },
   "file_extension": ".py",
   "mimetype": "text/x-python",
   "name": "python",
   "nbconvert_exporter": "python",
   "pygments_lexer": "ipython3",
   "version": "3.10.0 (default, Mar  3 2022, 09:58:08) [GCC 7.5.0]"
  },
  "vscode": {
   "interpreter": {
    "hash": "1391d301e9aa4dc24331c4a52095d8473e5107d84c03241f78234deb9fd2437e"
   }
  },
  "widgets": {
   "application/vnd.jupyter.widget-state+json": {
    "state": {},
    "version_major": 2,
    "version_minor": 0
   }
  }
 },
 "nbformat": 4,
 "nbformat_minor": 5
}

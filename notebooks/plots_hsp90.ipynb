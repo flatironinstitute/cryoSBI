{
 "cells": [
  {
   "cell_type": "code",
   "execution_count": null,
   "id": "c11d3bbe-f081-467b-9a51-f993cd7dea8a",
   "metadata": {},
   "outputs": [],
   "source": [
    "import matplotlib.pyplot as plt\n",
    "import numpy as np\n",
    "import torch\n",
    "import json\n",
    "from multiprocessing import Pool\n",
    "from lampe.data import JointLoader\n",
    "from itertools import islice\n",
    "from tqdm import tqdm\n",
    "from lampe.diagnostics import expected_coverage_mc\n",
    "from lampe.plots import coverage_plot\n",
    "\n",
    "import sys\n",
    "sys.path.insert(0, \"../scr/cryo_sbi/inference/\")\n",
    "sys.path.insert(0, \"../scr/cryo_sbi/inference/models\")\n",
    "sys.path.insert(0, \"../scr/cryo_sbi/wpa_simulator/\")\n",
    "\n",
    "from models import build_models\n",
    "from cryo_em_simulator import CryoEmSimulator\n",
    "import priors"
   ]
  },
  {
   "cell_type": "code",
   "execution_count": null,
   "id": "adc58c11",
   "metadata": {},
   "outputs": [],
   "source": [
    "file_name = '23_03_09_results'    # File name \n",
    "data_dir = \"../experiments/benchmark_hsp90/results/raw_results/\"\n",
    "plot_dir = \"../experiments/benchmark_hsp90/results/plots/\"\n",
    "config_dir = \"../experiments/benchmark_hsp90/\"\n",
    "num_samples_stats = 20000           # Number of simulations for computing posterior stats\n",
    "num_samples_SBC = 10000             # Number of simulations for SBC\n",
    "num_posterior_samples_SBC = 4096    # Number of posterior samples for each SBC simulation\n",
    "num_samples_posterior = 50000       # Number of samples to draw from posterior\n",
    "batch_size_sampling = 100           # Batch size for sampling posterior\n",
    "num_workers = 24                    # Number of CPU cores\n",
    "device = 'cuda'                     # Device for computations\n",
    "save_data = False\n",
    "save_figures = False"
   ]
  },
  {
   "cell_type": "code",
   "execution_count": null,
   "id": "83b79b4a",
   "metadata": {},
   "outputs": [],
   "source": [
    "results_fig2b = torch.load(\"../experiments/benchmark_hsp90/results/raw_data/23_03_09_results_snr01_examples.pt\")"
   ]
  },
  {
   "cell_type": "code",
   "execution_count": null,
   "id": "c987c2d7",
   "metadata": {},
   "outputs": [],
   "source": [
    "fig , axes = plt.subplots(1, 3, figsize=(10, 3))\n",
    "idxs = [7, 12, 4]\n",
    "inset_x = [0.5, 0.05, 0.5]\n",
    "for idx, ax in enumerate(axes):\n",
    "    ax.hist(\n",
    "        results_fig2b['posterior_samples'][:, idxs[idx]].flatten().numpy(),\n",
    "        bins=np.arange(0, 20, 0.3),\n",
    "        histtype=\"step\",\n",
    "        color=\"blue\",\n",
    "        linewidth=1.1\n",
    "    )\n",
    "    ax.set_yticks([])\n",
    "    ax.set_xlabel(r'$\\phi$', fontsize=18)\n",
    "    ax.axvline(results_fig2b['indices'][idxs[idx]], color='red')\n",
    "    ax_inset = ax.inset_axes((inset_x[idx], 0.30, 0.4, 0.90))\n",
    "    ax_inset.set_xticks([])\n",
    "    ax_inset.set_yticks([])\n",
    "    ax_inset.imshow(results_fig2b[\"images\"][idx])\n",
    "\n",
    "if save_figures:\n",
    "    plt.savefig('../data/trained_posteriors/benchmark_hsp90/results/plots/fig1_b.pdf', dpi=400, bbox_inches='tight')"
   ]
  },
  {
   "cell_type": "code",
   "execution_count": null,
   "id": "0ec65501",
   "metadata": {},
   "outputs": [],
   "source": [
    "del results_fig2b"
   ]
  },
  {
   "cell_type": "code",
   "execution_count": null,
   "id": "1d2d8e17",
   "metadata": {},
   "outputs": [],
   "source": [
    "results_fig2c = torch.load(\"../experiments/benchmark_hsp90/results/raw_data/23_03_09_results_stats.pt\")"
   ]
  },
  {
   "cell_type": "code",
   "execution_count": null,
   "id": "d5f080f4",
   "metadata": {},
   "outputs": [],
   "source": [
    "mean_distance = (results_fig2c['posterior_samples'].mean(dim=0) - results_fig2c['indices'].reshape(-1)).numpy()\n",
    "posterior_quantiles = np.quantile(results_fig2c['posterior_samples'].numpy(), [0.025, 0.975], axis=0)\n",
    "confidence_widths = (posterior_quantiles[1] - posterior_quantiles[0]).flatten()"
   ]
  },
  {
   "cell_type": "code",
   "execution_count": null,
   "id": "06d4157a",
   "metadata": {},
   "outputs": [],
   "source": [
    "fig, (ax1, ax2) = plt.subplots(1, 2, figsize=(10, 5))\n",
    "_ = ax1.hist(mean_distance, bins=np.arange(-5, 5, 0.2), density=True)\n",
    "_ = ax2.hist(confidence_widths, bins=np.arange(0, 15, 0.4), density=True)\n",
    "ax1.set_xlabel('Posterior mean - True conformation', fontsize=13)\n",
    "ax2.set_xlabel(r'Width of 3$\\sigma$-confidence-intervall', fontsize=13)\n",
    "ax1.set_yticklabels([])\n",
    "ax2.set_yticklabels([])\n",
    "if save_figures:\n",
    "    fig.savefig('../data/trained_posteriors/benchmark_hsp90/results/plots/fig1_c.pdf')"
   ]
  },
  {
   "cell_type": "code",
   "execution_count": null,
   "id": "5968c2d9",
   "metadata": {},
   "outputs": [],
   "source": [
    "del results_fig2c"
   ]
  },
  {
   "cell_type": "code",
   "execution_count": null,
   "id": "100234f2",
   "metadata": {},
   "outputs": [],
   "source": [
    "results_fig2d = torch.load(\"../experiments/benchmark_hsp90/results/raw_data/23_03_09_results_quats.pt\")\n",
    "quats = np.load('../notebooks/quaternion_list.npy')"
   ]
  },
  {
   "cell_type": "code",
   "execution_count": null,
   "id": "b17a1240",
   "metadata": {},
   "outputs": [],
   "source": [
    "mean_distance = (results_fig2d['posterior_samples'].mean(dim=0) - results_fig2d['indices'].reshape(-1)).numpy()\n",
    "posterior_quantiles = np.quantile(results_fig2d['posterior_samples'].numpy(), [0.025, 0.975], axis=0)\n",
    "confidence_widths = (posterior_quantiles[1] - posterior_quantiles[0]).flatten()"
   ]
  },
  {
   "cell_type": "code",
   "execution_count": null,
   "id": "9cfd433e",
   "metadata": {},
   "outputs": [],
   "source": [
    "import matplotlib.pyplot as plt\n",
    "from matplotlib import cm, colors\n",
    "from mpl_toolkits.mplot3d import Axes3D\n",
    "import numpy as np\n",
    "from scipy.spatial.transform import Rotation\n",
    "\n",
    "# Create a sphere\n",
    "r = 1\n",
    "pi = np.pi\n",
    "cos = np.cos\n",
    "sin = np.sin\n",
    "phi, theta = np.mgrid[0.0:pi:100j, 0.0:2.0*pi:100j]\n",
    "x = r*sin(phi)*cos(theta)\n",
    "y = r*sin(phi)*sin(theta)\n",
    "z = r*cos(phi)\n",
    "\n",
    "unit_vecotr = np.array([0, 0, 1])\n",
    "points = []\n",
    "for i in range(len(quats)):\n",
    "    rot_mat = Rotation.from_quat(quats[i]).as_matrix()\n",
    "    coord = np.matmul(rot_mat, unit_vecotr)\n",
    "    points.append(coord)\n",
    "points = np.array(points)\n",
    "\n",
    "xx = points[:, 0]\n",
    "yy = points[:, 1]\n",
    "zz = points[:, 2]\n",
    "\n",
    "#Set colours and render\n",
    "fig = plt.figure()\n",
    "ax = fig.add_subplot(111, projection='3d')\n",
    "\n",
    "#ax.plot_surface(\n",
    "#    x, y, z,  rstride=1, cstride=1, color='c', alpha=0.3, linewidth=0)\n",
    "\n",
    "im = ax.scatter(xx, yy, zz, s=confidence_widths, c=confidence_widths)\n",
    "\n",
    "ax.set_xlabel('x')\n",
    "ax.set_ylabel('y')\n",
    "#ax.set_zlabel('z')\n",
    "ax.set_xticklabels([])\n",
    "ax.set_yticklabels([])\n",
    "ax.set_zticklabels([])\n",
    "\n",
    "ax.azim = -40\n",
    "ax.elev = 30\n",
    "ax.dist = 10\n",
    "\n",
    "fig.colorbar(im)\n",
    "\n",
    "ax.set_xlim([-1,1])\n",
    "ax.set_ylim([-1,1])\n",
    "ax.set_zlim([-1,1])\n",
    "ax.set_aspect(\"auto\")\n",
    "plt.tight_layout()\n",
    "plt.show()\n",
    "#plt.savefig(\"rotation_posterior_widths_snr001_widres50_128x128.pdf\", dpi=600)"
   ]
  },
  {
   "cell_type": "code",
   "execution_count": null,
   "id": "cbff90d3",
   "metadata": {},
   "outputs": [],
   "source": [
    "def asSpherical(xyz):\n",
    "    x       = xyz[0]\n",
    "    y       = xyz[1]\n",
    "    z       = xyz[2]\n",
    "    r       =  np.sqrt(x*x + y*y + z*z)\n",
    "    theta   =  np.arccos(z/r)\n",
    "    phi     =  np.arctan2(y,x)\n",
    "    return [r,theta,phi]\n",
    "\n",
    "coordinates = np.array([asSpherical(point)[1:] for point in points])"
   ]
  },
  {
   "cell_type": "code",
   "execution_count": null,
   "id": "50ae77e6",
   "metadata": {},
   "outputs": [],
   "source": [
    "fig , ax = plt.subplots(1, 1, figsize=(7, 4))\n",
    "\n",
    "scatter_plot = ax.scatter(coordinates[:, 1], coordinates[:, 0], s=0.5*confidence_widths, c=confidence_widths)\n",
    "cbar = fig.colorbar(scatter_plot)\n",
    "cbar.set_label(label=r'width of 3$\\sigma$-confidence-intervall',size=13)\n",
    "cbar.ax.tick_params(labelsize=12)\n",
    "ax.set_ylabel(r'$\\theta$', fontsize=18)\n",
    "ax.set_xlabel(r'$\\varphi$', fontsize=18)\n",
    "ax.set_yticks(\n",
    "    ticks=[0, np.pi / 4, np.pi / 2, 3 * np.pi / 4, np.pi],\n",
    "    labels=['0', r'$\\frac{1}{4}\\pi$', r'$\\frac{1}{2}\\pi$', r'$\\frac{3}{4}\\pi$', r'$\\pi$'],\n",
    "    fontsize=12\n",
    ")\n",
    "ax.set_xticks(\n",
    "    ticks=[-np.pi, -np.pi/2 ,0, np.pi/2 ,np.pi],\n",
    "    labels=[r'$-\\pi$', r'$-\\frac{1}{2}\\pi$', r'0', r'$\\frac{1}{2}\\pi$', r'$\\pi$'],\n",
    "    fontsize=12\n",
    ")\n",
    "\n",
    "if save_figures:\n",
    "    plt.savefig(f'../../cryo_sbi_experimental/data/trained_posteriors/benchmark_hsp90/results/plots/fig2d.pdf', dpi=400, bbox_inches='tight')"
   ]
  }
 ],
 "metadata": {
  "kernelspec": {
   "display_name": "cryo_sbi",
   "language": "python",
   "name": "cryo_sbi"
  },
  "language_info": {
   "codemirror_mode": {
    "name": "ipython",
    "version": 3
   },
   "file_extension": ".py",
   "mimetype": "text/x-python",
   "name": "python",
   "nbconvert_exporter": "python",
   "pygments_lexer": "ipython3",
   "version": "3.10.0 (default, Mar  3 2022, 09:58:08) [GCC 7.5.0]"
  },
  "widgets": {
   "application/vnd.jupyter.widget-state+json": {
    "state": {},
    "version_major": 2,
    "version_minor": 0
   }
  }
 },
 "nbformat": 4,
 "nbformat_minor": 5
}

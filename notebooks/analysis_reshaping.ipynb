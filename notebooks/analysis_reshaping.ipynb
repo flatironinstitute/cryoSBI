{
 "cells": [
  {
   "cell_type": "code",
   "execution_count": null,
   "id": "c11d3bbe-f081-467b-9a51-f993cd7dea8a",
   "metadata": {},
   "outputs": [],
   "source": [
    "import matplotlib.pyplot as plt\n",
    "import numpy as np\n",
    "import torch\n",
    "import json\n",
    "from multiprocessing import Pool\n",
    "from lampe.data import JointLoader\n",
    "from itertools import islice\n",
    "from tqdm import tqdm\n",
    "from lampe.diagnostics import expected_coverage_mc\n",
    "from lampe.plots import coverage_plot\n",
    "\n",
    "import sys\n",
    "\n",
    "sys.path.insert(0, \"../scr/cryo_sbi/inference/\")\n",
    "sys.path.insert(0, \"../scr/cryo_sbi/inference/models\")\n",
    "sys.path.insert(0, \"../scr/cryo_sbi/wpa_simulator/\")\n",
    "\n",
    "from models import build_models\n",
    "from cryo_em_simulator import CryoEmSimulator\n",
    "import priors"
   ]
  },
  {
   "cell_type": "code",
   "execution_count": null,
   "id": "bed3b97c",
   "metadata": {},
   "outputs": [],
   "source": [
    "file_name = \"TEST\"  # File name\n",
    "config_dir = \"../experiments/benchmark_hsp90/\"\n",
    "num_samples_stats = 20000  # Number of simulations for computing posterior stats\n",
    "num_samples_SBC = 10000  # Number of simulations for SBC\n",
    "num_posterior_samples_SBC = 1024  # Number of posterior samples for each SBC simulation\n",
    "num_samples_posterior = 50000  # Number of samples to draw from posterior\n",
    "batch_size_sampling = 100  # Batch size for sampling posterior\n",
    "num_workers = 24  # Number of CPU cores\n",
    "device = \"cuda\"  # Device for computations\n",
    "save_figures = False"
   ]
  },
  {
   "cell_type": "markdown",
   "id": "1f1226dd-53f1-40db-82a7-657c60a8e104",
   "metadata": {},
   "source": [
    "## Load cryo-em simulator and posterior with correct config"
   ]
  },
  {
   "cell_type": "code",
   "execution_count": null,
   "id": "f2eb23c1-3229-48a7-a965-deb74277e0a8",
   "metadata": {},
   "outputs": [],
   "source": [
    "cryosbi = CryoEmSimulator(config_dir + \"image_params_snr01_128.json\")"
   ]
  },
  {
   "cell_type": "code",
   "execution_count": null,
   "id": "269ee74f-9a78-4c27-bd7f-14ec441de8ba",
   "metadata": {},
   "outputs": [],
   "source": [
    "train_config = json.load(open(config_dir + \"resnet18_encoder.json\"))\n",
    "estimator = build_models.build_npe_flow_model(train_config)\n",
    "estimator.load_state_dict(torch.load(config_dir + \"resnet18_encoder_snr01.estimator\"))\n",
    "estimator.cuda()\n",
    "estimator.eval();"
   ]
  },
  {
   "cell_type": "markdown",
   "id": "d8542c11-e902-4470-8797-ad664f54cecd",
   "metadata": {},
   "source": [
    "## Plott the training loss"
   ]
  },
  {
   "cell_type": "markdown",
   "id": "488a4635-ea67-4728-b016-a9ecebe23e4a",
   "metadata": {},
   "source": [
    "## Testing posterior on array of images"
   ]
  },
  {
   "cell_type": "code",
   "execution_count": null,
   "id": "872d28d3-0ec6-4928-b825-216f071740d3",
   "metadata": {},
   "outputs": [],
   "source": [
    "indices = torch.tensor(np.arange(0, cryosbi.max_index + 1, 1), dtype=float).reshape(\n",
    "    -1, 1\n",
    ")\n",
    "images = torch.stack([cryosbi.simulator(index) for index in indices], dim=0)"
   ]
  },
  {
   "cell_type": "code",
   "execution_count": null,
   "id": "3b4133ac-b50e-4d37-8b78-2732d6ebeb01",
   "metadata": {},
   "outputs": [],
   "source": [
    "fig, axes = plt.subplots(4, 5, figsize=(10, 8))\n",
    "for idx, ax in enumerate(axes.reshape(-1)):\n",
    "    ax.imshow(images[idx], vmax=5, vmin=-5)\n",
    "    ax.set_yticks([])\n",
    "    ax.set_xticks([])\n",
    "    ax.text(10, 30, str(int(indices[idx].item())))\n",
    "\n",
    "if save_figures:\n",
    "    fig.savefig(f\"{data_dir}particles_6wxb_test\", dpi=500)"
   ]
  },
  {
   "cell_type": "code",
   "execution_count": null,
   "id": "87c69a48",
   "metadata": {},
   "outputs": [],
   "source": [
    "import torchvision.transforms as T\n",
    "\n",
    "transform = T.Resize(size=(128, 128))"
   ]
  },
  {
   "cell_type": "code",
   "execution_count": null,
   "id": "4efa2e58",
   "metadata": {},
   "outputs": [],
   "source": [
    "import torchvision.transforms as T\n",
    "\n",
    "transform = T.Resize(size=(128, 128))\n",
    "\n",
    "\n",
    "def gaussian_normalize_image(image):\n",
    "    image = transform(image)\n",
    "    mean_img = torch.mean(image)\n",
    "    std_img = torch.std(image)\n",
    "\n",
    "    return (image - mean_img) / std_img"
   ]
  },
  {
   "cell_type": "code",
   "execution_count": null,
   "id": "b8cd75fc",
   "metadata": {},
   "outputs": [],
   "source": [
    "for idx, image in enumerate(images):\n",
    "    print(images[idx].shape)"
   ]
  },
  {
   "cell_type": "code",
   "execution_count": null,
   "id": "02fc0884",
   "metadata": {},
   "outputs": [],
   "source": [
    "plt.imshow(images[0])"
   ]
  },
  {
   "cell_type": "code",
   "execution_count": null,
   "id": "fb0f924d-8f2c-4c32-b15d-f23d2b805a23",
   "metadata": {},
   "outputs": [],
   "source": [
    "theta_samples = []\n",
    "with torch.no_grad():\n",
    "    for batched_images in torch.split(\n",
    "        images, split_size_or_sections=batch_size_sampling, dim=0\n",
    "    ):\n",
    "        samples = estimator.sample(\n",
    "            gaussian_normalize_image(batched_images.cuda(non_blocking=True)),\n",
    "            shape=(num_samples_posterior,),\n",
    "        ).cpu()\n",
    "        theta_samples.append(samples.reshape(-1, batch_size_sampling))\n",
    "    samples = torch.cat(theta_samples, dim=1)"
   ]
  },
  {
   "cell_type": "code",
   "execution_count": null,
   "id": "2add5831-d35d-4a19-b422-e0c4f03b98ef",
   "metadata": {
    "tags": []
   },
   "outputs": [],
   "source": [
    "fig, axes = plt.subplots(4, 5, figsize=(10, 8), sharex=True)\n",
    "for idx, ax in enumerate(axes.reshape(1, -1)[0]):\n",
    "    ax.hist(\n",
    "        samples[:, idx].flatten().numpy(),\n",
    "        bins=np.arange(0, 20, 0.5),\n",
    "        histtype=\"step\",\n",
    "        color=\"blue\",\n",
    "        label=\"all\",\n",
    "    )\n",
    "    ax.set_yticks([])\n",
    "    ax.set_yticks([])\n",
    "    ax.set_xticks(range(0, 20, 4))\n",
    "    ax.axvline(indices[idx], color=\"red\")\n",
    "# plt.savefig('posterior_snr001_widres50_128x128.pdf', dpi=500)"
   ]
  },
  {
   "cell_type": "markdown",
   "id": "a890dc7a-5881-46fa-9ac2-c5a9379d7834",
   "metadata": {},
   "source": [
    "## Compute posterior calibration"
   ]
  },
  {
   "cell_type": "code",
   "execution_count": null,
   "id": "5bfb7150-5ed0-4d17-a31a-54be434b2ff9",
   "metadata": {},
   "outputs": [],
   "source": [
    "loader = JointLoader(\n",
    "    priors.get_unirom_prior_1d(cryosbi.get_max_index()),\n",
    "    cryosbi.simulator,\n",
    "    vectorized=False,\n",
    "    batch_size=1,\n",
    "    num_workers=num_workers,\n",
    "    prefetch_factor=1,\n",
    ")\n",
    "\n",
    "levels, coverages = expected_coverage_mc(\n",
    "    estimator.flow,\n",
    "    (\n",
    "        (estimator.standardize(theta.cuda()), gaussian_normalize_image(x.cuda()))\n",
    "        for theta, x in islice(loader, 5000)\n",
    "    ),\n",
    "    n=num_posterior_samples_SBC,\n",
    ")\n",
    "\n",
    "fig = coverage_plot(levels, coverages, legend=\"NPE\")\n",
    "fig.savefig(f\"SBC_normal.pdf\", dpi=500)\n",
    "if save_figures:\n",
    "    fig.savefig(f\"{data_dir}sbc_{file_name}.pdf\", dpi=500)"
   ]
  },
  {
   "cell_type": "markdown",
   "id": "5050ccaa-fcff-4e37-8255-ed65a172e6a1",
   "metadata": {},
   "source": [
    "## Compute posterior varaicen as function of projection angle"
   ]
  },
  {
   "cell_type": "code",
   "execution_count": null,
   "id": "beda7e80-e8ed-41ff-beb1-50c66ceca824",
   "metadata": {},
   "outputs": [],
   "source": [
    "quats = torch.from_numpy(np.load(\"quaternion_list.npy\"))\n",
    "num_simulations = len(quats)\n",
    "indices = 10 * torch.ones(num_simulations).reshape(-1, 1)\n",
    "parameters = torch.cat((indices, quats), dim=1)\n",
    "images = torch.stack(\n",
    "    [cryosbi._simulator_with_quat(param) for param in parameters], dim=0\n",
    ")"
   ]
  },
  {
   "cell_type": "code",
   "execution_count": null,
   "id": "998ed401-01d7-4bbc-a9bc-c942eea26cb5",
   "metadata": {},
   "outputs": [],
   "source": [
    "theta_samples = []\n",
    "with torch.no_grad():\n",
    "    for batched_images in torch.split(\n",
    "        images, split_size_or_sections=batch_size_sampling, dim=0\n",
    "    ):\n",
    "        samples = estimator.sample(\n",
    "            batched_images.cuda(non_blocking=True), shape=(num_samples_posterior,)\n",
    "        ).cpu()\n",
    "        theta_samples.append(samples.reshape(-1, batch_size_sampling))\n",
    "samples = torch.cat(theta_samples, dim=1)"
   ]
  },
  {
   "cell_type": "code",
   "execution_count": null,
   "id": "af3f1a2a-ef90-4c1a-8292-621bce45abbb",
   "metadata": {},
   "outputs": [],
   "source": [
    "posterior_quantiles = np.quantile(samples.numpy(), [0.025, 0.975], axis=0)\n",
    "confidence_widths = posterior_quantiles[1] - posterior_quantiles[0]"
   ]
  },
  {
   "cell_type": "code",
   "execution_count": null,
   "id": "4247ddfa-8a38-47e3-b449-0add60f50b3e",
   "metadata": {},
   "outputs": [],
   "source": [
    "import matplotlib.pyplot as plt\n",
    "from matplotlib import cm, colors\n",
    "from mpl_toolkits.mplot3d import Axes3D\n",
    "import numpy as np\n",
    "from scipy.spatial.transform import Rotation\n",
    "\n",
    "# Create a sphere\n",
    "r = 1\n",
    "pi = np.pi\n",
    "cos = np.cos\n",
    "sin = np.sin\n",
    "phi, theta = np.mgrid[0.0:pi:100j, 0.0 : 2.0 * pi : 100j]\n",
    "x = r * sin(phi) * cos(theta)\n",
    "y = r * sin(phi) * sin(theta)\n",
    "z = r * cos(phi)\n",
    "\n",
    "unit_vecotr = np.array([0, 0, 1])\n",
    "points = []\n",
    "for i in range(N_samples):\n",
    "    rot_mat = Rotation.from_quat(quats[i]).as_matrix()\n",
    "    coord = np.matmul(rot_mat, unit_vecotr)\n",
    "    points.append(coord)\n",
    "points = np.array(points)\n",
    "\n",
    "xx = points[:, 0]\n",
    "yy = points[:, 1]\n",
    "zz = points[:, 2]\n",
    "\n",
    "# Set colours and render\n",
    "fig = plt.figure()\n",
    "ax = fig.add_subplot(111, projection=\"3d\")\n",
    "\n",
    "# ax.plot_surface(\n",
    "#    x, y, z,  rstride=1, cstride=1, color='c', alpha=0.3, linewidth=0)\n",
    "\n",
    "im = ax.scatter(xx, yy, zz, s=confidence_widths, c=confidence_widths)\n",
    "\n",
    "ax.set_xlabel(\"x\")\n",
    "ax.set_ylabel(\"y\")\n",
    "# ax.set_zlabel('z')\n",
    "ax.set_xticklabels([])\n",
    "ax.set_yticklabels([])\n",
    "ax.set_zticklabels([])\n",
    "\n",
    "ax.azim = -40\n",
    "ax.elev = 30\n",
    "ax.dist = 10\n",
    "\n",
    "fig.colorbar(im)\n",
    "\n",
    "ax.set_xlim([-1, 1])\n",
    "ax.set_ylim([-1, 1])\n",
    "ax.set_zlim([-1, 1])\n",
    "ax.set_aspect(\"auto\")\n",
    "plt.tight_layout()\n",
    "plt.show()\n",
    "# plt.savefig(\"rotation_posterior_widths_snr001_widres50_128x128.pdf\", dpi=600)"
   ]
  },
  {
   "cell_type": "code",
   "execution_count": null,
   "id": "f6617703",
   "metadata": {},
   "outputs": [],
   "source": [
    "def asSpherical(xyz):\n",
    "    x = xyz[0]\n",
    "    y = xyz[1]\n",
    "    z = xyz[2]\n",
    "    r = np.sqrt(x * x + y * y + z * z)\n",
    "    theta = np.arccos(z / r)\n",
    "    phi = np.arctan2(y, x)\n",
    "    return [r, theta, phi]\n",
    "\n",
    "\n",
    "coordinates = np.array([asSpherical(point)[1:] for point in points])"
   ]
  },
  {
   "cell_type": "code",
   "execution_count": null,
   "id": "2f0ef459",
   "metadata": {},
   "outputs": [],
   "source": [
    "plt.scatter(\n",
    "    coordinates[:, 0], coordinates[:, 1], s=confidence_widths, c=confidence_widths\n",
    ")\n",
    "plt.colorbar(label=r\"width of 3$\\sigma$-confidence-intervall\")\n",
    "plt.xlabel(r\"$\\theta$\", fontsize=14)\n",
    "plt.ylabel(r\"$\\phi$\", fontsize=14)\n",
    "plt.xticks(\n",
    "    ticks=[0, np.pi / 4, np.pi / 2, 3 * np.pi / 4, np.pi],\n",
    "    labels=[\n",
    "        \"0\",\n",
    "        r\"$\\frac{1}{4}\\pi$\",\n",
    "        r\"$\\frac{1}{2}\\pi$\",\n",
    "        r\"$\\frac{3}{4}\\pi$\",\n",
    "        r\"$\\pi$\",\n",
    "    ],\n",
    ")\n",
    "plt.yticks(\n",
    "    ticks=[-np.pi, -np.pi / 2, 0, np.pi / 2, np.pi],\n",
    "    labels=[r\"$-\\pi$\", r\"$-\\frac{1}{2}\\pi$\", r\"0\", r\"$\\frac{1}{2}\\pi$\", r\"$\\pi$\"],\n",
    ")\n",
    "plt.title(\"Index 10\")\n",
    "plt.savefig(f\"Rotations_{file_name}.pdf\", dpi=500)"
   ]
  },
  {
   "cell_type": "code",
   "execution_count": null,
   "id": "f5da9ae7-ab40-4bf0-9ad5-3f54a28f1342",
   "metadata": {},
   "outputs": [],
   "source": [
    "import matplotlib.pyplot as plt\n",
    "from matplotlib import cm, colors\n",
    "from mpl_toolkits.mplot3d import Axes3D\n",
    "import numpy as np\n",
    "\n",
    "# Set colours and render\n",
    "fig = plt.figure()\n",
    "ax = fig.add_subplot(111, projection=\"3d\")\n",
    "\n",
    "x, y, z = cryosbi.models[0]\n",
    "ax.scatter(x, y, z, s=20)\n",
    "\n",
    "ax.set_xlabel(\"x\")\n",
    "ax.set_ylabel(\"y\")\n",
    "ax.set_zlabel(\"z\")\n",
    "\n",
    "ax.azim = 230\n",
    "ax.elev = 40\n",
    "ax.dist = 10\n",
    "\n",
    "# ax.set_xlim([-1,1])\n",
    "# ax.set_ylim([-1,1])\n",
    "# ax.set_zlim([-1,1])\n",
    "ax.set_aspect(\"auto\")\n",
    "plt.tight_layout()\n",
    "# plt.savefig(\"inital_rotation_posterior_widths_snr01_widres50_128x128.pdf\", dpi=600)\n",
    "plt.show()"
   ]
  },
  {
   "cell_type": "code",
   "execution_count": null,
   "id": "ff11858c",
   "metadata": {},
   "outputs": [],
   "source": []
  }
 ],
 "metadata": {
  "kernelspec": {
   "display_name": "cryo_sbi",
   "language": "python",
   "name": "cryo_sbi"
  },
  "language_info": {
   "codemirror_mode": {
    "name": "ipython",
    "version": 3
   },
   "file_extension": ".py",
   "mimetype": "text/x-python",
   "name": "python",
   "nbconvert_exporter": "python",
   "pygments_lexer": "ipython3",
   "version": "3.10.0 (default, Mar  3 2022, 09:58:08) [GCC 7.5.0]"
  },
  "vscode": {
   "interpreter": {
    "hash": "1391d301e9aa4dc24331c4a52095d8473e5107d84c03241f78234deb9fd2437e"
   }
  },
  "widgets": {
   "application/vnd.jupyter.widget-state+json": {
    "state": {},
    "version_major": 2,
    "version_minor": 0
   }
  }
 },
 "nbformat": 4,
 "nbformat_minor": 5
}

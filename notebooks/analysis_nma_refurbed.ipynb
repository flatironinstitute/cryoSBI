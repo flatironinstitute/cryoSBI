{
 "cells": [
  {
   "cell_type": "code",
   "execution_count": null,
   "id": "c11d3bbe-f081-467b-9a51-f993cd7dea8a",
   "metadata": {},
   "outputs": [],
   "source": [
    "import os\n",
    "import matplotlib.pyplot as plt\n",
    "import numpy as np\n",
    "import torch\n",
    "import torchvision.transforms as transforms\n",
    "import umap\n",
    "import sklearn.cluster as cluster\n",
    "\n",
    "from cryo_sbi import CryoEmSimulator\n",
    "from cryo_sbi.inference import priors\n",
    "import cryo_sbi.utils.estimator_utils as est_utils\n",
    "import cryo_sbi.utils.image_utils as img_utils\n",
    "import cryo_sbi.utils.micrograph_utils as mic_utils"
   ]
  },
  {
   "cell_type": "markdown",
   "id": "f75e5609",
   "metadata": {},
   "source": [
    "### Setup cell"
   ]
  },
  {
   "cell_type": "code",
   "execution_count": null,
   "id": "bed3b97c",
   "metadata": {},
   "outputs": [],
   "source": [
    "save_figures = True\n",
    "test_on_synthetic = False\n",
    "file_name = \"cross_correlation_particles\"\n",
    "path = \"../experiments/6wxb/results/nma_results/mixed/\"\n",
    "\n",
    "estimator_config = \"../experiments/6wxb/resnet18_fft_encoder.json\"\n",
    "estimator_weights = \"../experiments/6wxb/posterior_6wxb_mixed.estimator\"\n",
    "image_config = \"image_params_mixed_training.json\""
   ]
  },
  {
   "cell_type": "code",
   "execution_count": null,
   "id": "17b9e691",
   "metadata": {},
   "outputs": [],
   "source": [
    "assert os.path.isdir(path), f\"Path {path} does not exist\"\n",
    "assert path.endswith(\"/\"), f\"Path {path} must end with /\"\n",
    "assert os.path.isfile(\n",
    "    estimator_config\n",
    "), f\"Estimator config {estimator_config} does not exist\"\n",
    "assert os.path.isfile(image_config), f\"Image config {image_config} does not exist\""
   ]
  },
  {
   "cell_type": "markdown",
   "id": "cdb38f7f",
   "metadata": {},
   "source": [
    "### Load posterior model"
   ]
  },
  {
   "cell_type": "code",
   "execution_count": null,
   "id": "269ee74f-9a78-4c27-bd7f-14ec441de8ba",
   "metadata": {},
   "outputs": [],
   "source": [
    "estimator = est_utils.load_estimator(\n",
    "    estimator_config,\n",
    "    estimator_weights,\n",
    "    device=\"cuda\",\n",
    ")"
   ]
  },
  {
   "cell_type": "markdown",
   "id": "05ecf75d",
   "metadata": {},
   "source": [
    "### Testing posterior on synthetic data"
   ]
  },
  {
   "cell_type": "code",
   "execution_count": null,
   "id": "2d272d4c",
   "metadata": {},
   "outputs": [],
   "source": [
    "from cryo_sbi.wpa_simulator.noise import correlated_gaussian_noise"
   ]
  },
  {
   "cell_type": "code",
   "execution_count": null,
   "id": "5c665ecb",
   "metadata": {},
   "outputs": [],
   "source": [
    "if test_on_synthetic:\n",
    "    cryosbi = CryoEmSimulator(image_config, add_noise=correlated_gaussian_noise)\n",
    "    indices = torch.tensor(np.arange(0, 100, 5, dtype=float))\n",
    "    synthetic_images = torch.stack(\n",
    "        [cryosbi.simulator(index) for index in indices], dim=0\n",
    "    )\n",
    "    synthetic_images = img_utils.Mask(128, 60)(synthetic_images)\n",
    "\n",
    "    samples_syntehtic = est_utils.sample_posterior(\n",
    "        estimator,\n",
    "        synthetic_images,\n",
    "        num_samples=1000,\n",
    "        batch_size=100,\n",
    "        device=\"cuda\",\n",
    "    )\n",
    "\n",
    "    fig, axes = plt.subplots(4, 5, figsize=(10, 8))\n",
    "    for idx, ax in enumerate(axes.reshape(-1)):\n",
    "        ax.imshow(synthetic_images[idx], vmax=4, vmin=-4, cmap=\"binary\")\n",
    "        ax.set_yticks([])\n",
    "        ax.set_xticks([])\n",
    "        ax.text(10, 20, str(int(indices[idx].item())))\n",
    "    if save_figures:\n",
    "        fig.savefig(f\"{path}{file_name}_synthetic_images.png\", dpi=300)\n",
    "\n",
    "    fig, axes = plt.subplots(4, 5, figsize=(10, 8), sharex=True)\n",
    "    for idx, ax in enumerate(axes.reshape(1, -1)[0]):\n",
    "        ax.hist(\n",
    "            samples_syntehtic[:, idx].flatten().numpy(),\n",
    "            bins=np.arange(0, 100, 3),\n",
    "            histtype=\"step\",\n",
    "            color=\"blue\",\n",
    "            label=\"all\",\n",
    "        )\n",
    "        ax.set_yticks([])\n",
    "        ax.set_yticks([])\n",
    "        ax.set_xticks(range(0, 100, 20))\n",
    "        ax.axvline(indices[idx], color=\"red\")\n",
    "    if save_figures:\n",
    "        fig.savefig(f\"{path}{file_name}_synthetic_posteriors.png\", dpi=300)"
   ]
  },
  {
   "cell_type": "markdown",
   "id": "dfc87642",
   "metadata": {},
   "source": [
    "### Testing posterior on experimental data"
   ]
  },
  {
   "cell_type": "markdown",
   "id": "d2554f9e",
   "metadata": {},
   "source": [
    "Estimate PSD from experimental data to whiten images"
   ]
  },
  {
   "cell_type": "code",
   "execution_count": null,
   "id": "0172b492",
   "metadata": {},
   "outputs": [],
   "source": [
    "numbers = [1, 7, 8, 9, 10]\n",
    "paths_to_micrographs = [\n",
    "    f\"../../6wxb/cross_corr/2DTM_{i}/doseweighted.mrc\" for i in numbers\n",
    "]\n",
    "for path in paths_to_micrographs:\n",
    "    assert os.path.isfile(path), f\"Path {path} does not exist\""
   ]
  },
  {
   "cell_type": "code",
   "execution_count": null,
   "id": "cc71e87e",
   "metadata": {},
   "outputs": [],
   "source": [
    "micrograph_transform = transforms.Compose(\n",
    "    [\n",
    "        img_utils.NormalizeIndividual(),\n",
    "        img_utils.FourierDownSample(256, 128),\n",
    "    ]\n",
    ")"
   ]
  },
  {
   "cell_type": "code",
   "execution_count": null,
   "id": "d48be90c",
   "metadata": {},
   "outputs": [],
   "source": [
    "micrographs_patches = mic_utils.RandomMicrographPatches(\n",
    "    paths_to_micrographs,\n",
    "    patch_size=256,\n",
    "    transform=micrograph_transform,\n",
    "    max_iter=500000,\n",
    ")"
   ]
  },
  {
   "cell_type": "code",
   "execution_count": null,
   "id": "ae741ea5",
   "metadata": {},
   "outputs": [],
   "source": [
    "average_psd = mic_utils.compute_average_psd(micrographs_patches, device=\"cuda\")"
   ]
  },
  {
   "cell_type": "code",
   "execution_count": null,
   "id": "98b1b50d",
   "metadata": {},
   "outputs": [],
   "source": [
    "plt.imshow(torch.fft.fftshift(average_psd))\n",
    "plt.colorbar()\n",
    "if save_figures:\n",
    "    plt.savefig(f\"{path}{file_name}_average_psd.png\", dpi=300)"
   ]
  },
  {
   "cell_type": "markdown",
   "id": "e28dea80",
   "metadata": {},
   "source": [
    "Load experimental data"
   ]
  },
  {
   "cell_type": "code",
   "execution_count": null,
   "id": "e9ccd4be",
   "metadata": {},
   "outputs": [],
   "source": [
    "transform = transforms.Compose(\n",
    "    [\n",
    "        img_utils.MRCtoTensor(),\n",
    "        img_utils.FourierDownSample(256, 128),\n",
    "        img_utils.WhitenImage(average_psd),\n",
    "        img_utils.NormalizeIndividual(),\n",
    "        img_utils.Mask(128, 60),\n",
    "    ]\n",
    ")"
   ]
  },
  {
   "cell_type": "code",
   "execution_count": null,
   "id": "efec728a",
   "metadata": {},
   "outputs": [],
   "source": [
    "\"\"\"particles = []\n",
    "for i in range(1, 70):\n",
    "    img_file = f\"../../6wxb/particles/particles_{i:02d}.mrc\"\n",
    "    tmp_images = transform(img_file)\n",
    "    particles.append(tmp_images)\n",
    "particles = torch.cat(particles, dim=0)\"\"\""
   ]
  },
  {
   "cell_type": "code",
   "execution_count": null,
   "id": "1a64f46e",
   "metadata": {},
   "outputs": [],
   "source": [
    "img_file = [\n",
    "    \"../../6wxb/cross_corr/2DTM_1/picked-particles.mrc\",\n",
    "    \"../../6wxb/cross_corr/2DTM_10/picked-particles.mrc\",\n",
    "    \"../../6wxb/cross_corr/2DTM_7/picked-particles.mrc\",\n",
    "    \"../../6wxb/cross_corr/2DTM_8/picked-particles.mrc\",\n",
    "    \"../../6wxb/cross_corr/2DTM_9/picked-particles.mrc\",\n",
    "]\n",
    "particles = []\n",
    "\n",
    "for path in img_file:\n",
    "    tmp_parts = transform(path)\n",
    "    particles.append(tmp_parts)\n",
    "particles = torch.cat(particles, dim=0)"
   ]
  },
  {
   "cell_type": "code",
   "execution_count": null,
   "id": "552a8413",
   "metadata": {},
   "outputs": [],
   "source": [
    "offset = 0\n",
    "fig, axes = plt.subplots(4, 5, figsize=(10, 8))\n",
    "for i, ax in enumerate(axes.reshape(-1)):\n",
    "    ax.imshow(particles[i + offset], vmax=4, vmin=-4, cmap=\"binary\")\n",
    "    ax.set_yticks([])\n",
    "    ax.set_xticks([])\n",
    "if save_figures:\n",
    "    fig.savefig(f\"{path}{file_name}_example_particles.png\", dpi=300)"
   ]
  },
  {
   "cell_type": "code",
   "execution_count": null,
   "id": "8ea27575",
   "metadata": {},
   "outputs": [],
   "source": [
    "samples = est_utils.sample_posterior(\n",
    "    estimator,\n",
    "    particles,\n",
    "    num_samples=10000,\n",
    "    batch_size=100,\n",
    "    device=\"cuda\",\n",
    ")"
   ]
  },
  {
   "cell_type": "code",
   "execution_count": null,
   "id": "8a1fd15d",
   "metadata": {},
   "outputs": [],
   "source": [
    "means = samples.mean(axis=0)\n",
    "posterior_quantiles = np.quantile(samples.numpy(), [0.025, 1 - 0.025], axis=0)\n",
    "confidence_widths = (posterior_quantiles[1] - posterior_quantiles[0]).flatten()"
   ]
  },
  {
   "cell_type": "code",
   "execution_count": null,
   "id": "cf9422b8",
   "metadata": {},
   "outputs": [],
   "source": [
    "plt.hist(\n",
    "    means,\n",
    "    bins=np.linspace(0, 100, 35),\n",
    "    density=True,\n",
    "    label=\"cryoSBI whitening\",\n",
    "    histtype=\"step\",\n",
    "    linewidth=2,\n",
    ")\n",
    "\n",
    "xticks = np.load(\"../../6wxb/6wxb_nma/nma_files/distance_to_reference_bending_mode.npy\")\n",
    "plt.xlabel(\"Posterior means (RMSD [A] to Reference)\", fontsize=15)\n",
    "plt.legend()\n",
    "plt.yticks([])\n",
    "if save_figures:\n",
    "    plt.savefig(f\"{path}{file_name}_posterior_means.png\", dpi=300)"
   ]
  },
  {
   "cell_type": "code",
   "execution_count": null,
   "id": "34713a54",
   "metadata": {},
   "outputs": [],
   "source": [
    "fig, axes = plt.subplots(4, 5, figsize=(10, 8), sharex=True)\n",
    "for i, ax in enumerate(axes.reshape(1, -1)[0]):\n",
    "    ax.hist(\n",
    "        samples[:, i + offset].flatten().numpy(),\n",
    "        bins=np.arange(0, 100, 4),\n",
    "        histtype=\"step\",\n",
    "        color=\"blue\",\n",
    "    )\n",
    "    ax.set_yticks([])\n",
    "    ax.set_yticks([])\n",
    "    ax.set_xticks(range(0, 101, 20))\n",
    "if save_figures:\n",
    "    fig.savefig(\n",
    "        f\"{path}{file_name}_posterior_distributions_example_particles.png\", dpi=300\n",
    "    )"
   ]
  },
  {
   "cell_type": "code",
   "execution_count": null,
   "id": "486b510c",
   "metadata": {},
   "outputs": [],
   "source": [
    "sigma_threshold = 50\n",
    "idx_high_confidence = np.where(confidence_widths < sigma_threshold)[0]\n",
    "\n",
    "fig, axes = plt.subplots(4, 5, figsize=(10, 8), sharex=True)\n",
    "for i, ax in enumerate(axes.reshape(1, -1)[0]):\n",
    "    ax.hist(\n",
    "        samples[:, idx_high_confidence[i]].flatten().numpy(),\n",
    "        bins=np.arange(0, 100, 4),\n",
    "        histtype=\"step\",\n",
    "        color=\"blue\",\n",
    "    )\n",
    "    ax.set_yticks([])\n",
    "    ax.set_yticks([])\n",
    "    ax.set_xticks(range(0, 101, 20))\n",
    "if save_figures:\n",
    "    fig.savefig(f\"{path}{file_name}_posteriors_3sigma<{sigma_threshold}.png\", dpi=300)\n",
    "\n",
    "fig, axes = plt.subplots(4, 5, figsize=(10, 8))\n",
    "for i, ax in enumerate(axes.reshape(-1)):\n",
    "    ax.imshow(particles[idx_high_confidence[i]], vmax=4, vmin=-4, cmap=\"binary\")\n",
    "    ax.set_yticks([])\n",
    "    ax.set_xticks([])\n",
    "if save_figures:\n",
    "    fig.savefig(f\"{path}{file_name}_particles_3sigma<{sigma_threshold}.png\", dpi=300)"
   ]
  },
  {
   "cell_type": "code",
   "execution_count": null,
   "id": "a1461598",
   "metadata": {},
   "outputs": [],
   "source": [
    "plt.hist(\n",
    "    means[confidence_widths < sigma_threshold],\n",
    "    bins=np.linspace(0, 100, 25),\n",
    "    density=True,\n",
    "    label=\"cryoSBI whitening\",\n",
    "    histtype=\"step\",\n",
    "    linewidth=2,\n",
    ")\n",
    "\n",
    "xticks = np.load(\"../../6wxb/6wxb_nma/nma_files/distance_to_reference_bending_mode.npy\")\n",
    "plt.xlabel(\"Posterior means (RMSD [A] to Reference)\", fontsize=15)\n",
    "plt.xticks(\n",
    "    ticks=[0, 20, 40, 60, 80, 100], labels=list(map(lambda x: f\"{x:.2f}\", xticks[::20]))\n",
    ")\n",
    "plt.legend()\n",
    "plt.yticks([])\n",
    "if save_figures:\n",
    "    plt.savefig(\n",
    "        f\"{path}{file_name}_posterior_means_3sigma<{sigma_threshold}.png\", dpi=300\n",
    "    )"
   ]
  },
  {
   "cell_type": "code",
   "execution_count": null,
   "id": "16d883d6",
   "metadata": {},
   "outputs": [],
   "source": [
    "for alpha in [0.05, 0.1, 0.2, 0.3, 0.4]:\n",
    "    posterior_quantiles = np.quantile(samples.numpy(), [alpha, 1 - alpha], axis=0)\n",
    "    confidence_widths = (posterior_quantiles[1] - posterior_quantiles[0]).flatten()\n",
    "    counts, bins = np.histogram(confidence_widths, bins=1000, density=True)\n",
    "    cum_counts = np.cumsum(counts) / np.sum(counts)\n",
    "    plt.plot(bins[1:], cum_counts, label=f\"{2*alpha:.2f}\")\n",
    "\n",
    "avg_index_to_rmsd = np.mean(np.abs(xticks[1:] - xticks[:-1]))\n",
    "\"\"\"x_tick_pos = np.linspace(0, 100, 9)\n",
    "x_tick_labels = map(lambda x: f\"{x:.2f}\", x_tick_pos * avg_index_to_rmsd.item())\n",
    "plt.xticks(\n",
    "    ticks=x_tick_pos,\n",
    "    labels=x_tick_labels,\n",
    ")\"\"\"\n",
    "plt.yticks(np.linspace(0, 1, 9))\n",
    "plt.legend(fontsize=15)\n",
    "plt.grid()\n",
    "plt.xlabel(\"Confidence width (RMSD [A])\", fontsize=15)\n",
    "plt.ylabel(\"Cumulative density\", fontsize=15)\n",
    "if save_figures:\n",
    "    plt.savefig(f\"{path}{file_name}_confidence_widths.png\", dpi=300)"
   ]
  },
  {
   "cell_type": "markdown",
   "id": "38857c01",
   "metadata": {},
   "source": [
    "Comparing experimental data to synthetic data in latent space using umap"
   ]
  },
  {
   "cell_type": "code",
   "execution_count": null,
   "id": "0a30fee1",
   "metadata": {},
   "outputs": [],
   "source": [
    "cryosbi = CryoEmSimulator(\"../experiments/6wxb/image_params_torsion_training.json\")\n",
    "indices = priors.get_uniform_prior_1d(cryosbi.max_index).sample((10000,))\n",
    "synthetic_images = torch.stack([cryosbi.simulator(index) for index in indices], dim=0)"
   ]
  },
  {
   "cell_type": "code",
   "execution_count": null,
   "id": "5ecd775b",
   "metadata": {},
   "outputs": [],
   "source": [
    "synthetic_images_latent = est_utils.compute_latent_repr(\n",
    "    estimator,\n",
    "    synthetic_images,\n",
    "    batch_size=1000,\n",
    "    device=\"cuda\",\n",
    ")"
   ]
  },
  {
   "cell_type": "code",
   "execution_count": null,
   "id": "1efb3b29",
   "metadata": {},
   "outputs": [],
   "source": [
    "particles_latent = est_utils.compute_latent_repr(\n",
    "    estimator, particles, batch_size=1000, device=\"cuda\"\n",
    ")"
   ]
  },
  {
   "cell_type": "code",
   "execution_count": null,
   "id": "4080689e",
   "metadata": {},
   "outputs": [],
   "source": [
    "cat_latent_samples = torch.cat((synthetic_images_latent, particles_latent), dim=0)\n",
    "labels_latent = torch.cat(\n",
    "    (torch.ones((len(indices),)), torch.zeros((particles.shape[0],))), dim=0\n",
    ")"
   ]
  },
  {
   "cell_type": "code",
   "execution_count": null,
   "id": "1d528e09",
   "metadata": {},
   "outputs": [],
   "source": [
    "reducer = umap.UMAP(metric=\"euclidean\", n_components=2, n_neighbors=1000)\n",
    "embedding = reducer.fit_transform(cat_latent_samples.numpy())"
   ]
  },
  {
   "cell_type": "code",
   "execution_count": null,
   "id": "f30dcfee",
   "metadata": {},
   "outputs": [],
   "source": [
    "num_syn_parts = len(indices)\n",
    "plt.scatter(\n",
    "    embedding[:num_syn_parts, 0],\n",
    "    embedding[:num_syn_parts, 1],\n",
    "    s=3,\n",
    "    label=\"Synthetic images\",\n",
    ")\n",
    "plt.scatter(\n",
    "    embedding[num_syn_parts:, 0],\n",
    "    embedding[num_syn_parts:, 1],\n",
    "    s=0.1,\n",
    "    label=\"Experimental images\",\n",
    ")\n",
    "plt.xlabel(\"UMAP 1\", fontsize=15)\n",
    "plt.ylabel(\"UMAP 2\", fontsize=15)\n",
    "plt.legend(fontsize=15, markerscale=3, loc=\"upper left\")\n",
    "if save_figures:\n",
    "    plt.savefig(f\"{path}{file_name}_umap.png\", dpi=300)"
   ]
  },
  {
   "cell_type": "markdown",
   "id": "e6c06bc6",
   "metadata": {},
   "source": [
    "Exploring latent space with K means clustering"
   ]
  },
  {
   "cell_type": "code",
   "execution_count": null,
   "id": "ff04079e",
   "metadata": {},
   "outputs": [],
   "source": [
    "posterior_quantiles = np.quantile(samples.numpy(), [0.025, 1 - 0.025], axis=0)\n",
    "confidence_widths = (posterior_quantiles[1] - posterior_quantiles[0]).flatten()\n",
    "means = samples.mean(axis=0).flatten()"
   ]
  },
  {
   "cell_type": "code",
   "execution_count": null,
   "id": "8b7905bb",
   "metadata": {},
   "outputs": [],
   "source": [
    "particles_latent = est_utils.compute_latent_repr(\n",
    "    estimator, particles, batch_size=1000, device=\"cuda\"\n",
    ").numpy()"
   ]
  },
  {
   "cell_type": "code",
   "execution_count": null,
   "id": "be04d2a2",
   "metadata": {},
   "outputs": [],
   "source": [
    "k_means = cluster.KMeans(n_clusters=5, random_state=0).fit(particles_latent)\n",
    "cluster_labels = k_means.labels_"
   ]
  },
  {
   "cell_type": "code",
   "execution_count": null,
   "id": "eb837045",
   "metadata": {},
   "outputs": [],
   "source": [
    "plt.scatter(\n",
    "    cluster_labels + np.random.normal(0, 0.1, size=cluster_labels.shape),\n",
    "    means,\n",
    "    c=confidence_widths,\n",
    "    s=10,\n",
    ")\n",
    "plt.colorbar(label=\"Confidence width (RMSD [A])\")\n",
    "plt.xlabel(\"K-means cluster\", fontsize=15)\n",
    "plt.ylabel(\"Posterior mean (RMSD [A])\", fontsize=15)\n",
    "plt.xticks(np.arange(0, len(set(cluster_labels)), 1))\n",
    "plt.yticks(np.arange(0, 100, 20))\n",
    "plt.axhline(50, color=\"red\", linewidth=1, linestyle=\"--\")\n",
    "plt.grid()\n",
    "plt.tight_layout()\n",
    "if save_figures:\n",
    "    plt.savefig(f\"{path}{file_name}_kmeans.png\", dpi=300)"
   ]
  },
  {
   "cell_type": "code",
   "execution_count": null,
   "id": "274cc1fd",
   "metadata": {},
   "outputs": [],
   "source": [
    "for cluster_label in set(cluster_labels):\n",
    "    idx = np.where(cluster_labels == cluster_label)[0]\n",
    "\n",
    "    fig, axes = plt.subplots(4, 5, figsize=(10, 8))\n",
    "    for i, ax in enumerate(axes.reshape(-1)):\n",
    "        try:\n",
    "            ax.imshow(particles[idx[i]], vmax=4, vmin=-4, cmap=\"binary\")\n",
    "        except IndexError:\n",
    "            pass\n",
    "        ax.set_yticks([])\n",
    "        ax.set_xticks([])\n",
    "    fig.suptitle(f\"Cluster {cluster_label}\", fontsize=15)\n",
    "    fig.tight_layout()\n",
    "    if save_figures:\n",
    "        fig.savefig(f\"{path}{file_name}_cluster_{cluster_label}_particles.png\", dpi=300)\n",
    "\n",
    "    fig, axes = plt.subplots(4, 5, figsize=(10, 8), sharex=True)\n",
    "    for i, ax in enumerate(axes.reshape(1, -1)[0]):\n",
    "        try:\n",
    "            ax.hist(\n",
    "                samples[:, idx[i]].flatten().numpy(),\n",
    "                bins=np.arange(0, 100, 4),\n",
    "                histtype=\"step\",\n",
    "                color=\"blue\",\n",
    "            )\n",
    "        except IndexError:\n",
    "            pass\n",
    "        ax.set_yticks([])\n",
    "        ax.set_yticks([])\n",
    "        ax.set_xticks(range(0, 101, 20))\n",
    "    fig.suptitle(f\"Cluster {cluster_label}\", fontsize=15)\n",
    "    fig.tight_layout()\n",
    "    if save_figures:\n",
    "        fig.savefig(\n",
    "            f\"{path}{file_name}_cluster_{cluster_label}_posteriors.png\", dpi=300\n",
    "        )\n",
    "\n",
    "    fig, axes = plt.subplots(1, 1, figsize=(6, 5))\n",
    "    _ = axes.hist(\n",
    "        samples[:, cluster_labels == cluster_label].mean(dim=0),\n",
    "        bins=np.linspace(0, 100, 65),\n",
    "        density=True,\n",
    "        histtype=\"step\",\n",
    "        linewidth=2,\n",
    "    )\n",
    "    axes.set_xlabel(\"Posterior means\", fontsize=15)\n",
    "    axes.set_yticks([])\n",
    "    fig.suptitle(f\"Cluster {cluster_label}\", fontsize=15)\n",
    "    fig.tight_layout()\n",
    "    if save_figures:\n",
    "        fig.savefig(\n",
    "            f\"{path}{file_name}_cluster_{cluster_label}_posterior_means.png\", dpi=300\n",
    "        )"
   ]
  },
  {
   "cell_type": "code",
   "execution_count": null,
   "id": "98f2b284",
   "metadata": {},
   "outputs": [],
   "source": []
  }
 ],
 "metadata": {
  "kernelspec": {
   "display_name": "Python 3 (ipykernel)",
   "language": "python",
   "name": "python3"
  },
  "language_info": {
   "codemirror_mode": {
    "name": "ipython",
    "version": 3
   },
   "file_extension": ".py",
   "mimetype": "text/x-python",
   "name": "python",
   "nbconvert_exporter": "python",
   "pygments_lexer": "ipython3",
   "version": "3.9.15"
  },
  "vscode": {
   "interpreter": {
    "hash": "1391d301e9aa4dc24331c4a52095d8473e5107d84c03241f78234deb9fd2437e"
   }
  },
  "widgets": {
   "application/vnd.jupyter.widget-state+json": {
    "state": {},
    "version_major": 2,
    "version_minor": 0
   }
  }
 },
 "nbformat": 4,
 "nbformat_minor": 5
}

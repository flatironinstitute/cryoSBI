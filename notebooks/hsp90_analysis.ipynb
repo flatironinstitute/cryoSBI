{
 "cells": [
  {
   "cell_type": "code",
   "execution_count": null,
   "id": "c11d3bbe-f081-467b-9a51-f993cd7dea8a",
   "metadata": {},
   "outputs": [],
   "source": [
    "import matplotlib.pyplot as plt\n",
    "import numpy as np\n",
    "import torch\n",
    "import json\n",
    "from multiprocessing import Pool\n",
    "from lampe.data import JointLoader\n",
    "from itertools import islice\n",
    "from tqdm import tqdm\n",
    "from lampe.diagnostics import expected_coverage_mc\n",
    "from lampe.plots import coverage_plot\n",
    "\n",
    "from cryo_sbi.inference.models import build_models\n",
    "from cryo_sbi import CryoEmSimulator\n",
    "from cryo_sbi.inference import priors"
   ]
  },
  {
   "cell_type": "code",
   "execution_count": null,
   "id": "bed3b97c",
   "metadata": {},
   "outputs": [],
   "source": [
    "file_name = \"23_03_17_results\"  # File name\n",
    "data_dir = \"../experiments/benchmark_hsp90/results/raw_data/\"\n",
    "plot_dir = \"../experiments/benchmark_hsp90/results/plots/\"\n",
    "config_dir = \"../experiments/benchmark_hsp90/\"\n",
    "num_samples_stats = 5000  # Number of simulations for computing posterior stats\n",
    "num_samples_SBC = 2000  # Number of simulations for SBC\n",
    "num_posterior_samples_SBC = 4096  # Number of posterior samples for each SBC simulation\n",
    "num_samples_posterior = 5000  # Number of samples to draw from posterior\n",
    "batch_size_sampling = 100  # Batch size for sampling posterior\n",
    "num_workers = 24  # Number of CPU cores\n",
    "device = \"cuda\"  # Device for computations\n",
    "save_figures = False"
   ]
  },
  {
   "cell_type": "code",
   "execution_count": null,
   "id": "51938bb9",
   "metadata": {},
   "outputs": [],
   "source": [
    "def posterior_std_mean(image_params, estimator):\n",
    "    num_samples_posterior = 50000\n",
    "    batch_size_sampling = 100\n",
    "    num_samples_stats = 20000\n",
    "\n",
    "    cryosbi = CryoEmSimulator(image_params)\n",
    "    indices = priors.get_uniform_prior_1d(cryosbi.max_index).sample(\n",
    "        (num_samples_stats,)\n",
    "    )\n",
    "    images = torch.stack([cryosbi.simulator(index) for index in indices], dim=0)\n",
    "\n",
    "    theta_samples = []\n",
    "    with torch.no_grad():\n",
    "        for batched_images in torch.split(\n",
    "            images, split_size_or_sections=batch_size_sampling, dim=0\n",
    "        ):\n",
    "            samples = estimator.sample(\n",
    "                batched_images.cuda(non_blocking=True), shape=(num_samples_posterior,)\n",
    "            ).cpu()\n",
    "            theta_samples.append(samples.reshape(-1, batch_size_sampling))\n",
    "        samples = torch.cat(theta_samples, dim=1)\n",
    "\n",
    "    mean_distance = (samples.mean(dim=0) - indices.reshape(-1)).numpy()\n",
    "    posterior_quantiles = np.quantile(samples.numpy(), [0.025, 0.975], axis=0)\n",
    "    confidence_widths = (posterior_quantiles[1] - posterior_quantiles[0]).flatten()\n",
    "\n",
    "    return mean_distance, confidence_widths"
   ]
  },
  {
   "cell_type": "code",
   "execution_count": null,
   "id": "adafbe35",
   "metadata": {},
   "outputs": [],
   "source": [
    "train_config = json.load(open(config_dir + \"resnet18_encoder.json\"))\n",
    "estimator = build_models.build_npe_flow_model(train_config)\n",
    "estimator.load_state_dict(torch.load(config_dir + \"posterior_hsp90.estimator\"))\n",
    "estimator.cuda()\n",
    "estimator.eval();"
   ]
  },
  {
   "cell_type": "code",
   "execution_count": null,
   "id": "f5ba9770",
   "metadata": {},
   "outputs": [],
   "source": [
    "for snr in np.logspace(np.log10(0.5), -2, 5):\n",
    "    for defoc in np.linspace(0.5, 2, 4):\n",
    "        means_confidence_width = posterior_std_mean(\n",
    "            f\"../experiments/benchmark_hsp90/image_params_snr={round(snr, 2)}_defocus={defoc}.json\",\n",
    "            estimator,\n",
    "        )\n",
    "        torch.save(\n",
    "            means_confidence_width, f\"stats_snr={round(snr, 2)}_defocus={defoc}.pt\"\n",
    "        )"
   ]
  },
  {
   "cell_type": "code",
   "execution_count": null,
   "id": "744467d1",
   "metadata": {},
   "outputs": [],
   "source": [
    "fig, axes = plt.subplots(1, 5, figsize=(20, 5), sharex=True, sharey=True)\n",
    "for idx, snr in enumerate(np.logspace(np.log10(0.5), -2, 5)):\n",
    "    data = []\n",
    "    for defoc in np.linspace(0.5, 2, 4):\n",
    "        mean_diff, confidence = torch.load(\n",
    "            f\"../experiments/benchmark_hsp90/results/raw_data/23_03_21_final_posteriorstats_snr={round(snr, 2)}_defocus={defoc}.pt\"\n",
    "        )\n",
    "        data.append(confidence)\n",
    "    axes[idx].violinplot(\n",
    "        data,\n",
    "        positions=np.linspace(0.5, 2, 4),\n",
    "        vert=False,\n",
    "        showextrema=False,\n",
    "        widths=0.5,\n",
    "    )\n",
    "    axes[idx].set_title(f\"SNR = {round(snr, 2)}\", fontsize=14)\n",
    "# axes[0].set_xlabel(r'$3\\sigma$-confidence width', fontsize=14)\n",
    "axes[0].set_xlabel(r\"Posterior mean - True conformation\", fontsize=14)\n",
    "axes[0].set_ylabel(\"Defocus\", fontsize=14)\n",
    "# fig.savefig('../experiments/benchmark_hsp90/results/plots/SNR_DEFOCUS_VIOLIN_mean.pdf', dpi=500)"
   ]
  },
  {
   "cell_type": "code",
   "execution_count": null,
   "id": "ebef0ce2",
   "metadata": {},
   "outputs": [],
   "source": [
    "labels = [f\"{snr:.2f}\" for snr in np.logspace(np.log10(0.5), -2, 5)]\n",
    "fig, axes = plt.subplots(1, 4, figsize=(17, 5), sharex=True, sharey=True)\n",
    "for idx, defoc in enumerate(np.linspace(0.5, 2, 4)):\n",
    "    data = []\n",
    "    for snr in np.logspace(np.log10(0.5), -2, 5):\n",
    "        mean_diff, confidence = torch.load(\n",
    "            f\"../experiments/benchmark_hsp90/results/raw_data/23_03_21_final_posteriorstats_snr={round(snr, 2)}_defocus={defoc}.pt\"\n",
    "        )\n",
    "        data.append(confidence)\n",
    "    axes[idx].violinplot(data, vert=False, showextrema=False)\n",
    "    if defoc == 0.5:\n",
    "        axes[idx].set_yticks([1, 2, 3, 4, 5])\n",
    "        axes[idx].set_yticklabels(labels)\n",
    "    axes[idx].set_title(f\"Defocus = {defoc}\", fontsize=14)\n",
    "# axes[0].set_xlabel(r'$3\\sigma$-confidence width', fontsize=14)\n",
    "axes[0].set_xlabel(r\"Posterior mean - True conformation\", fontsize=14)\n",
    "axes[0].set_ylabel(\"SNR\", fontsize=14)\n",
    "# fig.savefig('../experiments/benchmark_hsp90/results/plots/DEFOCUS_SNR_VIOLIN_mean.pdf', dpi=500)"
   ]
  },
  {
   "cell_type": "code",
   "execution_count": null,
   "id": "2e73fd45",
   "metadata": {},
   "outputs": [],
   "source": [
    "labels = [f\"{snr:.2f}\" for snr in np.logspace(np.log10(0.5), -2, 5)]\n",
    "fig, axes = plt.subplots(1, 2, figsize=(10, 5), sharex=True, sharey=True)\n",
    "for idx, defoc in enumerate(np.linspace(0.5, 2, 4)):\n",
    "    x_data = []\n",
    "    y_data_mode = []\n",
    "    y_data_mean = []\n",
    "    for snr in np.logspace(np.log10(0.5), -2, 5):\n",
    "        mean_diff, confidence = torch.load(\n",
    "            f\"stats_snr={round(snr, 2)}_defocus={defoc}.pt\"\n",
    "        )\n",
    "        counts, bins = np.histogram(confidence, bins=np.linspace(-20, 20, 100))\n",
    "        bins_width = bins[1] - bins[0]\n",
    "        mode = bins[np.where(max(counts) == counts)[0]] + bins_width\n",
    "        y_data_mode.append(mode)\n",
    "        y_data_mean.append(np.mean(confidence))\n",
    "        x_data.append(snr)\n",
    "    axes[0].plot(x_data, y_data_mean, label=f\"Defocus = {defoc}\", marker=\"o\")\n",
    "    axes[1].plot(x_data, y_data_mode, label=f\"Defocus = {defoc}\", marker=\"o\")\n",
    "axes[0].set_xscale(\"log\")\n",
    "axes[1].set_xscale(\"log\")\n",
    "axes[0].set_ylabel(r\"$3\\sigma$-confidence width\", fontsize=14)\n",
    "axes[0].set_xlabel(\"SNR\", fontsize=14)\n",
    "axes[1].set_xlabel(\"SNR\", fontsize=14)\n",
    "axes[0].set_title(\"Mean\", fontsize=14)\n",
    "axes[1].set_title(\"Mode\", fontsize=14)\n",
    "axes[0].legend(fontsize=14)\n",
    "fig.savefig(\n",
    "    \"../experiments/benchmark_hsp90/results/plots/mean_mode_confidence.pdf\", dpi=500\n",
    ")"
   ]
  },
  {
   "cell_type": "code",
   "execution_count": null,
   "id": "f8403e5f",
   "metadata": {},
   "outputs": [],
   "source": [
    "for i in range(0, 200, 20):\n",
    "    file_name = f\"posterior_hsp90.estimator_epoch={i}\"\n",
    "    train_config = json.load(open(config_dir + \"resnet18_encoder.json\"))\n",
    "    estimator = build_models.build_npe_flow_model(train_config)\n",
    "    estimator.load_state_dict(torch.load(config_dir + file_name))\n",
    "    estimator.cuda()\n",
    "    estimator.eval()\n",
    "\n",
    "    means_confidence_width = posterior_std_mean(\n",
    "        f\"../experiments/benchmark_hsp90/image_params_snr={0.07}_defocus={1.5}.json\",\n",
    "        estimator,\n",
    "    )\n",
    "    torch.save(means_confidence_width, f\"stats_round={i}.pt\")\n",
    "\n",
    "file_name = f\"posterior_hsp90.estimator\"\n",
    "train_config = json.load(open(config_dir + \"resnet18_encoder.json\"))\n",
    "estimator = build_models.build_npe_flow_model(train_config)\n",
    "estimator.load_state_dict(torch.load(config_dir + file_name))\n",
    "estimator.cuda()\n",
    "estimator.eval()\n",
    "\n",
    "means_confidence_width = posterior_std_mean(\n",
    "    f\"../experiments/benchmark_hsp90/image_params_snr={0.07}_defocus={1.5}.json\",\n",
    "    estimator,\n",
    ")\n",
    "torch.save(means_confidence_width, f\"stats_round=200.pt\")"
   ]
  },
  {
   "cell_type": "code",
   "execution_count": null,
   "id": "1284beb1",
   "metadata": {},
   "outputs": [],
   "source": [
    "data = []\n",
    "for i in range(0, 201, 20):\n",
    "    file_name = f\"stats_round={i}.pt\"\n",
    "    mean_diff, confidence = torch.load(file_name)\n",
    "    data.append(mean_diff)\n",
    "fig, axes = plt.subplots(1, 1, figsize=(5, 5))\n",
    "axes.violinplot(data)\n",
    "axes.set_xticks(range(0, 12, 1))\n",
    "labels = list(range(0, 201, 20))\n",
    "labels.insert(0, \"\")\n",
    "axes.set_xticklabels(labels)\n",
    "axes.set_xlabel(\"Epoch\", fontsize=14)\n",
    "# axes.set_ylabel(r'$3\\sigma$-confidence width', fontsize=14)\n",
    "axes.set_ylabel(r\"Posterior mean - True conformation\", fontsize=14)\n",
    "# axes.axhline(0, xmin=0, xmax=12, color='red', alpha=0.4)\n",
    "# fig.savefig('Epochs_mean.pdf', dpi=400)"
   ]
  },
  {
   "cell_type": "code",
   "execution_count": null,
   "id": "7a9a5ad5",
   "metadata": {},
   "outputs": [],
   "source": [
    "cryosbi = CryoEmSimulator(\"../experiments/benchmark_hsp90/image_params_training.json\")\n",
    "for i in range(0, 201, 20):\n",
    "    file_name = f\"posterior_hsp90.estimator_epoch={i}\"\n",
    "    if i == 200:\n",
    "        file_name = f\"posterior_hsp90.estimator\"\n",
    "\n",
    "    train_config = json.load(open(config_dir + \"resnet18_encoder.json\"))\n",
    "    estimator = build_models.build_npe_flow_model(train_config)\n",
    "    estimator.load_state_dict(torch.load(config_dir + file_name))\n",
    "    estimator.cuda()\n",
    "    estimator.eval()\n",
    "\n",
    "    loader = JointLoader(\n",
    "        priors.get_uniform_prior_1d(cryosbi.max_index),\n",
    "        cryosbi.simulator,\n",
    "        vectorized=False,\n",
    "        batch_size=1,\n",
    "        num_workers=num_workers,\n",
    "        prefetch_factor=1,\n",
    "    )\n",
    "\n",
    "    levels, coverages = expected_coverage_mc(\n",
    "        estimator.flow,\n",
    "        (\n",
    "            (estimator.standardize(theta.cuda()), x.cuda())\n",
    "            for theta, x in islice(loader, 20000)\n",
    "        ),\n",
    "        n=num_posterior_samples_SBC,\n",
    "    )\n",
    "\n",
    "    torch.save([levels, coverages], f\"SBC_round={i}.pt\")"
   ]
  },
  {
   "cell_type": "code",
   "execution_count": null,
   "id": "fed2c8f3",
   "metadata": {},
   "outputs": [],
   "source": [
    "fig, axes = plt.subplots(1, 1, figsize=(5, 5))\n",
    "levels, coverages = [], []\n",
    "for i in range(0, 201, 40):\n",
    "    file_name = f\"SBC_round={i}.pt\"\n",
    "    level, coverage = torch.load(file_name)\n",
    "    axes.plot(level, coverage, label=f\"Round={i}\")\n",
    "    # print(level)\n",
    "    # levels.append(level)\n",
    "    # coverages.append(coverage)\n",
    "axes.plot([0, 1], [0, 1], linestyle=\"--\", color=\"black\")\n",
    "axes.legend()\n",
    "fig.savefig(\"SBC_rounds.pdf\", dpi=300)"
   ]
  },
  {
   "cell_type": "code",
   "execution_count": null,
   "id": "28c5b225",
   "metadata": {},
   "outputs": [],
   "source": [
    "plt.plot(torch.load(\"../experiments/benchmark_hsp90/posterior_hsp90.loss\"))"
   ]
  },
  {
   "cell_type": "markdown",
   "id": "1f1226dd-53f1-40db-82a7-657c60a8e104",
   "metadata": {},
   "source": [
    "## Load cryo-em simulator and posterior with correct config"
   ]
  },
  {
   "cell_type": "code",
   "execution_count": null,
   "id": "f2eb23c1-3229-48a7-a965-deb74277e0a8",
   "metadata": {},
   "outputs": [],
   "source": [
    "cryosbi = CryoEmSimulator(\"../experiments/benchmark_hsp90/image_params_training.json\")"
   ]
  },
  {
   "cell_type": "code",
   "execution_count": null,
   "id": "269ee74f-9a78-4c27-bd7f-14ec441de8ba",
   "metadata": {},
   "outputs": [],
   "source": [
    "train_config = json.load(open(config_dir + \"resnet18_encoder.json\"))\n",
    "estimator = build_models.build_npe_flow_model(train_config)\n",
    "estimator.load_state_dict(torch.load(config_dir + \"posterior_hsp90_ex.estimator\"))\n",
    "estimator.cuda()\n",
    "estimator.eval();"
   ]
  },
  {
   "cell_type": "markdown",
   "id": "488a4635-ea67-4728-b016-a9ecebe23e4a",
   "metadata": {},
   "source": [
    "## Testing posterior on single images"
   ]
  },
  {
   "cell_type": "code",
   "execution_count": null,
   "id": "872d28d3-0ec6-4928-b825-216f071740d3",
   "metadata": {},
   "outputs": [],
   "source": [
    "indices = torch.tensor(np.arange(0, cryosbi.max_index + 1, 1), dtype=float)\n",
    "images = torch.stack([cryosbi.simulator(index) for index in indices], dim=0)"
   ]
  },
  {
   "cell_type": "code",
   "execution_count": null,
   "id": "fb0f924d-8f2c-4c32-b15d-f23d2b805a23",
   "metadata": {},
   "outputs": [],
   "source": [
    "theta_samples = []\n",
    "with torch.no_grad():\n",
    "    for batched_images in torch.split(\n",
    "        images, split_size_or_sections=batch_size_sampling, dim=0\n",
    "    ):\n",
    "        samples = estimator.sample(\n",
    "            batched_images.cuda(non_blocking=True), shape=(num_samples_posterior,)\n",
    "        ).cpu()\n",
    "        theta_samples.append(samples)\n",
    "    samples = torch.cat(theta_samples, dim=1)"
   ]
  },
  {
   "cell_type": "code",
   "execution_count": null,
   "id": "3b4133ac-b50e-4d37-8b78-2732d6ebeb01",
   "metadata": {},
   "outputs": [],
   "source": [
    "fig, axes = plt.subplots(4, 5, figsize=(10, 8))\n",
    "for idx, ax in enumerate(axes.reshape(-1)):\n",
    "    ax.imshow(images[idx], vmax=5, vmin=-5)\n",
    "    ax.set_yticks([])\n",
    "    ax.set_xticks([])\n",
    "    ax.text(10, 20, str(int(indices[idx].item())))\n",
    "# plt.savefig('save_example_particles_old_settings.pdf', dpi=400)"
   ]
  },
  {
   "cell_type": "code",
   "execution_count": null,
   "id": "2add5831-d35d-4a19-b422-e0c4f03b98ef",
   "metadata": {
    "tags": []
   },
   "outputs": [],
   "source": [
    "fig, axes = plt.subplots(4, 5, figsize=(10, 8), sharex=True)\n",
    "for idx, ax in enumerate(axes.reshape(1, -1)[0]):\n",
    "    ax.hist(\n",
    "        samples[:, idx].numpy(),\n",
    "        bins=np.arange(0, 20, 0.5),\n",
    "        histtype=\"step\",\n",
    "        color=\"blue\",\n",
    "        label=\"all\",\n",
    "    )\n",
    "    ax.set_yticks([])\n",
    "    ax.set_yticks([])\n",
    "    ax.set_xticks(range(0, 20, 4))\n",
    "    ax.axvline(indices[idx], color=\"red\")\n",
    "# plt.savefig('save_example_posterior_old_settings.pdf', dpi=400)"
   ]
  },
  {
   "cell_type": "markdown",
   "id": "a7213a4a-3a5d-4e04-9edd-d1906ff02818",
   "metadata": {},
   "source": [
    "## Generate images from prior and evaluate posterior for statistical analysis"
   ]
  },
  {
   "cell_type": "code",
   "execution_count": null,
   "id": "0d40097c-43b3-41a4-b01a-0216c6ec6465",
   "metadata": {},
   "outputs": [],
   "source": [
    "indices = priors.get_uniform_prior_1d(cryosbi.max_index).sample((5000,))\n",
    "images = torch.stack([cryosbi.simulator(index) for index in indices], dim=0)"
   ]
  },
  {
   "cell_type": "code",
   "execution_count": null,
   "id": "f1c977bb-673d-4b08-94c0-39d93c52c63b",
   "metadata": {},
   "outputs": [],
   "source": [
    "theta_samples = []\n",
    "with torch.no_grad():\n",
    "    for batched_images in torch.split(\n",
    "        images, split_size_or_sections=batch_size_sampling, dim=0\n",
    "    ):\n",
    "        samples = estimator.sample(\n",
    "            batched_images.cuda(non_blocking=True), shape=(num_samples_posterior,)\n",
    "        ).cpu()\n",
    "        theta_samples.append(samples.reshape(-1, batch_size_sampling))\n",
    "    samples = torch.cat(theta_samples, dim=1)"
   ]
  },
  {
   "cell_type": "code",
   "execution_count": null,
   "id": "ec3aae2c",
   "metadata": {},
   "outputs": [],
   "source": [
    "mean_distance = (samples.mean(dim=0) - indices.reshape(-1)).numpy()\n",
    "posterior_quantiles = np.quantile(samples.numpy(), [0.025, 0.975], axis=0)\n",
    "confidence_widths = (posterior_quantiles[1] - posterior_quantiles[0]).flatten()"
   ]
  },
  {
   "cell_type": "code",
   "execution_count": null,
   "id": "82c9029e",
   "metadata": {},
   "outputs": [],
   "source": [
    "fig, (ax1, ax2) = plt.subplots(1, 2, figsize=(10, 5))\n",
    "_ = ax1.hist(mean_distance, bins=np.arange(-10, 10, 0.25), density=True)\n",
    "_ = ax2.hist(confidence_widths, bins=np.arange(0, 20, 0.4), density=True)\n",
    "ax1.set_xlabel(\"Posterior mean - True conformation\", fontsize=13)\n",
    "ax2.set_xlabel(r\"Width of 3$\\sigma$-confidence-intervall\", fontsize=13)\n",
    "ax1.set_yticklabels([])\n",
    "ax2.set_yticklabels([])\n",
    "fig.savefig(\"posterior_accuracy_precision.pdf\", dpi=400)"
   ]
  },
  {
   "cell_type": "markdown",
   "id": "a890dc7a-5881-46fa-9ac2-c5a9379d7834",
   "metadata": {},
   "source": [
    "## Compute posterior calibration"
   ]
  },
  {
   "cell_type": "code",
   "execution_count": null,
   "id": "5bfb7150-5ed0-4d17-a31a-54be434b2ff9",
   "metadata": {},
   "outputs": [],
   "source": [
    "loader = JointLoader(\n",
    "    priors.get_uniform_prior_1d(cryosbi.max_index),\n",
    "    cryosbi.simulator,\n",
    "    vectorized=False,\n",
    "    batch_size=1,\n",
    "    num_workers=num_workers,\n",
    "    prefetch_factor=1,\n",
    ")\n",
    "\n",
    "levels, coverages = expected_coverage_mc(\n",
    "    estimator.flow,\n",
    "    (\n",
    "        (estimator.standardize(theta.cuda()), x.cuda())\n",
    "        for theta, x in islice(loader, 10000)\n",
    "    ),\n",
    "    n=num_posterior_samples_SBC,\n",
    ")\n",
    "\n",
    "fig = coverage_plot(levels, coverages, legend=\"NPE\")\n",
    "\n",
    "# fig.savefig(f'posterior_hsp90_SBC.pdf', dpi=400)\n",
    "\n",
    "if save_figures:\n",
    "    fig.savefig(f\"{plot_dir}{file_name}_SBC.pdf\", dpi=400)"
   ]
  },
  {
   "cell_type": "markdown",
   "id": "5050ccaa-fcff-4e37-8255-ed65a172e6a1",
   "metadata": {},
   "source": [
    "## Generate images from index 10 with known quaternion"
   ]
  },
  {
   "cell_type": "code",
   "execution_count": null,
   "id": "beda7e80-e8ed-41ff-beb1-50c66ceca824",
   "metadata": {},
   "outputs": [],
   "source": [
    "quats = torch.from_numpy(np.load(\"quaternion_list.npy\"))[:5000]\n",
    "num_simulations = len(quats)\n",
    "indices = 10 * torch.ones(num_simulations).reshape(-1, 1)\n",
    "parameters = torch.cat((indices, quats), dim=1)\n",
    "images = torch.stack(\n",
    "    [cryosbi._simulator_with_quat(param) for param in parameters], dim=0\n",
    ")"
   ]
  },
  {
   "cell_type": "code",
   "execution_count": null,
   "id": "998ed401-01d7-4bbc-a9bc-c942eea26cb5",
   "metadata": {},
   "outputs": [],
   "source": [
    "theta_samples = []\n",
    "with torch.no_grad():\n",
    "    for batched_images in torch.split(\n",
    "        images, split_size_or_sections=batch_size_sampling, dim=0\n",
    "    ):\n",
    "        samples = estimator.sample(\n",
    "            batched_images.cuda(non_blocking=True), shape=(num_samples_posterior,)\n",
    "        ).cpu()\n",
    "        theta_samples.append(samples.reshape(-1, batch_size_sampling))\n",
    "samples = torch.cat(theta_samples, dim=1)"
   ]
  },
  {
   "cell_type": "code",
   "execution_count": null,
   "id": "efe3e5d9",
   "metadata": {},
   "outputs": [],
   "source": [
    "mean_distance = (samples.mean(dim=0) - indices.reshape(-1)).numpy()\n",
    "posterior_quantiles = np.quantile(samples.numpy(), [0.025, 0.975], axis=0)\n",
    "confidence_widths = (posterior_quantiles[1] - posterior_quantiles[0]).flatten()"
   ]
  },
  {
   "cell_type": "code",
   "execution_count": null,
   "id": "62d855e4",
   "metadata": {},
   "outputs": [],
   "source": [
    "import matplotlib.pyplot as plt\n",
    "from matplotlib import cm, colors\n",
    "from mpl_toolkits.mplot3d import Axes3D\n",
    "import numpy as np\n",
    "from scipy.spatial.transform import Rotation\n",
    "\n",
    "# Create a sphere\n",
    "r = 1\n",
    "pi = np.pi\n",
    "cos = np.cos\n",
    "sin = np.sin\n",
    "phi, theta = np.mgrid[0.0:pi:100j, 0.0 : 2.0 * pi : 100j]\n",
    "x = r * sin(phi) * cos(theta)\n",
    "y = r * sin(phi) * sin(theta)\n",
    "z = r * cos(phi)\n",
    "\n",
    "unit_vecotr = np.array([0, 0, 1])\n",
    "points = []\n",
    "for i in range(len(quats)):\n",
    "    rot_mat = Rotation.from_quat(quats[i]).as_matrix()\n",
    "    coord = np.matmul(rot_mat, unit_vecotr)\n",
    "    points.append(coord)\n",
    "points = np.array(points)\n",
    "\n",
    "xx = points[:, 0]\n",
    "yy = points[:, 1]\n",
    "zz = points[:, 2]\n",
    "\n",
    "# Set colours and render\n",
    "fig = plt.figure()\n",
    "ax = fig.add_subplot(111, projection=\"3d\")\n",
    "\n",
    "# ax.plot_surface(\n",
    "#    x, y, z,  rstride=1, cstride=1, color='c', alpha=0.3, linewidth=0)\n",
    "\n",
    "im = ax.scatter(xx, yy, zz, s=confidence_widths, c=confidence_widths)\n",
    "\n",
    "ax.set_xlabel(\"x\")\n",
    "ax.set_ylabel(\"y\")\n",
    "# ax.set_zlabel('z')\n",
    "ax.set_xticklabels([])\n",
    "ax.set_yticklabels([])\n",
    "ax.set_zticklabels([])\n",
    "\n",
    "ax.azim = -40\n",
    "ax.elev = 30\n",
    "ax.dist = 10\n",
    "\n",
    "fig.colorbar(im)\n",
    "\n",
    "ax.set_xlim([-1, 1])\n",
    "ax.set_ylim([-1, 1])\n",
    "ax.set_zlim([-1, 1])\n",
    "ax.set_aspect(\"auto\")\n",
    "plt.tight_layout()\n",
    "plt.show()"
   ]
  }
 ],
 "metadata": {
  "kernelspec": {
   "display_name": "Python 3 (ipykernel)",
   "language": "python",
   "name": "python3"
  },
  "language_info": {
   "codemirror_mode": {
    "name": "ipython",
    "version": 3
   },
   "file_extension": ".py",
   "mimetype": "text/x-python",
   "name": "python",
   "nbconvert_exporter": "python",
   "pygments_lexer": "ipython3",
   "version": "3.9.15"
  },
  "vscode": {
   "interpreter": {
    "hash": "1391d301e9aa4dc24331c4a52095d8473e5107d84c03241f78234deb9fd2437e"
   }
  },
  "widgets": {
   "application/vnd.jupyter.widget-state+json": {
    "state": {},
    "version_major": 2,
    "version_minor": 0
   }
  }
 },
 "nbformat": 4,
 "nbformat_minor": 5
}

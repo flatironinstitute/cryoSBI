{
 "cells": [
  {
   "cell_type": "code",
   "execution_count": null,
   "id": "c11d3bbe-f081-467b-9a51-f993cd7dea8a",
   "metadata": {},
   "outputs": [],
   "source": [
    "import matplotlib.pyplot as plt\n",
    "import numpy as np\n",
    "import torch\n",
    "import json\n",
    "from multiprocessing import Pool\n",
    "from lampe.data import JointLoader\n",
    "from itertools import islice\n",
    "from tqdm import tqdm\n",
    "from lampe.diagnostics import expected_coverage_mc\n",
    "from lampe.plots import coverage_plot\n",
    "import mrcfile\n",
    "\n",
    "from cryo_sbi.inference.models import build_models\n",
    "from cryo_sbi import CryoEmSimulator\n",
    "from cryo_sbi.inference import priors"
   ]
  },
  {
   "cell_type": "code",
   "execution_count": null,
   "id": "bed3b97c",
   "metadata": {},
   "outputs": [],
   "source": [
    "file_name = '6wxb_torsion_nma'    # File name \n",
    "data_dir = \"../experiments/6wxb/\"\n",
    "num_samples_stats = 20000           # Number of simulations for computing posterior stats\n",
    "num_samples_SBC = 10000             # Number of simulations for SBC\n",
    "num_posterior_samples_SBC = 4096    # Number of posterior samples for each SBC simulation\n",
    "num_samples_posterior = 50000       # Number of samples to draw from posterior\n",
    "batch_size_sampling = 100           # Batch size for sampling posterior\n",
    "num_workers = 24                    # Number of CPU cores\n",
    "device = 'cuda'                     # Device for computations\n",
    "save_figures = False"
   ]
  },
  {
   "cell_type": "markdown",
   "id": "1f1226dd-53f1-40db-82a7-657c60a8e104",
   "metadata": {},
   "source": [
    "## Load cryo-em simulator and posterior with correct config"
   ]
  },
  {
   "cell_type": "code",
   "execution_count": null,
   "id": "f2eb23c1-3229-48a7-a965-deb74277e0a8",
   "metadata": {},
   "outputs": [],
   "source": [
    "cryosbi = CryoEmSimulator(data_dir + \"image_params_training.json\")"
   ]
  },
  {
   "cell_type": "code",
   "execution_count": null,
   "id": "269ee74f-9a78-4c27-bd7f-14ec441de8ba",
   "metadata": {},
   "outputs": [],
   "source": [
    "train_config = json.load(open(data_dir + \"resnet18_encoder.json\"))\n",
    "estimator = build_models.build_npe_flow_model(train_config)\n",
    "estimator.load_state_dict(torch.load(data_dir + \"6wxb_resnet18.estimator\"))\n",
    "estimator.cuda()\n",
    "estimator.eval();"
   ]
  },
  {
   "cell_type": "code",
   "execution_count": null,
   "id": "29af44d0",
   "metadata": {},
   "outputs": [],
   "source": [
    "cryosbi.config['SNR'] = [0.1 , 0.01]"
   ]
  },
  {
   "cell_type": "code",
   "execution_count": null,
   "id": "1e46c543",
   "metadata": {},
   "outputs": [],
   "source": [
    "indices = torch.tensor(np.arange(0, cryosbi.max_index + 1, 5), dtype=float).reshape(-1, 1)\n",
    "images = torch.stack([cryosbi.simulator(index) for index in indices], dim=0)"
   ]
  },
  {
   "cell_type": "code",
   "execution_count": null,
   "id": "ae6568ac",
   "metadata": {},
   "outputs": [],
   "source": [
    "fig, axes = plt.subplots(4, 5, figsize=(10, 8))\n",
    "for idx, ax in enumerate(axes.reshape(-1)):\n",
    "    ax.imshow(images[idx], vmax=4, vmin=-4, cmap='binary')\n",
    "    ax.set_yticks([])\n",
    "    ax.set_xticks([])\n",
    "    ax.text(10, 20, str(int(indices[idx].item())))\n",
    "#plt.savefig('../experiments/6wxb/results/plots/6wxb_examples.pdf')"
   ]
  },
  {
   "cell_type": "code",
   "execution_count": null,
   "id": "2a582c37",
   "metadata": {},
   "outputs": [],
   "source": [
    "theta_samples = []\n",
    "with torch.no_grad():\n",
    "    for batched_images in torch.split(images, split_size_or_sections=1, dim=0):\n",
    "        batched_images[0][circular_mask(128, 64)] = 0\n",
    "        #plt.imshow(batched_images[0])\n",
    "        #plt.show()\n",
    "        samples = estimator.sample(\n",
    "            batched_images.cuda(non_blocking=True),\n",
    "            shape=(num_samples_posterior,)\n",
    "        ).cpu()\n",
    "        theta_samples.append(\n",
    "            samples\n",
    "        )\n",
    "    samples = torch.cat(theta_samples, dim=1)"
   ]
  },
  {
   "cell_type": "code",
   "execution_count": null,
   "id": "98e83b0e",
   "metadata": {},
   "outputs": [],
   "source": [
    "fig, axes = plt.subplots(4, 5, figsize=(10, 8), sharex=True)\n",
    "for idx, ax in enumerate(axes.reshape(1, -1)[0]):\n",
    "    ax.hist(samples[:, idx].flatten().numpy(), bins=np.arange(0, 100, 0.5), histtype=\"step\", color=\"blue\", label=\"all\")\n",
    "    ax.set_yticks([])\n",
    "    ax.set_yticks([])\n",
    "    ax.set_xticks(range(0, 100, 20))\n",
    "    ax.axvline(indices[idx], color='red')\n",
    "#plt.savefig('../experiments/6wxb/results/plots/torsion_nma.pdf', dpi=300)"
   ]
  },
  {
   "cell_type": "code",
   "execution_count": null,
   "id": "60548f81",
   "metadata": {},
   "outputs": [],
   "source": [
    "labels = np.load('../../6wxb/6wxb_models/distance_to_reference.npy')\n",
    "labels_str = []\n",
    "for l in labels:\n",
    "    labels_str.append(f'{l:.2f}')"
   ]
  },
  {
   "cell_type": "code",
   "execution_count": null,
   "id": "7ef9b8df",
   "metadata": {},
   "outputs": [],
   "source": [
    "with mrcfile.open('../../6wxb/6wxb_models/particles/FoilHole_24136295_Data_24136362_24136364_20200224_020513_Fractions_particles_local_aligned.mrc') as data:\n",
    "    particles = data.data\n",
    "particles = torch.from_numpy(particles)"
   ]
  },
  {
   "cell_type": "code",
   "execution_count": null,
   "id": "baa03f47",
   "metadata": {},
   "outputs": [],
   "source": [
    "def f(*args):\n",
    "    print(args)\n",
    "\n",
    "f(1)"
   ]
  },
  {
   "cell_type": "code",
   "execution_count": null,
   "id": "42b9df96",
   "metadata": {},
   "outputs": [],
   "source": [
    "import torchvision.transforms as transforms\n",
    "\n",
    "class NormalizeIndividual():\n",
    "    def __init__(self) -> None:\n",
    "        pass\n",
    "\n",
    "    def __call__(self, images):\n",
    "        mean = images.mean(dim=[1, 2])\n",
    "        std = images.std(dim=[1, 2])\n",
    "        return transforms.functional.normalize(\n",
    "            images,\n",
    "            mean=mean, \n",
    "            std=std\n",
    "        )\n",
    "\n",
    "    \n",
    "class MRCtoTensor():\n",
    "    def __init__(self) -> None:\n",
    "        pass\n",
    "\n",
    "    def __call__(self, image_path):\n",
    "        assert isinstance(image_path, str), 'image path needs to be a string'\n",
    "        with mrcfile.open(image_path) as mrc:\n",
    "            image = mrc.data\n",
    "        return torch.from_numpy(image)\n",
    "    \n",
    "\n",
    "\n",
    "transform = transforms.Compose([\n",
    "    MRCtoTensor(),\n",
    "    transforms.Resize(size=(128, 128)),\n",
    "    NormalizeIndividual()\n",
    "])"
   ]
  },
  {
   "cell_type": "code",
   "execution_count": null,
   "id": "0cdc1ef1",
   "metadata": {},
   "outputs": [],
   "source": [
    "img_file = '../../6wxb_test_particles/10532/data/03_Refined_Particles/P30_J363_particles/J342/localmotioncorrected/FoilHole_24136295_Data_24136362_24136364_20200224_020513_Fractions_particles_local_aligned.mrc'\n",
    "euler = '../../6wxb_test_particles/10532/data/03_Refined_Particles/P30_J363_particles/J342/localmotioncorrected/FoilHole_24136295_Data_24136362_24136364_20200224_020513_Fractions_particles_traj.npy'"
   ]
  },
  {
   "cell_type": "code",
   "execution_count": null,
   "id": "29b50b54",
   "metadata": {},
   "outputs": [],
   "source": [
    "fig, axes = plt.subplots(4, 5, figsize=(10, 8))\n",
    "for i, ax in enumerate(axes.reshape(-1)):\n",
    "    ax.imshow(transform(img_file)[i], vmax=4, vmin=-4, cmap='binary')\n",
    "    ax.set_yticks([])\n",
    "    ax.set_xticks([])"
   ]
  },
  {
   "cell_type": "code",
   "execution_count": null,
   "id": "ecbb9654",
   "metadata": {},
   "outputs": [],
   "source": [
    "particles_transfomed = transform(particles)"
   ]
  },
  {
   "cell_type": "code",
   "execution_count": null,
   "id": "90b95a7e",
   "metadata": {},
   "outputs": [],
   "source": [
    "fig, axes = plt.subplots(1, 2, figsize=(10, 5))\n",
    "axes[0].imshow(particles_transfomed[1], vmax=3, vmin=-3)\n",
    "axes[0].set_title('Resized real particle')\n",
    "axes[1].imshow(images[2], vmax=3, vmin=-3)\n",
    "axes[1].set_title('Syntehtic particle')\n",
    "#fig.savefig('../experiments/6wxb/results/plots/comparison_particles.pdf', dpi=400)"
   ]
  },
  {
   "cell_type": "code",
   "execution_count": null,
   "id": "54525a33",
   "metadata": {},
   "outputs": [],
   "source": [
    "with torch.no_grad(): \n",
    "    t = estimator.embedding.resnet.conv1(particles_transfomed[10].reshape(1, 1, 128, 128).cuda())\n",
    "    t = estimator.embedding.resnet.relu(t)"
   ]
  },
  {
   "cell_type": "code",
   "execution_count": null,
   "id": "0b763c05",
   "metadata": {},
   "outputs": [],
   "source": [
    "particles_transfomed[10].reshape(1, 1, 128, 128)"
   ]
  },
  {
   "cell_type": "code",
   "execution_count": null,
   "id": "642223cd",
   "metadata": {},
   "outputs": [],
   "source": [
    "samples = estimator.sample(particles_transfomed.cuda(), shape=(50000,)).cpu()"
   ]
  },
  {
   "cell_type": "code",
   "execution_count": null,
   "id": "2b319847",
   "metadata": {},
   "outputs": [],
   "source": [
    "for i in range(5):\n",
    "    _ = plt.hist(samples[:, i].flatten().numpy(), bins=np.linspace(0, 101, 101), histtype='step')\n",
    "    #_ = plt.xticks(ticks=np.linspace(0, 101, 101)[::10], labels=labels_str[::10])\n",
    "#plt.savefig('../experiments/6wxb/results/plots/posteriors_100_particles.pdf', dpi=400)"
   ]
  },
  {
   "cell_type": "code",
   "execution_count": null,
   "id": "31e97404",
   "metadata": {},
   "outputs": [],
   "source": [
    "_ = plt.hist(samples.flatten().numpy(), bins=np.linspace(0, 101, 101))\n",
    "#plt.savefig('../experiments/6wxb/results/plots/averaged_posterior_all_particles.pdf', dpi=400)"
   ]
  },
  {
   "cell_type": "code",
   "execution_count": null,
   "id": "7c3175e9",
   "metadata": {},
   "outputs": [],
   "source": []
  }
 ],
 "metadata": {
  "kernelspec": {
   "display_name": "cryo_sbi",
   "language": "python",
   "name": "python3"
  },
  "language_info": {
   "codemirror_mode": {
    "name": "ipython",
    "version": 3
   },
   "file_extension": ".py",
   "mimetype": "text/x-python",
   "name": "python",
   "nbconvert_exporter": "python",
   "pygments_lexer": "ipython3",
   "version": "3.10.0"
  },
  "vscode": {
   "interpreter": {
    "hash": "1391d301e9aa4dc24331c4a52095d8473e5107d84c03241f78234deb9fd2437e"
   }
  },
  "widgets": {
   "application/vnd.jupyter.widget-state+json": {
    "state": {},
    "version_major": 2,
    "version_minor": 0
   }
  }
 },
 "nbformat": 4,
 "nbformat_minor": 5
}

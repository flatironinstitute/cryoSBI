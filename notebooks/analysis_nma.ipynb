{
 "cells": [
  {
   "cell_type": "code",
   "execution_count": null,
   "id": "c11d3bbe-f081-467b-9a51-f993cd7dea8a",
   "metadata": {},
   "outputs": [],
   "source": [
    "import matplotlib.pyplot as plt\n",
    "import numpy as np\n",
    "import torch\n",
    "import torchvision.transforms as transforms\n",
    "import json\n",
    "import mrcfile\n",
    "import umap\n",
    "\n",
    "from cryo_sbi.inference.models import build_models\n",
    "from cryo_sbi import CryoEmSimulator\n",
    "from cryo_sbi.inference import priors\n",
    "from cryo_sbi.utils.estimator_utils import sample_posterior, compute_latent_repr\n",
    "from cryo_sbi.utils.image_utils import LowPassFilter, NormalizeIndividual, MRCtoTensor\n",
    "from cryo_sbi.wpa_simulator.noise import circular_mask"
   ]
  },
  {
   "cell_type": "code",
   "execution_count": null,
   "id": "42b9df96",
   "metadata": {},
   "outputs": [],
   "source": [
    "\n",
    "fft_cut = 64\n",
    "test = transforms.Compose([\n",
    "    LowPassFilter(fft_cut, 128),\n",
    "    NormalizeIndividual()\n",
    "])\n",
    "\n",
    "transform = transforms.Compose([\n",
    "    MRCtoTensor(),\n",
    "    transforms.Resize(size=(128, 128)),\n",
    "    LowPassFilter(fft_cut, 128),\n",
    "    NormalizeIndividual()\n",
    "])"
   ]
  },
  {
   "cell_type": "code",
   "execution_count": null,
   "id": "bbaa5a5d",
   "metadata": {},
   "outputs": [],
   "source": [
    "config = json.load(open('../experiments/6wxb/image_params_training.json'))"
   ]
  },
  {
   "cell_type": "code",
   "execution_count": null,
   "id": "bed3b97c",
   "metadata": {},
   "outputs": [],
   "source": [
    "file_name = '6wxb_nma'    # File name \n",
    "data_dir = \"../experiments/6wxb/\"\n",
    "num_samples_stats = 20000           # Number of simulations for computing posterior stats\n",
    "num_samples_SBC = 10000             # Number of simulations for SBC\n",
    "num_posterior_samples_SBC = 4096    # Number of posterior samples for each SBC simulation\n",
    "num_samples_posterior = 50000       # Number of samples to draw from posterior\n",
    "batch_size_sampling = 100           # Batch size for sampling posterior\n",
    "num_workers = 24                    # Number of CPU cores\n",
    "device = 'cuda'                     # Device for computations\n",
    "save_figures = False"
   ]
  },
  {
   "cell_type": "markdown",
   "id": "1f1226dd-53f1-40db-82a7-657c60a8e104",
   "metadata": {},
   "source": [
    "## Load cryo-em simulator and posterior with correct config"
   ]
  },
  {
   "cell_type": "code",
   "execution_count": null,
   "id": "f2eb23c1-3229-48a7-a965-deb74277e0a8",
   "metadata": {},
   "outputs": [],
   "source": [
    "cryosbi = CryoEmSimulator(data_dir + \"image_params_training.json\")\n",
    "cryosbi.config['SNR'] = 0.01"
   ]
  },
  {
   "cell_type": "code",
   "execution_count": null,
   "id": "269ee74f-9a78-4c27-bd7f-14ec441de8ba",
   "metadata": {},
   "outputs": [],
   "source": [
    "train_config = json.load(open(data_dir + \"resnet18_encoder.json\"))\n",
    "estimator = build_models.build_npe_flow_model(train_config)\n",
    "estimator.load_state_dict(torch.load(data_dir + \"posterior_6wxb.estimator\"))\n",
    "estimator.cuda()\n",
    "estimator.eval();"
   ]
  },
  {
   "attachments": {},
   "cell_type": "markdown",
   "id": "c004f61c",
   "metadata": {},
   "source": [
    "# Test simulator over whole prior range"
   ]
  },
  {
   "cell_type": "code",
   "execution_count": null,
   "id": "1e46c543",
   "metadata": {},
   "outputs": [],
   "source": [
    "indices = torch.tensor(np.arange(0, cryosbi.max_index + 1, 5), dtype=float).reshape(-1, 1)\n",
    "images = torch.stack([cryosbi.simulator(index) for index in indices], dim=0)"
   ]
  },
  {
   "cell_type": "code",
   "execution_count": null,
   "id": "f25ca640",
   "metadata": {},
   "outputs": [],
   "source": [
    "images = test(images)"
   ]
  },
  {
   "cell_type": "code",
   "execution_count": null,
   "id": "ae6568ac",
   "metadata": {},
   "outputs": [],
   "source": [
    "fig, axes = plt.subplots(4, 5, figsize=(10, 8))\n",
    "for idx, ax in enumerate(axes.reshape(-1)):\n",
    "    ax.imshow(images[idx], vmax=4, vmin=-4, cmap='binary')\n",
    "    ax.set_yticks([])\n",
    "    ax.set_xticks([])\n",
    "    ax.text(10, 20, str(int(indices[idx].item())))\n",
    "#plt.savefig('../experiments/6wxb/results/plots/6wxb_examples.pdf')"
   ]
  },
  {
   "cell_type": "code",
   "execution_count": null,
   "id": "eb51c836",
   "metadata": {},
   "outputs": [],
   "source": [
    "samples = sample_posterior(estimator, images, num_samples=10000, device='cuda')"
   ]
  },
  {
   "cell_type": "code",
   "execution_count": null,
   "id": "98e83b0e",
   "metadata": {},
   "outputs": [],
   "source": [
    "fig, axes = plt.subplots(4, 5, figsize=(10, 8), sharex=True)\n",
    "for idx, ax in enumerate(axes.reshape(1, -1)[0]):\n",
    "    ax.hist(samples[:, idx].flatten().numpy(), bins=np.arange(0, 100, 0.7), histtype=\"step\", color=\"blue\", label=\"all\")\n",
    "    ax.set_yticks([])\n",
    "    ax.set_yticks([])\n",
    "    ax.set_xticks(range(0, 100, 20))\n",
    "    ax.axvline(indices[idx], color='red')\n",
    "#plt.savefig('../experiments/6wxb/results/plots/torsion_nma.pdf', dpi=300)"
   ]
  },
  {
   "attachments": {},
   "cell_type": "markdown",
   "id": "95e1385b",
   "metadata": {},
   "source": [
    "# Simualte setup by generating particles from the original cryo-em structure"
   ]
  },
  {
   "cell_type": "code",
   "execution_count": null,
   "id": "7297fc6e",
   "metadata": {},
   "outputs": [],
   "source": [
    "indices = 50 * torch.ones(500, dtype=torch.float)\n",
    "images = torch.stack([cryosbi.simulator(index) for index in indices], dim=0)"
   ]
  },
  {
   "cell_type": "code",
   "execution_count": null,
   "id": "db76ff29",
   "metadata": {},
   "outputs": [],
   "source": [
    "images = test(images)"
   ]
  },
  {
   "cell_type": "code",
   "execution_count": null,
   "id": "86876b3b",
   "metadata": {},
   "outputs": [],
   "source": [
    "samples_syn = sample_posterior(estimator, images, num_samples=10000, device='cuda')"
   ]
  },
  {
   "cell_type": "code",
   "execution_count": null,
   "id": "d9ae4595",
   "metadata": {},
   "outputs": [],
   "source": [
    "fig, axes = plt.subplots(4, 5, figsize=(10, 8), sharex=True)\n",
    "for idx, ax in enumerate(axes.reshape(1, -1)[0]):\n",
    "    ax.hist(samples_syn[:, idx].flatten().numpy(), bins=np.arange(0, 100, 0.7), histtype=\"step\", color=\"blue\", label=\"all\")\n",
    "    ax.set_yticks([])\n",
    "    ax.set_yticks([])\n",
    "    ax.set_xticks(range(0, 100, 20))\n",
    "    ax.axvline(indices[idx], color='red')\n",
    "#plt.savefig('../experiments/6wxb/results/plots/torsion_nma.pdf', dpi=300)"
   ]
  },
  {
   "cell_type": "code",
   "execution_count": null,
   "id": "b371beff",
   "metadata": {},
   "outputs": [],
   "source": [
    "plt.hist(samples_syn.mean(dim=0), bins=np.linspace(0, 100, 50))\n",
    "plt.xlabel('Posterior means', fontsize=15)\n",
    "plt.yticks([])"
   ]
  },
  {
   "attachments": {},
   "cell_type": "markdown",
   "id": "dcf9cefa",
   "metadata": {},
   "source": [
    "# Now with real data"
   ]
  },
  {
   "cell_type": "code",
   "execution_count": null,
   "id": "0cdc1ef1",
   "metadata": {},
   "outputs": [],
   "source": [
    "img_file = '../../6wxb_test_particles/10532/data/03_Refined_Particles/P30_J363_particles/J342/localmotioncorrected/FoilHole_24136295_Data_24136362_24136364_20200224_020513_Fractions_particles_local_aligned.mrc'\n",
    "particles_transfomed = transform(img_file)"
   ]
  },
  {
   "cell_type": "code",
   "execution_count": null,
   "id": "e742d42b",
   "metadata": {},
   "outputs": [],
   "source": [
    "samples_real = sample_posterior(estimator, particles_transfomed, num_samples=10000, device='cuda')"
   ]
  },
  {
   "cell_type": "code",
   "execution_count": null,
   "id": "29b50b54",
   "metadata": {},
   "outputs": [],
   "source": [
    "offset = 40\n",
    "fig, axes = plt.subplots(4, 5, figsize=(10, 8))\n",
    "for i, ax in enumerate(axes.reshape(-1)):\n",
    "    ax.imshow(particles_transfomed[i+offset], vmax=4, vmin=-4, cmap='binary')\n",
    "    ax.set_yticks([])\n",
    "    ax.set_xticks([])"
   ]
  },
  {
   "cell_type": "code",
   "execution_count": null,
   "id": "9d4ff825",
   "metadata": {},
   "outputs": [],
   "source": [
    "fig, axes = plt.subplots(4, 5, figsize=(10, 8), sharex=True)\n",
    "for idx, ax in enumerate(axes.reshape(1, -1)[0]):\n",
    "    ax.hist(samples_real[:, idx+offset].flatten().numpy(), bins=np.arange(0, 100, 0.7), histtype=\"step\", color=\"blue\", label=\"all\")\n",
    "    ax.set_yticks([])\n",
    "    ax.set_yticks([])\n",
    "    ax.set_xticks(range(0, 100, 20))"
   ]
  },
  {
   "cell_type": "code",
   "execution_count": null,
   "id": "052bda30",
   "metadata": {},
   "outputs": [],
   "source": [
    "plt.hist(samples_real.mean(dim=0), bins=np.linspace(0, 100, 50))\n",
    "plt.xlabel('Posterior means', fontsize=15)\n",
    "plt.yticks([])"
   ]
  },
  {
   "attachments": {},
   "cell_type": "markdown",
   "id": "01c0ab7e",
   "metadata": {},
   "source": [
    "# Comparing experimental and synthetic images in the latent space of the posterior"
   ]
  },
  {
   "cell_type": "code",
   "execution_count": null,
   "id": "5fe94f19",
   "metadata": {},
   "outputs": [],
   "source": [
    "num_syn_parts = 500\n",
    "indices = 50 * torch.ones(num_syn_parts, dtype=torch.float)\n",
    "#indices = priors.get_uniform_prior_1d(cryosbi.max_index).sample((num_syn_parts,))\n",
    "images = torch.stack([cryosbi.simulator(index) for index in indices], dim=0)\n",
    "images = test(images)"
   ]
  },
  {
   "cell_type": "code",
   "execution_count": null,
   "id": "c7b2c3b8",
   "metadata": {},
   "outputs": [],
   "source": [
    "syntetic_particles_latent = compute_latent_repr(estimator, images, batch_size=100, device='cuda')\n",
    "particles_latent = compute_latent_repr(estimator, particles_transfomed, batch_size=100, device='cuda')\n",
    "cat_latent_samples = torch.cat((syntetic_particles_latent, particles_latent), dim=0)\n",
    "labels_latent = torch.cat((torch.ones((len(indices),)), torch.zeros((161,))), dim=0)"
   ]
  },
  {
   "cell_type": "code",
   "execution_count": null,
   "id": "c6f6d677",
   "metadata": {},
   "outputs": [],
   "source": [
    "reducer = umap.UMAP(metric='euclidean', n_components=2,  n_neighbors=50)\n",
    "embedding = reducer.fit_transform(cat_latent_samples.numpy())"
   ]
  },
  {
   "cell_type": "code",
   "execution_count": null,
   "id": "0a2e944d",
   "metadata": {},
   "outputs": [],
   "source": [
    "plt.scatter(embedding[:num_syn_parts, 0], embedding[:num_syn_parts, 1], s=3, c='blue', label='Synthetic images')\n",
    "plt.scatter(embedding[num_syn_parts:, 0], embedding[num_syn_parts:, 1], s=3, c='red', label='Experimental images')\n",
    "plt.xlabel('UMAP 1', fontsize=15)\n",
    "plt.ylabel('UMAP 2', fontsize=15)\n",
    "plt.legend(fontsize=15, markerscale=3, loc='lower left')"
   ]
  },
  {
   "cell_type": "code",
   "execution_count": null,
   "id": "90b95a7e",
   "metadata": {},
   "outputs": [],
   "source": [
    "fig, axes = plt.subplots(1, 2, figsize=(10, 5))\n",
    "axes[0].imshow(particles_transfomed[1], vmax=3, vmin=-3, cmap='binary')\n",
    "axes[0].set_title('Resized real particle')\n",
    "axes[1].imshow(images[42], vmax=3, vmin=-3, cmap='binary')\n",
    "axes[1].set_title('Syntehtic particle')\n",
    "#fig.savefig('../experiments/6wxb/results/plots/comparison_particles.pdf', dpi=400)"
   ]
  },
  {
   "cell_type": "code",
   "execution_count": null,
   "id": "b2df5f29",
   "metadata": {},
   "outputs": [],
   "source": []
  }
 ],
 "metadata": {
  "kernelspec": {
   "display_name": "cryo_sbi",
   "language": "python",
   "name": "python3"
  },
  "language_info": {
   "codemirror_mode": {
    "name": "ipython",
    "version": 3
   },
   "file_extension": ".py",
   "mimetype": "text/x-python",
   "name": "python",
   "nbconvert_exporter": "python",
   "pygments_lexer": "ipython3",
   "version": "3.10.0"
  },
  "vscode": {
   "interpreter": {
    "hash": "1391d301e9aa4dc24331c4a52095d8473e5107d84c03241f78234deb9fd2437e"
   }
  },
  "widgets": {
   "application/vnd.jupyter.widget-state+json": {
    "state": {},
    "version_major": 2,
    "version_minor": 0
   }
  }
 },
 "nbformat": 4,
 "nbformat_minor": 5
}

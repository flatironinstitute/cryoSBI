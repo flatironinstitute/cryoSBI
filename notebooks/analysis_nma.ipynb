{
 "cells": [
  {
   "cell_type": "code",
   "execution_count": null,
   "id": "c11d3bbe-f081-467b-9a51-f993cd7dea8a",
   "metadata": {},
   "outputs": [],
   "source": [
    "import matplotlib.pyplot as plt\n",
    "import numpy as np\n",
    "import torch\n",
    "import torchvision.transforms as transforms\n",
    "import json\n",
    "import mrcfile\n",
    "import umap\n",
    "\n",
    "from cryo_sbi.inference.models import build_models\n",
    "from cryo_sbi import CryoEmSimulator\n",
    "from cryo_sbi.inference import priors\n",
    "from cryo_sbi.utils.estimator_utils import sample_posterior, compute_latent_repr\n",
    "from cryo_sbi.utils.image_utils import LowPassFilter, NormalizeIndividual, MRCtoTensor, FourierDownSample, Mask"
   ]
  },
  {
   "cell_type": "code",
   "execution_count": null,
   "id": "42b9df96",
   "metadata": {},
   "outputs": [],
   "source": [
    "transform = transforms.Compose([\n",
    "    MRCtoTensor(),\n",
    "    transforms.Resize(size=(128, 128)),\n",
    "    NormalizeIndividual(),\n",
    "    Mask(128, 50)\n",
    "])\n",
    "\n",
    "transform_sim = transforms.Compose([\n",
    "    NormalizeIndividual(),\n",
    "    Mask(128, 45),\n",
    "    LowPassFilter(128, 80)\n",
    "])\n",
    "\n",
    "transform_exp = transforms.Compose([\n",
    "    MRCtoTensor(),\n",
    "    transforms.Resize(size=(128, 128)),\n",
    "    NormalizeIndividual(),\n",
    "    #Mask(128, 45),   \n",
    "    LowPassFilter(128, 80)\n",
    "])"
   ]
  },
  {
   "cell_type": "code",
   "execution_count": null,
   "id": "bed3b97c",
   "metadata": {},
   "outputs": [],
   "source": [
    "file_name = '6wxb_nma'    # File name \n",
    "data_dir = \"../experiments/6wxb/\"\n",
    "num_samples_stats = 20000           # Number of simulations for computing posterior stats\n",
    "num_samples_SBC = 10000             # Number of simulations for SBC\n",
    "num_posterior_samples_SBC = 4096    # Number of posterior samples for each SBC simulation\n",
    "num_samples_posterior = 50000       # Number of samples to draw from posterior\n",
    "batch_size_sampling = 100           # Batch size for sampling posterior\n",
    "num_workers = 24                    # Number of CPU cores\n",
    "device = 'cuda'                     # Device for computations\n",
    "save_figures = False"
   ]
  },
  {
   "cell_type": "markdown",
   "id": "1f1226dd-53f1-40db-82a7-657c60a8e104",
   "metadata": {},
   "source": [
    "## Load cryo-em simulator and posterior with correct config"
   ]
  },
  {
   "cell_type": "code",
   "execution_count": null,
   "id": "f2eb23c1-3229-48a7-a965-deb74277e0a8",
   "metadata": {},
   "outputs": [],
   "source": [
    "cryosbi = CryoEmSimulator(data_dir + \"image_params_mixed_training.json\")\n",
    "cryosbi.config['SNR'] = 0.025\n",
    "cryosbi.config['SIGMA'] = 6.0\n",
    "cryosbi.config['DEFOCUS'] = 2.0"
   ]
  },
  {
   "cell_type": "code",
   "execution_count": null,
   "id": "269ee74f-9a78-4c27-bd7f-14ec441de8ba",
   "metadata": {},
   "outputs": [],
   "source": [
    "train_config = json.load(open(data_dir + \"resnet18_fft_encoder.json\"))\n",
    "estimator = build_models.build_npe_flow_model(train_config)\n",
    "estimator.load_state_dict(torch.load(data_dir + \"6wxb_mixed_posterior_noise.estimator\"))\n",
    "estimator.cuda()\n",
    "estimator.eval();"
   ]
  },
  {
   "attachments": {},
   "cell_type": "markdown",
   "id": "c004f61c",
   "metadata": {},
   "source": [
    "# Test simulator over whole prior range"
   ]
  },
  {
   "cell_type": "code",
   "execution_count": null,
   "id": "1e46c543",
   "metadata": {},
   "outputs": [],
   "source": [
    "indices = torch.tensor(np.arange(0, 100, 5, dtype=float))#torch.tensor(np.arange(0, cryosbi.max_index + 1, 5), dtype=float)\n",
    "images = torch.stack([cryosbi.simulator(index) for index in indices], dim=0)"
   ]
  },
  {
   "cell_type": "code",
   "execution_count": null,
   "id": "8059f6c0",
   "metadata": {},
   "outputs": [],
   "source": [
    "masking = Mask(128, 50)"
   ]
  },
  {
   "cell_type": "code",
   "execution_count": null,
   "id": "a78e6f87",
   "metadata": {},
   "outputs": [],
   "source": [
    "images = masking(images)"
   ]
  },
  {
   "cell_type": "code",
   "execution_count": null,
   "id": "ae6568ac",
   "metadata": {},
   "outputs": [],
   "source": [
    "fig, axes = plt.subplots(4, 5, figsize=(10, 8))\n",
    "for idx, ax in enumerate(axes.reshape(-1)):\n",
    "    ax.imshow(images[idx], vmax=4, vmin=-4, cmap='binary')\n",
    "    ax.set_yticks([])\n",
    "    ax.set_xticks([])\n",
    "    ax.text(10, 20, str(int(indices[idx].item())))\n",
    "#plt.savefig('../experiments/6wxb/results/plots/6wxb_examples.pdf')"
   ]
  },
  {
   "cell_type": "code",
   "execution_count": null,
   "id": "eb51c836",
   "metadata": {},
   "outputs": [],
   "source": [
    "samples = sample_posterior(estimator, images, num_samples=10000, device='cuda')"
   ]
  },
  {
   "cell_type": "code",
   "execution_count": null,
   "id": "98e83b0e",
   "metadata": {},
   "outputs": [],
   "source": [
    "fig, axes = plt.subplots(4, 5, figsize=(10, 8), sharex=True)\n",
    "for idx, ax in enumerate(axes.reshape(1, -1)[0]):\n",
    "    ax.hist(samples[:, idx].flatten().numpy(), bins=np.arange(0, 100, 1), histtype=\"step\", color=\"blue\", label=\"all\")\n",
    "    ax.set_yticks([])\n",
    "    ax.set_yticks([])\n",
    "    ax.set_xticks(range(0, 100, 20))\n",
    "    ax.axvline(indices[idx], color='red')\n",
    "#plt.savefig('../experiments/6wxb/results/plots/torsion_nma.pdf', dpi=300)"
   ]
  },
  {
   "attachments": {},
   "cell_type": "markdown",
   "id": "95e1385b",
   "metadata": {},
   "source": [
    "# Simualte setup by generating particles from the original cryo-em structure"
   ]
  },
  {
   "cell_type": "code",
   "execution_count": null,
   "id": "7297fc6e",
   "metadata": {},
   "outputs": [],
   "source": [
    "indices = 50 * torch.ones(500, dtype=torch.float)\n",
    "images = torch.stack([cryosbi.simulator(index) for index in indices], dim=0)"
   ]
  },
  {
   "cell_type": "code",
   "execution_count": null,
   "id": "86876b3b",
   "metadata": {},
   "outputs": [],
   "source": [
    "samples_syn = sample_posterior(estimator, images, num_samples=10000, device='cuda')"
   ]
  },
  {
   "cell_type": "code",
   "execution_count": null,
   "id": "d9ae4595",
   "metadata": {},
   "outputs": [],
   "source": [
    "fig, axes = plt.subplots(4, 5, figsize=(10, 8), sharex=True)\n",
    "for idx, ax in enumerate(axes.reshape(1, -1)[0]):\n",
    "    ax.hist(samples_syn[:, idx].flatten().numpy(), bins=np.arange(0, 100, 0.7), histtype=\"step\", color=\"blue\", label=\"all\")\n",
    "    ax.set_yticks([])\n",
    "    ax.set_yticks([])\n",
    "    ax.set_xticks(range(0, 100, 20))\n",
    "    ax.axvline(indices[idx], color='red')\n",
    "#plt.savefig('../experiments/6wxb/results/plots/torsion_nma.pdf', dpi=300)"
   ]
  },
  {
   "cell_type": "code",
   "execution_count": null,
   "id": "b371beff",
   "metadata": {},
   "outputs": [],
   "source": [
    "plt.hist(samples_syn.mean(axis=0), bins=np.linspace(0, 100, 30))\n",
    "plt.title('Experiment with synthetic data')\n",
    "xticks = np.load('../../6wxb/6wxb_nma/distance_to_reference.npy')\n",
    "plt.xlabel('Position of posterior means (RMSD)', fontsize=15)\n",
    "plt.xticks(ticks=[0, 20, 40, 60, 80, 100], labels=list(map(lambda x: f'{x:.3f}', xticks[::20])))\n",
    "plt.yticks([])"
   ]
  },
  {
   "cell_type": "code",
   "execution_count": null,
   "id": "08ba2279",
   "metadata": {},
   "outputs": [],
   "source": [
    "xticks = np.load('../../6wxb/6wxb_nma/distance_to_reference.npy')\n",
    "list(map(lambda x: f'{x:.3f}', xticks[::20]))"
   ]
  },
  {
   "attachments": {},
   "cell_type": "markdown",
   "id": "dcf9cefa",
   "metadata": {},
   "source": [
    "# Now with real data"
   ]
  },
  {
   "cell_type": "code",
   "execution_count": null,
   "id": "262b69b7",
   "metadata": {},
   "outputs": [],
   "source": [
    "particles_transfomed = []\n",
    "for i in range(1, 17):\n",
    "    if i < 10:\n",
    "        img_file = f'../../6wxb/particles/particles_0{i}.mrc'\n",
    "    else:\n",
    "        img_file = f'../../6wxb/particles/particles_{i}.mrc'\n",
    "    tmp_images = transform(img_file)\n",
    "    particles_transfomed.append(tmp_images)\n",
    "particles_transfomed = torch.cat(particles_transfomed, dim=0)"
   ]
  },
  {
   "cell_type": "code",
   "execution_count": null,
   "id": "0cdc1ef1",
   "metadata": {},
   "outputs": [],
   "source": [
    "img_file = \"../../6wxb/particles/bio_em_images.mrc\"\n",
    "particles_transfomed = transform(img_file)\n",
    "#particles_transfomed[:, cm] = 0"
   ]
  },
  {
   "cell_type": "code",
   "execution_count": null,
   "id": "e742d42b",
   "metadata": {},
   "outputs": [],
   "source": [
    "samples_real = sample_posterior(estimator, particles_transfomed, num_samples=10000, device='cuda', batch_size=500)"
   ]
  },
  {
   "cell_type": "code",
   "execution_count": null,
   "id": "29b50b54",
   "metadata": {},
   "outputs": [],
   "source": [
    "offset = 14\n",
    "fig, axes = plt.subplots(4, 5, figsize=(10, 8))\n",
    "for i, ax in enumerate(axes.reshape(-1)):\n",
    "    ax.imshow(particles_transfomed[i+offset], vmax=4, vmin=-4, cmap='binary')\n",
    "    ax.set_yticks([])\n",
    "    ax.set_xticks([])"
   ]
  },
  {
   "cell_type": "code",
   "execution_count": null,
   "id": "9d4ff825",
   "metadata": {},
   "outputs": [],
   "source": [
    "fig, axes = plt.subplots(4, 5, figsize=(10, 8), sharex=True)\n",
    "for i, ax in enumerate(axes.reshape(1, -1)[0]):\n",
    "    ax.hist(samples_real[:, i+offset].flatten().numpy(), bins=np.arange(0, 100, 0.7), histtype=\"step\", color=\"blue\", label=\"all\")\n",
    "    ax.set_yticks([])\n",
    "    ax.set_yticks([])\n",
    "    ax.set_xticks(range(0, 100, 20))\n",
    "    ax.axvline(50, color='red')"
   ]
  },
  {
   "cell_type": "code",
   "execution_count": null,
   "id": "052bda30",
   "metadata": {},
   "outputs": [],
   "source": [
    "plt.title('Experiment with real data')\n",
    "plt.hist(samples_real.mean(axis=0), bins=np.linspace(0, 100, 40))\n",
    "xticks = np.load('../../6wxb/6wxb_nma/distance_to_reference.npy')\n",
    "#plt.xlabel('Position of posterior means (RMSD)', fontsize=15)\n",
    "#plt.xticks(ticks=[0, 20, 40, 60, 80, 100], labels=list(map(lambda x: f'{x:.3f}', xticks[::20])))\n",
    "plt.yticks([])"
   ]
  },
  {
   "cell_type": "code",
   "execution_count": null,
   "id": "764d5f6a",
   "metadata": {},
   "outputs": [],
   "source": [
    "posterior_quantiles = np.quantile(samples_real.numpy(), [0.025, 0.975], axis=0)\n",
    "confidence_widths = (posterior_quantiles[1] - posterior_quantiles[0]).flatten()\n",
    "condition = confidence_widths < 50\n",
    "idx = np.where(condition)[0]"
   ]
  },
  {
   "cell_type": "code",
   "execution_count": null,
   "id": "c66d7634",
   "metadata": {},
   "outputs": [],
   "source": [
    "offset = 0\n",
    "fig, axes = plt.subplots(4, 5, figsize=(10, 8))\n",
    "for i, ax in enumerate(axes.reshape(-1)):\n",
    "    ax.imshow(particles_transfomed[idx[i+offset]], vmax=4, vmin=-4, cmap='binary')\n",
    "    ax.set_yticks([])\n",
    "    ax.set_xticks([])"
   ]
  },
  {
   "cell_type": "code",
   "execution_count": null,
   "id": "b33bdd98",
   "metadata": {},
   "outputs": [],
   "source": [
    "fig, axes = plt.subplots(4, 5, figsize=(10, 8), sharex=True)\n",
    "for i, ax in enumerate(axes.reshape(1, -1)[0]):\n",
    "    ax.hist(samples_real[:, idx[i+offset]].flatten().numpy(), bins=np.arange(0, 100, 1), histtype=\"step\", color=\"blue\", label=\"all\")\n",
    "    ax.set_yticks([])\n",
    "    ax.set_yticks([])\n",
    "    ax.set_xticks(range(0, 100, 20))"
   ]
  },
  {
   "cell_type": "code",
   "execution_count": null,
   "id": "e6bd22a9",
   "metadata": {},
   "outputs": [],
   "source": [
    "plt.hist(samples_real[:, idx].mean(axis=0), bins=np.linspace(0, 100, 30))\n",
    "xticks = np.load('../../6wxb/6wxb_nma/distance_to_reference.npy')\n",
    "#plt.xlabel('Position of posterior means (RMSD)', fontsize=15)\n",
    "#plt.xticks(ticks=[0, 20, 40, 60, 80, 100], labels=list(map(lambda x: f'{x:.3f}', xticks[::20])))\n",
    "plt.yticks([])"
   ]
  },
  {
   "cell_type": "code",
   "execution_count": null,
   "id": "9521d7a7",
   "metadata": {},
   "outputs": [],
   "source": [
    "particles_transfomed = []\n",
    "for i in range(1, 17):\n",
    "    if i < 10:\n",
    "        img_file = f'../../6wxb/particles/particles_0{i}.mrc'\n",
    "    else:\n",
    "        img_file = f'../../6wxb/particles/particles_{i}.mrc'\n",
    "    tmp_images = transform(img_file)\n",
    "    particles_transfomed.append(tmp_images)\n",
    "particles_transfomed = torch.cat(particles_transfomed, dim=0)"
   ]
  },
  {
   "cell_type": "code",
   "execution_count": null,
   "id": "624c27f6",
   "metadata": {},
   "outputs": [],
   "source": [
    "cryosbi = CryoEmSimulator(data_dir + \"image_params_mixed_training.json\")"
   ]
  },
  {
   "cell_type": "code",
   "execution_count": null,
   "id": "5fe94f19",
   "metadata": {},
   "outputs": [],
   "source": [
    "num_syn_parts = 1000\n",
    "#indices = 50 * torch.ones(num_syn_parts, dtype=torch.float)\n",
    "indices = priors.get_uniform_prior_1d(cryosbi.max_index).sample((num_syn_parts,))\n",
    "images = torch.stack([cryosbi.simulator(index) for index in indices], dim=0)\n",
    "images = masking(images)"
   ]
  },
  {
   "cell_type": "code",
   "execution_count": null,
   "id": "685bdad0",
   "metadata": {},
   "outputs": [],
   "source": [
    "plt.imshow(images[0])"
   ]
  },
  {
   "cell_type": "code",
   "execution_count": null,
   "id": "16cf0861",
   "metadata": {},
   "outputs": [],
   "source": [
    "syntetic_particles_latent = compute_latent_repr(estimator, images, batch_size=100, device='cuda')\n",
    "particles_latent = compute_latent_repr(estimator, particles_transfomed, batch_size=100, device='cuda')"
   ]
  },
  {
   "cell_type": "code",
   "execution_count": null,
   "id": "3ca20690",
   "metadata": {},
   "outputs": [],
   "source": [
    "out_upper = (particles_latent < syntetic_particles_latent.max(dim=0).values).all(axis=1)\n",
    "out_lower = (particles_latent > syntetic_particles_latent.min(dim=0).values).all(axis=1)\n",
    "cond = torch.logical_and(out_lower, out_upper)\n",
    "idx_almost_exp = torch.where(cond)[0]"
   ]
  },
  {
   "cell_type": "code",
   "execution_count": null,
   "id": "b65a44a1",
   "metadata": {},
   "outputs": [],
   "source": [
    "particles_latent = particles_latent[idx_almost_exp]"
   ]
  },
  {
   "cell_type": "code",
   "execution_count": null,
   "id": "c7b2c3b8",
   "metadata": {},
   "outputs": [],
   "source": [
    "\n",
    "cat_latent_samples = torch.cat((syntetic_particles_latent, particles_latent), dim=0)\n",
    "labels_latent = torch.cat((torch.ones((len(indices),)), torch.zeros((particles_transfomed.shape[0],))), dim=0)"
   ]
  },
  {
   "cell_type": "code",
   "execution_count": null,
   "id": "c6f6d677",
   "metadata": {},
   "outputs": [],
   "source": [
    "reducer = umap.UMAP(metric='euclidean', n_components=2,  n_neighbors=1000)\n",
    "embedding = reducer.fit_transform(cat_latent_samples.numpy())"
   ]
  },
  {
   "cell_type": "code",
   "execution_count": null,
   "id": "0a2e944d",
   "metadata": {},
   "outputs": [],
   "source": [
    "plt.scatter(embedding[:num_syn_parts, 0], embedding[:num_syn_parts, 1], s=3, c='blue', label='Synthetic images')\n",
    "plt.scatter(embedding[num_syn_parts:, 0], embedding[num_syn_parts:, 1], s=3, c='red', label='Experimental images')\n",
    "plt.xlabel('UMAP 1', fontsize=15)\n",
    "plt.ylabel('UMAP 2', fontsize=15)\n",
    "plt.legend(fontsize=15, markerscale=3, loc='lower left')"
   ]
  },
  {
   "cell_type": "code",
   "execution_count": null,
   "id": "055c5038",
   "metadata": {},
   "outputs": [],
   "source": [
    "#condition = np.sqrt(embedding[num_syn_parts:, 0] ** 2 + embedding[num_syn_parts:, 1] ** 2) < 5\n",
    "#condition = embedding[num_syn_parts:, 0] > 10\n",
    "condition = np.logical_and(embedding_exp[:, 0] > 7, embedding_exp[:, 0] < 8)\n",
    "#condition = np.logical_and(embedding[:num_syn_parts, 0] < 10, embedding[:num_syn_parts, 1] > 12)\n",
    "idx_almost_exp = np.where(condition)[0]\n",
    "samples_almost = sample_posterior(estimator, particles_transfomed[idx_almost_exp], num_samples=10000, device='cuda')"
   ]
  },
  {
   "cell_type": "code",
   "execution_count": null,
   "id": "e95ab202",
   "metadata": {},
   "outputs": [],
   "source": [
    "condition.sum()"
   ]
  },
  {
   "cell_type": "code",
   "execution_count": null,
   "id": "977456fc",
   "metadata": {},
   "outputs": [],
   "source": [
    "out_upper = (particles_latent < syntetic_particles_latent.max(dim=0).values).all(axis=1)\n",
    "out_lower = (particles_latent > syntetic_particles_latent.min(dim=0).values).all(axis=1)\n",
    "cond = torch.logical_and(out_lower, out_upper)\n",
    "idx_almost_exp = torch.where(cond)[0]\n",
    "#samples_almost = sample_posterior(estimator, particles_transfomed[idx_almost_exp], num_samples=10000, device='cuda')"
   ]
  },
  {
   "cell_type": "code",
   "execution_count": null,
   "id": "5e17bd25",
   "metadata": {},
   "outputs": [],
   "source": []
  },
  {
   "cell_type": "code",
   "execution_count": null,
   "id": "d38dfbb5",
   "metadata": {},
   "outputs": [],
   "source": [
    "fig, axes = plt.subplots(4, 5, figsize=(10, 8), sharex=True)\n",
    "for i, ax in enumerate(axes.reshape(1, -1)[0]):\n",
    "    ax.hist(samples_almost[:, i].flatten().numpy(), bins=np.arange(0, 100, 2), histtype=\"step\", color=\"blue\", label=\"all\")\n",
    "    ax.set_yticks([])\n",
    "    ax.set_yticks([])\n",
    "    ax.set_xticks(range(0, 100, 20))\n",
    "    ax.axvline(60, color='red')"
   ]
  },
  {
   "cell_type": "code",
   "execution_count": null,
   "id": "d1b089da",
   "metadata": {},
   "outputs": [],
   "source": [
    "fig, axes = plt.subplots(4, 5, figsize=(10, 8))\n",
    "for i, ax in enumerate(axes.reshape(-1)):\n",
    "    ax.imshow(particles_transfomed[idx_almost_exp[i]], vmax=4, vmin=-4, cmap='binary')\n",
    "    ax.set_yticks([])\n",
    "    ax.set_xticks([])"
   ]
  },
  {
   "cell_type": "code",
   "execution_count": null,
   "id": "90b95a7e",
   "metadata": {},
   "outputs": [],
   "source": [
    "fig, axes = plt.subplots(1, 2, figsize=(10, 5))\n",
    "axes[0].imshow(particles_transfomed[1], vmax=3, vmin=-3, cmap='binary')\n",
    "axes[0].set_title('Resized real particle')\n",
    "axes[1].imshow(images[51], vmax=3, vmin=-3, cmap='binary')\n",
    "axes[1].set_title('Syntehtic particle')\n",
    "#fig.savefig('../experiments/6wxb/results/plots/comparison_particles.pdf', dpi=400)"
   ]
  },
  {
   "cell_type": "code",
   "execution_count": null,
   "id": "b2df5f29",
   "metadata": {},
   "outputs": [],
   "source": [
    "vis_images = transform_vis(images)\n",
    "vis_images_real = transform_vis1('../../6wxb_test_particles/10532/data/03_Refined_Particles/P30_J363_particles/J342/localmotioncorrected/FoilHole_24136295_Data_24136362_24136364_20200224_020513_Fractions_particles_local_aligned.mrc')"
   ]
  },
  {
   "cell_type": "code",
   "execution_count": null,
   "id": "1d1062db",
   "metadata": {},
   "outputs": [],
   "source": [
    "fig, axes = plt.subplots(1, 2, figsize=(10, 5))\n",
    "axes[0].imshow(vis_images_real[43], vmax=3, vmin=-3, cmap='binary')\n",
    "axes[0].set_title('Resized real particle')\n",
    "axes[1].imshow(vis_images[51], vmax=3, vmin=-3, cmap='binary')\n",
    "axes[1].set_title('Syntehtic particle')"
   ]
  },
  {
   "cell_type": "code",
   "execution_count": null,
   "id": "f5113d24",
   "metadata": {},
   "outputs": [],
   "source": [
    " torch.fft.fft2(images[8])"
   ]
  },
  {
   "cell_type": "code",
   "execution_count": null,
   "id": "2c07eb2f",
   "metadata": {},
   "outputs": [],
   "source": [
    "def circular_mask(n_pixels, radius, inside=True):\n",
    "    grid = torch.linspace(-0.5 * (n_pixels - 1), 0.5 * (n_pixels - 1), n_pixels)\n",
    "    r_2d = grid[None, :] ** 2 + grid[:, None] ** 2\n",
    "\n",
    "    if inside is True:\n",
    "        mask = r_2d < radius**2\n",
    "    else:\n",
    "        mask = r_2d > radius**2\n",
    "\n",
    "    return mask"
   ]
  },
  {
   "cell_type": "code",
   "execution_count": null,
   "id": "07fb170b",
   "metadata": {},
   "outputs": [],
   "source": [
    "import torch.distributions as d\n",
    "\n",
    "class AddLowFrequencyNoise:\n",
    "    \"\"\"Adding low frequency noise, also serving as a low pass filter\"\"\"\n",
    "    def __init__(self, image_size, min_frequency, amplitude) -> None:\n",
    "        self._imge_size = image_size\n",
    "        self._mask = circular_mask(image_size, min_frequency, inside=False)\n",
    "        self._num_frequencies = self._mask.sum()\n",
    "        \n",
    "        if isinstance(amplitude, (float, int)):\n",
    "            self._amplitude = d.uniform.Uniform(low=amplitude, high=amplitude)\n",
    "        elif isinstance(amplitude, (list, tuple)):\n",
    "            self._amplitude = d.uniform.Uniform(low=amplitude[0], high=amplitude[1])\n",
    "    \n",
    "    def __call__(self, image):\n",
    "        fft_image = torch.fft.fft2(image)\n",
    "\n",
    "        if len(image.shape) == 2:\n",
    "            fft_image[self._mask] += self._amplitude.sample() * torch.randn((self._num_frequencies,), dtype=torch.complex64)\n",
    "            fft_image[self._mask == False] = 0 + 0j\n",
    "        elif len(image.shape) == 3:\n",
    "            fft_image[:, self._mask] += self._amplitude.sample((image.shape[0], 1)) * torch.randn((image.shape[0], self._num_frequencies), dtype=torch.complex64)\n",
    "            fft_image[:, self._mask == False] = 0 + 0j\n",
    "        else:\n",
    "            raise NotImplementedError\n",
    "    \n",
    "        return torch.fft.ifft2(fft_image).real\n"
   ]
  },
  {
   "cell_type": "code",
   "execution_count": null,
   "id": "2f5c91d6",
   "metadata": {},
   "outputs": [],
   "source": [
    "d.uniform.Uniform(low=torch.tensor(1., device='cuda'), high=torch.tensor(1., device='cuda')).sample((4,))"
   ]
  },
  {
   "cell_type": "code",
   "execution_count": null,
   "id": "26eb7494",
   "metadata": {},
   "outputs": [],
   "source": [
    "cm = circular_mask(128, 80, inside=False)\n",
    "cm2 = circular_mask(128, 50, inside=False)"
   ]
  },
  {
   "cell_type": "code",
   "execution_count": null,
   "id": "c9dd543f",
   "metadata": {},
   "outputs": [],
   "source": [
    "idx = 10"
   ]
  },
  {
   "cell_type": "code",
   "execution_count": null,
   "id": "0b3fcb11",
   "metadata": {},
   "outputs": [],
   "source": [
    "fft_img = torch.fft.fft2(images[idx])\n",
    "print(fft_img.real.max())\n",
    "noise = (fft_img.real.std() * 3.0 * torch.randn((cm.sum(),), dtype=torch.complex64))\n",
    "#fft_img[cm] += noise\n",
    "fft_img[cm2] = 0 + 0j"
   ]
  },
  {
   "cell_type": "code",
   "execution_count": null,
   "id": "0e1740b0",
   "metadata": {},
   "outputs": [],
   "source": [
    "ni = torch.fft.ifft2(fft_img).real"
   ]
  },
  {
   "cell_type": "code",
   "execution_count": null,
   "id": "d86e0b7c",
   "metadata": {},
   "outputs": [],
   "source": [
    "images[:, cm2] = 0"
   ]
  },
  {
   "cell_type": "code",
   "execution_count": null,
   "id": "58fe13de",
   "metadata": {},
   "outputs": [],
   "source": [
    "t = AddLowFrequencyNoise(128, 80, (0, 500))\n",
    "images = t(images)"
   ]
  },
  {
   "cell_type": "code",
   "execution_count": null,
   "id": "15fe082a",
   "metadata": {},
   "outputs": [],
   "source": [
    "torch.tensor([1,]).device = "
   ]
  },
  {
   "cell_type": "code",
   "execution_count": null,
   "id": "385a50b1",
   "metadata": {},
   "outputs": [],
   "source": [
    "plt.imshow(images[43], cmap='binary', vmax=2, vmin=-2)"
   ]
  },
  {
   "cell_type": "code",
   "execution_count": null,
   "id": "0300fe2a",
   "metadata": {},
   "outputs": [],
   "source": [
    "plt.imshow(ni, cmap='binary', vmax=2, vmin=-2)"
   ]
  },
  {
   "cell_type": "code",
   "execution_count": null,
   "id": "2639fb7c",
   "metadata": {},
   "outputs": [],
   "source": [
    "plt.imshow(particles_transfomed[43], cmap='binary', vmax=2, vmin=-2)"
   ]
  },
  {
   "cell_type": "code",
   "execution_count": null,
   "id": "829e99c4",
   "metadata": {},
   "outputs": [],
   "source": []
  },
  {
   "cell_type": "code",
   "execution_count": null,
   "id": "6ae6b762",
   "metadata": {},
   "outputs": [],
   "source": [
    "cryosbi = CryoEmSimulator(data_dir + \"image_params_mixed_training.json\")\n",
    "cryosbi.config['SNR'] = 0.1\n",
    "cryosbi.config['SIGMA'] = 15.0\n",
    "cryosbi.config['DEFOCUS'] = 1.0"
   ]
  },
  {
   "cell_type": "code",
   "execution_count": null,
   "id": "0f22ee4e",
   "metadata": {},
   "outputs": [],
   "source": [
    "def gen_img(coord, image_params):\n",
    "    n_atoms = coord.shape[1]\n",
    "\n",
    "    if isinstance(image_params[\"SIGMA\"], float):\n",
    "        atom_sigma = image_params[\"SIGMA\"]\n",
    "\n",
    "    elif isinstance(image_params[\"SIGMA\"], list) and len(image_params[\"SIGMA\"]) == 2:\n",
    "        atom_sigma = np.random.uniform(\n",
    "            low=image_params[\"SIGMA\"][0], high=image_params[\"SIGMA\"][1]\n",
    "        )\n",
    "    else:\n",
    "        raise ValueError(\n",
    "            \"SIGMA should be a single value or a list of [min_sigma, max_sigma]\"\n",
    "        )\n",
    "\n",
    "    norm = 1 / (2 * torch.pi * atom_sigma**2 * n_atoms)\n",
    "\n",
    "    grid_min = -image_params[\"PIXEL_SIZE\"] * (image_params[\"N_PIXELS\"] - 1) * 0.5\n",
    "    grid_max = (\n",
    "        image_params[\"PIXEL_SIZE\"] * (image_params[\"N_PIXELS\"] - 1) * 0.5\n",
    "        + image_params[\"PIXEL_SIZE\"]\n",
    "    )\n",
    "\n",
    "    grid = torch.arange(grid_min, grid_max, image_params[\"PIXEL_SIZE\"])\n",
    "\n",
    "    gauss_x = torch.exp(-0.5 * (((grid[:, None] - coord[0, :]) / atom_sigma) ** 2))\n",
    "\n",
    "    gauss_y = torch.exp(-0.5 * (((grid[:, None] - coord[1, :]) / atom_sigma) ** 2))\n",
    "\n",
    "    image = torch.matmul(gauss_x, gauss_y.T) * norm\n",
    "\n",
    "    return image\n"
   ]
  },
  {
   "cell_type": "code",
   "execution_count": null,
   "id": "54a1a3b2",
   "metadata": {},
   "outputs": [],
   "source": [
    "gen_img(cryosbi.models[0], cryosbi.config)"
   ]
  },
  {
   "cell_type": "code",
   "execution_count": null,
   "id": "6dc3bdc8",
   "metadata": {},
   "outputs": [],
   "source": [
    "%timeit gen_img(cryosbi.models[0], cryosbi.config)"
   ]
  },
  {
   "cell_type": "code",
   "execution_count": null,
   "id": "4c73429a",
   "metadata": {},
   "outputs": [],
   "source": [
    "%timeit gen_img(cryosbi.models[0], cryosbi.config)"
   ]
  }
 ],
 "metadata": {
  "kernelspec": {
   "display_name": "cryo_sbi",
   "language": "python",
   "name": "python3"
  },
  "language_info": {
   "codemirror_mode": {
    "name": "ipython",
    "version": 3
   },
   "file_extension": ".py",
   "mimetype": "text/x-python",
   "name": "python",
   "nbconvert_exporter": "python",
   "pygments_lexer": "ipython3",
   "version": "3.10.0 (default, Mar  3 2022, 09:58:08) [GCC 7.5.0]"
  },
  "vscode": {
   "interpreter": {
    "hash": "1391d301e9aa4dc24331c4a52095d8473e5107d84c03241f78234deb9fd2437e"
   }
  },
  "widgets": {
   "application/vnd.jupyter.widget-state+json": {
    "state": {},
    "version_major": 2,
    "version_minor": 0
   }
  }
 },
 "nbformat": 4,
 "nbformat_minor": 5
}

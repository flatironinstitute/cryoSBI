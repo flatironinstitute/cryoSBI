{
 "cells": [
  {
   "cell_type": "code",
   "execution_count": null,
   "metadata": {},
   "outputs": [],
   "source": [
    "import torchvision.transforms as transforms\n",
    "import matplotlib.pyplot as plt\n",
    "import torch\n",
    "import numpy as np"
   ]
  },
  {
   "cell_type": "code",
   "execution_count": null,
   "metadata": {},
   "outputs": [],
   "source": [
    "from cryo_sbi.utils.image_utils import (\n",
    "    Mask,\n",
    "    MRCtoTensor,\n",
    "    LowPassFilter,\n",
    "    FourierDownSample,\n",
    "    NormalizeIndividual,\n",
    "    circular_mask,\n",
    ")"
   ]
  },
  {
   "cell_type": "code",
   "execution_count": null,
   "metadata": {},
   "outputs": [],
   "source": [
    "final_size = 128\n",
    "transform = transforms.Compose(\n",
    "    [\n",
    "        MRCtoTensor(),\n",
    "        FourierDownSample(256, final_size),\n",
    "        LowPassFilter(128, 15),\n",
    "        NormalizeIndividual(),\n",
    "    ]\n",
    ")"
   ]
  },
  {
   "cell_type": "code",
   "execution_count": null,
   "metadata": {},
   "outputs": [],
   "source": [
    "particles_transfomed = []\n",
    "for i in range(1, 70):\n",
    "    if i < 10:\n",
    "        img_file = f\"../../6wxb/particles/particles_0{i}.mrc\"\n",
    "    else:\n",
    "        img_file = f\"../../6wxb/particles/particles_{i}.mrc\"\n",
    "    tmp_images = transform(img_file)\n",
    "    particles_transfomed.append(tmp_images)\n",
    "particles_transfomed = torch.cat(particles_transfomed, dim=0)"
   ]
  },
  {
   "cell_type": "code",
   "execution_count": null,
   "metadata": {},
   "outputs": [],
   "source": [
    "plt.imshow(particles_transfomed[0], cmap=\"binary\", vmin=-4, vmax=4)"
   ]
  },
  {
   "cell_type": "code",
   "execution_count": null,
   "metadata": {},
   "outputs": [],
   "source": [
    "images_fft = torch.fft.fft2(particles_transfomed)\n",
    "images_fft = torch.fft.fftshift(images_fft, dim=(-2, -1))\n",
    "\n",
    "power_spectrum = torch.abs(images_fft) ** 2"
   ]
  },
  {
   "cell_type": "code",
   "execution_count": null,
   "metadata": {},
   "outputs": [],
   "source": [
    "power_spectrum.shape"
   ]
  },
  {
   "cell_type": "code",
   "execution_count": null,
   "metadata": {},
   "outputs": [],
   "source": [
    "def radial_profile(data, center):\n",
    "    \"\"\"Compute the radial profile of a 2D image.\n",
    "    Code from https://stackoverflow.com/questions/21242011/most-efficient-way-to-calculate-radial-profile\n",
    "\n",
    "    Args:\n",
    "        data (torch.Tensor): Image of shape (n_pixels, n_pixels).\n",
    "        center (tuple): Center of the image.\n",
    "\n",
    "    Returns:\n",
    "        radialprofile (torch.Tensor): Radial profile of the image.\n",
    "    \"\"\"\n",
    "\n",
    "    y, x = torch.meshgrid(torch.arange(data.shape[0]), torch.arange(data.shape[1]))\n",
    "    r = torch.sqrt((x - center[0]) ** 2 + (y - center[1]) ** 2)\n",
    "    r = r.to(torch.int)\n",
    "    tbin = torch.bincount(r.ravel(), data.ravel())\n",
    "    nr = torch.bincount(r.ravel())\n",
    "    radialprofile = tbin / nr\n",
    "    return radialprofile"
   ]
  },
  {
   "cell_type": "code",
   "execution_count": null,
   "metadata": {},
   "outputs": [],
   "source": [
    "length_rotation = round(np.sqrt(2 * (power_spectrum.shape[-1] // 2) ** 2))"
   ]
  },
  {
   "cell_type": "code",
   "execution_count": null,
   "metadata": {},
   "outputs": [],
   "source": [
    "rotational_avgs = torch.zeros(len(power_spectrum), length_rotation + 1)"
   ]
  },
  {
   "cell_type": "code",
   "execution_count": null,
   "metadata": {},
   "outputs": [],
   "source": [
    "length_rotation = round(np.sqrt(2 * (power_spectrum.shape[-1] // 2) ** 2))\n",
    "rotational_avgs = torch.zeros(len(power_spectrum), length_rotation)\n",
    "for i in range(len(power_spectrum)):\n",
    "    rad_profile = radial_profile(\n",
    "        power_spectrum[i],\n",
    "        (power_spectrum.shape[-1] // 2, power_spectrum.shape[-1] // 2),\n",
    "    )\n",
    "    rotational_avgs[i, :] = rad_profile"
   ]
  },
  {
   "cell_type": "code",
   "execution_count": null,
   "metadata": {},
   "outputs": [],
   "source": [
    "plt.plot(rotational_avgs.mean(dim=0), markersize=2, marker=\"o\", linestyle=\"None\")\n",
    "# plt.plot(rotational_avgs.max(axis=0), markersize=2, marker='o', linestyle='None')\n",
    "labels = map(lambda x: f\"{x:.1f}\", np.arange(0, length_rotation, 40) * 1.06)\n",
    "plt.xticks(ticks=np.arange(0, length_rotation, 40), labels=labels)\n",
    "plt.xlabel(r\"Radius ($\\AA$)\")\n",
    "plt.ylabel(\"Averge intensity\")\n",
    "plt.ylim(0, 100000)"
   ]
  },
  {
   "cell_type": "code",
   "execution_count": null,
   "metadata": {},
   "outputs": [],
   "source": [
    "rotational_avgs.shape"
   ]
  },
  {
   "cell_type": "code",
   "execution_count": null,
   "metadata": {},
   "outputs": [],
   "source": [
    "final_size = 128\n",
    "transform = transforms.Compose(\n",
    "    [\n",
    "        MRCtoTensor(),\n",
    "    ]\n",
    ")"
   ]
  },
  {
   "cell_type": "code",
   "execution_count": null,
   "metadata": {},
   "outputs": [],
   "source": [
    "particles_transfomed.shape"
   ]
  },
  {
   "cell_type": "code",
   "execution_count": null,
   "metadata": {},
   "outputs": [],
   "source": [
    "particles_transfomed = transform(\n",
    "    \"/home/dingeldein/Desktop/FoilHole_24136450_Data_24136362_24136364_20200224_020919_Fractions_patch_aligned_doseweighted.mrc\"\n",
    ")"
   ]
  },
  {
   "cell_type": "code",
   "execution_count": null,
   "metadata": {},
   "outputs": [],
   "source": [
    "particles_transfomed = (\n",
    "    particles_transfomed - particles_transfomed.mean()\n",
    ") / particles_transfomed.std()"
   ]
  },
  {
   "cell_type": "code",
   "execution_count": null,
   "metadata": {},
   "outputs": [],
   "source": [
    "power_spectrum = torch.fft.fftshift(torch.fft.fft2(particles_transfomed)).abs() ** 2"
   ]
  },
  {
   "cell_type": "code",
   "execution_count": null,
   "metadata": {},
   "outputs": [],
   "source": [
    "plt.plot(\n",
    "    radial_profile(\n",
    "        power_spectrum,\n",
    "        (particles_transfomed.shape[-1] // 2, particles_transfomed.shape[-1] // 2),\n",
    "    )\n",
    ")"
   ]
  },
  {
   "cell_type": "code",
   "execution_count": null,
   "metadata": {},
   "outputs": [],
   "source": [
    "fig, axes = plt.subplots(1, 2, figsize=(15, 5))\n",
    "axes[0].imshow(particles_transfomed, cmap=\"binary\", vmin=-1, vmax=1)\n",
    "axes[1].plot(\n",
    "    radial_profile(\n",
    "        power_spectrum,\n",
    "        (particles_transfomed.shape[-1] // 2, particles_transfomed.shape[-1] // 2),\n",
    "    )\n",
    ")\n",
    "axes[1].set_xlabel(r\"Radius ($\\AA$)\")\n",
    "length_rotation = round(np.sqrt(2 * (power_spectrum.shape[-1] // 2) ** 2))\n",
    "labels = map(lambda x: f\"{x:.0f}\", np.arange(0, length_rotation, 800) * 1)\n",
    "axes[1].set_xticks(ticks=np.arange(0, length_rotation, 800), labels=labels)\n",
    "plt.xlabel(r\"Radius ($Pixel$)\")"
   ]
  },
  {
   "cell_type": "code",
   "execution_count": null,
   "metadata": {},
   "outputs": [],
   "source": [
    "for i in range(3):\n",
    "    plt.imshow(\n",
    "        (torch.fft.fftshift(torch.fft.fft2(particles_transfomed[i])) ** 2).real,\n",
    "        cmap=\"binary\",\n",
    "        vmin=-1e6,\n",
    "        vmax=1e6,\n",
    "    )\n",
    "    plt.xticks([])\n",
    "    plt.yticks([])\n",
    "    plt.show()"
   ]
  },
  {
   "cell_type": "code",
   "execution_count": null,
   "metadata": {},
   "outputs": [],
   "source": [
    "particles_transfomed.shape"
   ]
  },
  {
   "cell_type": "code",
   "execution_count": null,
   "metadata": {},
   "outputs": [],
   "source": [
    "for i in range(3):\n",
    "    plt.imshow(particles_transfomed[0], cmap=\"binary\")\n",
    "    plt.show()"
   ]
  },
  {
   "cell_type": "code",
   "execution_count": null,
   "metadata": {},
   "outputs": [],
   "source": [
    "particles = torch.load(\"simulated_particles_5000.mrc\")"
   ]
  },
  {
   "cell_type": "code",
   "execution_count": null,
   "metadata": {},
   "outputs": [],
   "source": [
    "plt.imshow(particles[214], cmap=\"binary\")"
   ]
  },
  {
   "cell_type": "code",
   "execution_count": null,
   "metadata": {},
   "outputs": [],
   "source": [
    "lpf = LowPassFilter(128, 15)\n",
    "plt.imshow(lpf(particles[214]), cmap=\"binary\")"
   ]
  },
  {
   "cell_type": "code",
   "execution_count": null,
   "metadata": {},
   "outputs": [],
   "source": [
    "images_fft = torch.fft.fft2(particles)\n",
    "images_fft = torch.fft.fftshift(images_fft, dim=(-2, -1))\n",
    "power_spectrum = torch.abs(images_fft) ** 2\n",
    "\n",
    "length_rotation = round(np.sqrt(2 * (power_spectrum.shape[-1] // 2) ** 2))\n",
    "rotational_avgs = torch.zeros(len(power_spectrum), length_rotation)\n",
    "for i in range(len(power_spectrum)):\n",
    "    rad_profile = radial_profile(\n",
    "        power_spectrum[i],\n",
    "        (power_spectrum.shape[-1] // 2, power_spectrum.shape[-1] // 2),\n",
    "    )\n",
    "    rotational_avgs[i, :] = rad_profile"
   ]
  },
  {
   "cell_type": "code",
   "execution_count": null,
   "metadata": {},
   "outputs": [],
   "source": [
    "plt.plot(rotational_avgs.mean(dim=0), markersize=2, marker=\"o\", linestyle=\"None\")"
   ]
  },
  {
   "cell_type": "code",
   "execution_count": null,
   "metadata": {},
   "outputs": [],
   "source": [
    "plt.imshow(power_spectrum[10], cmap=\"binary\")"
   ]
  },
  {
   "cell_type": "code",
   "execution_count": null,
   "metadata": {},
   "outputs": [],
   "source": []
  }
 ],
 "metadata": {
  "kernelspec": {
   "display_name": "cryo_sbi",
   "language": "python",
   "name": "python3"
  },
  "language_info": {
   "codemirror_mode": {
    "name": "ipython",
    "version": 3
   },
   "file_extension": ".py",
   "mimetype": "text/x-python",
   "name": "python",
   "nbconvert_exporter": "python",
   "pygments_lexer": "ipython3",
   "version": "3.10.0"
  },
  "orig_nbformat": 4,
  "vscode": {
   "interpreter": {
    "hash": "1391d301e9aa4dc24331c4a52095d8473e5107d84c03241f78234deb9fd2437e"
   }
  }
 },
 "nbformat": 4,
 "nbformat_minor": 2
}

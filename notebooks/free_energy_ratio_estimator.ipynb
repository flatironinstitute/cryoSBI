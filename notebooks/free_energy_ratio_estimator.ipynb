{
 "cells": [
  {
   "cell_type": "code",
   "execution_count": null,
   "id": "c11d3bbe-f081-467b-9a51-f993cd7dea8a",
   "metadata": {},
   "outputs": [],
   "source": [
    "import matplotlib.pyplot as plt\n",
    "import numpy as np\n",
    "import torch\n",
    "import json\n",
    "import zuko\n",
    "from multiprocessing import Pool\n",
    "from lampe.inference import NRE, NRELoss, MetropolisHastings\n",
    "from tqdm import tqdm"
   ]
  },
  {
   "cell_type": "markdown",
   "id": "136844f2-e0e1-4616-976b-df6fdab8b8d8",
   "metadata": {},
   "source": [
    "### Define Lampe estimator and CNN (for loading the trained models)"
   ]
  },
  {
   "cell_type": "code",
   "execution_count": null,
   "id": "2582aa76-9618-42d7-9c68-c38935156338",
   "metadata": {},
   "outputs": [],
   "source": [
    "import sys\n",
    "sys.path.insert(0, \"../scr/inference/\")\n",
    "sys.path.insert(0, \"../scr/inference/models\")\n",
    "sys.path.insert(0, \"../scr/wpa_simulator/\")"
   ]
  },
  {
   "cell_type": "code",
   "execution_count": null,
   "id": "8a987878-3283-4c93-9ab7-9c818fa5bee5",
   "metadata": {},
   "outputs": [],
   "source": [
    "from models import build_model\n",
    "from cryo_em_simulator import CryoEmSimulator\n",
    "import priors"
   ]
  },
  {
   "cell_type": "markdown",
   "id": "1f1226dd-53f1-40db-82a7-657c60a8e104",
   "metadata": {},
   "source": [
    "### Load cryo-em simulator and posterior with correct config"
   ]
  },
  {
   "cell_type": "code",
   "execution_count": null,
   "id": "f2eb23c1-3229-48a7-a965-deb74277e0a8",
   "metadata": {},
   "outputs": [],
   "source": [
    "cryosbi = CryoEmSimulator(\"../data/trained_posteriors/benchmark_hsp90/image_params_snr01.json\")"
   ]
  },
  {
   "cell_type": "code",
   "execution_count": null,
   "id": "bea20d6b-52fc-4c20-88ff-35c7846a1ca6",
   "metadata": {},
   "outputs": [],
   "source": [
    "train_config = json.load(open(\"../data/trained_posteriors/benchmark_hsp90/testNRE.json\"))\n",
    "estimator = build_model.build_nre_classifier_model(train_config)\n",
    "estimator.load_state_dict(torch.load(\"../data/trained_posteriors/benchmark_hsp90/NRE_snr01.estimator\"))"
   ]
  },
  {
   "cell_type": "markdown",
   "id": "42f5baaf-80b6-4760-be17-1d52c16fe7af",
   "metadata": {},
   "source": [
    "### Generate particles from double-well potential"
   ]
  },
  {
   "cell_type": "code",
   "execution_count": null,
   "id": "f27b0641-d248-459a-b452-146a247997f1",
   "metadata": {},
   "outputs": [],
   "source": [
    "import torch.distributions as D\n",
    "\n",
    "mix = D.Categorical(torch.ones(2,))\n",
    "comp = D.Normal(torch.tensor([5, 14.]), torch.tensor([2, 2]))\n",
    "double_well_distribution = D.MixtureSameFamily(mix, comp)\n",
    "\n",
    "true_indices = double_well_distribution.sample((1000,))\n",
    "\n",
    "# Removing invalid indices\n",
    "num_out_samples = torch.sum(true_indices > 19) + torch.sum(true_indices < 0) \n",
    "while num_out_samples > 0:\n",
    "    true_indices[true_indices > 19] = double_well_distribution.sample((torch.sum(true_indices > 19),))\n",
    "    true_indices[true_indices < 0] = double_well_distribution.sample((torch.sum(true_indices < 0),))\n",
    "    num_out_samples = torch.sum(true_indices > 19) + torch.sum(true_indices < 0) "
   ]
  },
  {
   "cell_type": "code",
   "execution_count": null,
   "id": "d6567ca7-dedd-49dc-b45f-edfa9f8c23c9",
   "metadata": {},
   "outputs": [],
   "source": [
    "counts, bins, _ = plt.hist(true_indices, bins=100, density=True)"
   ]
  },
  {
   "cell_type": "code",
   "execution_count": null,
   "id": "e9341b82-8b78-443a-b8aa-48555c460e62",
   "metadata": {},
   "outputs": [],
   "source": [
    "plt.plot(bins[1:], -np.log(counts))"
   ]
  },
  {
   "cell_type": "code",
   "execution_count": null,
   "id": "0d598320-9950-405b-bf7f-86691d8a03e4",
   "metadata": {},
   "outputs": [],
   "source": [
    "def batched_simulator(batche_of_indices):\n",
    "    return torch.stack([cryosbi.simulator(index) for index in batche_of_indices], dim=0)"
   ]
  },
  {
   "cell_type": "code",
   "execution_count": null,
   "id": "9ef1e214-d0a1-440b-b67b-3b743d9662b3",
   "metadata": {},
   "outputs": [],
   "source": [
    "batched_indices = torch.split(true_indices, split_size_or_sections=100, dim=0)\n",
    "with Pool(24) as p:\n",
    "    images = p.map(batched_simulator, batched_indices)\n",
    "images = torch.cat(images, dim=0)"
   ]
  },
  {
   "cell_type": "code",
   "execution_count": null,
   "id": "29d8fe26-d1cf-4df0-b15b-c4826ce91f2e",
   "metadata": {},
   "outputs": [],
   "source": [
    "images = torch.stack([cryosbi.simulator(index) for index in true_indices], dim=0)"
   ]
  },
  {
   "cell_type": "code",
   "execution_count": null,
   "id": "49195128-d025-4e9d-9faa-3cf00e9b8b0b",
   "metadata": {},
   "outputs": [],
   "source": [
    "images.shape"
   ]
  },
  {
   "cell_type": "code",
   "execution_count": null,
   "id": "243c4c86-1ea4-4a59-817a-8b7b8e7fcce8",
   "metadata": {},
   "outputs": [],
   "source": [
    "plt.imshow(images[0].reshape(64, 64))"
   ]
  },
  {
   "cell_type": "code",
   "execution_count": null,
   "id": "6daa5975-8ea7-4b12-9ccb-c7ffef15b77d",
   "metadata": {},
   "outputs": [],
   "source": [
    "image_features = estimator.embedding(images)"
   ]
  },
  {
   "cell_type": "code",
   "execution_count": null,
   "id": "3cd69b7b-50f9-494f-b09d-c0dde2568944",
   "metadata": {},
   "outputs": [],
   "source": [
    "log_ratios = torch.stack([estimator.nre(theta.reshape(1), image_features) for theta in torch.linspace(0, 19,20, dtype=int)], dim=0).detach()"
   ]
  },
  {
   "cell_type": "code",
   "execution_count": null,
   "id": "ff325037-4b4a-495b-9504-fde9dade39ea",
   "metadata": {},
   "outputs": [],
   "source": [
    "log_ratios.device"
   ]
  },
  {
   "cell_type": "markdown",
   "id": "488a4635-ea67-4728-b016-a9ecebe23e4a",
   "metadata": {},
   "source": [
    "### Cryo-BIFE to extract free energ"
   ]
  },
  {
   "cell_type": "code",
   "execution_count": null,
   "id": "4d29f4e5-e3a8-43fc-8b07-0d4ffd12ff19",
   "metadata": {},
   "outputs": [],
   "source": [
    "G_prior = zuko.distributions.BoxUniform(0 * torch.ones(20), 10 * torch.ones(20))"
   ]
  },
  {
   "cell_type": "code",
   "execution_count": null,
   "id": "e89e6329-adb7-40e1-a462-d45eb31f0c61",
   "metadata": {},
   "outputs": [],
   "source": [
    "import scipy.interpolate as ip"
   ]
  },
  {
   "cell_type": "code",
   "execution_count": null,
   "id": "6c6c699d-caf6-4ad4-8791-dab5424066ab",
   "metadata": {},
   "outputs": [],
   "source": [
    "'''def log_theta_prior(G, theta):\n",
    "    cs_scipy = ip.CubicSpline(torch.linspace(0, 19, G.size(0)).numpy(), G.numpy())\n",
    "    y_scp = cs_scipy(theta.numpy())\n",
    "    return -y_scp'''\n",
    "\n",
    "def log_theta_prior(theta, G):\n",
    "    return -G[theta]"
   ]
  },
  {
   "cell_type": "code",
   "execution_count": null,
   "id": "079547a6-3792-4ae6-856d-80aeb9a656d5",
   "metadata": {},
   "outputs": [],
   "source": [
    "log_theta_prior(torch.tensor(4 * [3]), G_prior.sample())"
   ]
  },
  {
   "cell_type": "code",
   "execution_count": null,
   "id": "af2c1fa3-cfa0-4cfb-888a-ce9d5e7dd68d",
   "metadata": {},
   "outputs": [],
   "source": [
    "idx = 3\n",
    "(log_ratios[idx] + log_theta_prior(torch.tensor(1000 * [idx]),  G_prior.sample())).shape"
   ]
  },
  {
   "cell_type": "code",
   "execution_count": null,
   "id": "d8e6a4a4-79f1-4496-8ba7-9ca1df4fe19d",
   "metadata": {},
   "outputs": [],
   "source": [
    "def log_images(G):\n",
    "    print(G)\n",
    "    log_prob_image = torch.stack([\n",
    "        log_ratios[idx] + log_theta_prior(torch.tensor(1000 * [idx]), G) for idx in torch.linspace(0, 19,20, dtype=int)\n",
    "    ], dim=0)\n",
    "    return torch.sum(log_prob_image, dim=1) + G_prior.log_prob(G)"
   ]
  },
  {
   "cell_type": "code",
   "execution_count": null,
   "id": "bc0bc241-d92e-4fbf-85c3-617eb8f289ed",
   "metadata": {},
   "outputs": [],
   "source": [
    "G_0 = G_prior.sample()  # 1024 concurrent Markov chains\n",
    "\n",
    "sampler = MetropolisHastings(G_0, log_f=log_images, sigma=0.6)\n",
    "samples = torch.cat([\n",
    "    G for G in sampler(512 + 200, burn=1024, step=8)\n",
    "])"
   ]
  },
  {
   "cell_type": "code",
   "execution_count": null,
   "id": "a1cf9e92-c6cc-4ed3-9cf3-3828ccc2607f",
   "metadata": {},
   "outputs": [],
   "source": [
    "plt.plot(samples.mean(dim=0))"
   ]
  },
  {
   "cell_type": "code",
   "execution_count": null,
   "id": "5ac9f234-6ac3-43d2-9ed2-443a44a0b9fc",
   "metadata": {},
   "outputs": [],
   "source": []
  },
  {
   "cell_type": "code",
   "execution_count": null,
   "id": "914656cd-2712-49db-b56e-044fb8d8b4f6",
   "metadata": {},
   "outputs": [],
   "source": [
    "estimator.eval()\n",
    "estimator.cuda()"
   ]
  },
  {
   "cell_type": "code",
   "execution_count": null,
   "id": "01c49684-e060-47a4-aaf6-a4ababebd4a6",
   "metadata": {},
   "outputs": [],
   "source": [
    "with torch.no_grad():\n",
    "    theta_0 = prior.sample((1096, images.shape[0])).cuda()  # 1024 concurrent Markov chains\n",
    "    \n",
    "    features = estimator.embedding(images.cuda())\n",
    "    log_p = lambda theta: estimator.nre(theta, features) + prior.log_prob(theta.cpu()).cuda()  # p(theta | x) = r(theta, x) p(theta)\n",
    "\n",
    "    sampler = MetropolisHastings(theta_0, log_f=log_p, sigma=0.6)\n",
    "    samples = torch.cat([\n",
    "        theta\n",
    "        for theta in sampler(512 + 2024, burn=2024, step=8)\n",
    "    ])"
   ]
  },
  {
   "cell_type": "code",
   "execution_count": null,
   "id": "b0cd582b-c933-48d4-b804-fedd92ca5899",
   "metadata": {
    "tags": []
   },
   "outputs": [],
   "source": [
    "fig, axes = plt.subplots(4, 5, figsize=(10, 10), sharex=True)\n",
    "for idx, ax in enumerate(axes.reshape(1, -1)[0]):\n",
    "    ax.hist(samples[:, idx].cpu().flatten().numpy(), bins=np.arange(0, 20, 0.5), histtype=\"step\", color=\"blue\", label=\"all\")\n",
    "    ax.set_yticks([])\n",
    "    ax.set_xticks(range(0, 20, 4))\n",
    "    ax.axvline(indices[idx], color='red')\n",
    "#plt.savefig('Example_NSF.pdf', dpi=400)"
   ]
  },
  {
   "cell_type": "markdown",
   "id": "a7213a4a-3a5d-4e04-9edd-d1906ff02818",
   "metadata": {},
   "source": [
    "## Compute posterior convidence distribution"
   ]
  },
  {
   "cell_type": "code",
   "execution_count": null,
   "id": "2c197c38-9df1-42e2-8f41-4ee17bbb0553",
   "metadata": {},
   "outputs": [],
   "source": [
    "def batched_simulator(batche_of_indices):\n",
    "    return torch.stack([cryosbi.simulator(index) for index in batche_of_indices], dim=0)"
   ]
  },
  {
   "cell_type": "code",
   "execution_count": null,
   "id": "0d40097c-43b3-41a4-b01a-0216c6ec6465",
   "metadata": {},
   "outputs": [],
   "source": [
    "N_samples = 20000\n",
    "indices = priors.get_unirom_prior_1d().sample((N_samples,))"
   ]
  },
  {
   "cell_type": "code",
   "execution_count": null,
   "id": "b8ae78b5-6e52-4117-a3c1-2303680e4d27",
   "metadata": {},
   "outputs": [],
   "source": [
    "batched_indices = torch.split(indices, split_size_or_sections=1000, dim=0)\n",
    "with Pool(24) as p:\n",
    "    images = p.map(batched_simulator, batched_indices)\n",
    "images = torch.cat(images, dim=0)"
   ]
  },
  {
   "cell_type": "code",
   "execution_count": null,
   "id": "3333c40d-7f20-4d9e-9049-cb4f49721c37",
   "metadata": {},
   "outputs": [],
   "source": [
    "images = torch.cat(images, dim=0)"
   ]
  },
  {
   "cell_type": "code",
   "execution_count": null,
   "id": "a51be57a-fefd-42f7-92f6-e59ff604ab77",
   "metadata": {},
   "outputs": [],
   "source": [
    "theta_samples = []"
   ]
  },
  {
   "cell_type": "code",
   "execution_count": null,
   "id": "f1c977bb-673d-4b08-94c0-39d93c52c63b",
   "metadata": {},
   "outputs": [],
   "source": [
    "estimator.cuda()\n",
    "estimator.eval()\n",
    "batch_size = 1000\n",
    "batched_images = torch.split(images, split_size_or_sections=batch_size, dim=0)\n",
    "\n",
    "with torch.no_grad():\n",
    "    for batch in tqdm(batched_images, unit='batch'):\n",
    "        theta_0 = prior.sample((512, batch.shape[0])).cuda()  # 1024 concurrent Markov chains\n",
    "        \n",
    "        batch = estimator.embedding(batch.cuda())\n",
    "        log_p = lambda theta: estimator.nre(theta, batch.cuda()) + prior.log_prob(theta.cpu()).cuda()  # p(theta | x) = r(theta, x) p(theta)\n",
    "\n",
    "        sampler = MetropolisHastings(theta_0, log_f=log_p, sigma=0.6)\n",
    "        samples = torch.cat([\n",
    "            theta for theta in sampler(512 + 1024, burn=1024, step=8)\n",
    "        ])\n",
    "        theta_samples.append(samples)"
   ]
  },
  {
   "cell_type": "code",
   "execution_count": null,
   "id": "1ae9f2ec-42c4-46d3-9f5c-be151d45866d",
   "metadata": {},
   "outputs": [],
   "source": [
    "samples = torch.cat(theta_samples, dim=1)"
   ]
  },
  {
   "cell_type": "code",
   "execution_count": null,
   "id": "749f19a7-56cf-4d80-9fdb-0d42833e9052",
   "metadata": {},
   "outputs": [],
   "source": [
    "confidence_widths = []\n",
    "for i in range(N_samples):\n",
    "    posterior_samples = samples[:, i]\n",
    "    lower_q, upper_q = np.quantile(samples[:, i].cpu().flatten().numpy(), [0.025, 0.975])\n",
    "    confidence_width = upper_q - lower_q\n",
    "    confidence_widths.append(confidence_width)"
   ]
  },
  {
   "cell_type": "code",
   "execution_count": null,
   "id": "c7f191d2-286f-461b-aaf8-289a1f08f43d",
   "metadata": {},
   "outputs": [],
   "source": [
    "_ = plt.hist(confidence_widths, bins=np.arange(0, 20, 0.2), histtype='step', density=True, linewidth=2)"
   ]
  },
  {
   "cell_type": "code",
   "execution_count": null,
   "id": "059750da-bf51-45ed-b61e-6d4a565371c1",
   "metadata": {},
   "outputs": [],
   "source": [
    "np.save('nre_SNR=01.npy', np.array(confidence_widths))"
   ]
  },
  {
   "cell_type": "code",
   "execution_count": null,
   "id": "09d2bfa9-7758-40f0-a220-f527bb7f7d9a",
   "metadata": {},
   "outputs": [],
   "source": [
    "for file, name in zip(['confidence_widths_snr10_deep_ce.npy','confidence_widths_snr1_deep_ce.npy','confidence_widths_snr01_large_deep_ce.npy', 'nre_SNR=01.npy'], ['SNR=10','SNR=1','SNR=0.1','NRE']):\n",
    "    confidence_widths = np.load(file)\n",
    "    _ = plt.hist(confidence_widths, bins=np.arange(0, 20, 0.3), histtype='step', density=True, label=name, linewidth=2)\n",
    "    plt.xlabel(r'with of $95\\%-$confidence intervall')\n",
    "plt.legend()\n",
    "#plt.savefig('NRE_comp.pdf', dpi=300)"
   ]
  },
  {
   "cell_type": "code",
   "execution_count": null,
   "id": "43ba617a-8764-4c9c-921d-0739a8dcf9aa",
   "metadata": {},
   "outputs": [],
   "source": [
    "fig, axes = plt.subplots(2, 4, figsize=(20, 10), sharex=False)\n",
    "for idx, ax in enumerate(axes[0]):\n",
    "    ax.imshow(images[idx].reshape(64, 64))\n",
    "    ax.set_yticks([])\n",
    "    ax.set_xticks([])\n",
    "for idx, ax in enumerate(axes[1]):\n",
    "    ax.hist(samples[:, idx].flatten().numpy(), bins=np.arange(0, 20, 0.2), histtype=\"step\", color=\"blue\", label=\"all\")\n",
    "    ax.set_yticks([])\n",
    "    ax.set_xticks(range(0, 20, 4))\n",
    "    ax.axvline(indices[idx], color='red')\n",
    "plt.savefig('SNR10_examples.pdf', dpi=300)"
   ]
  },
  {
   "cell_type": "markdown",
   "id": "f01ff907-0aa6-42c7-af38-d8a7774c3c1f",
   "metadata": {},
   "source": [
    "# Compare with bioEM calculations"
   ]
  },
  {
   "cell_type": "code",
   "execution_count": null,
   "id": "ef462556-3f7a-42fc-80de-5005f2617b8b",
   "metadata": {},
   "outputs": [],
   "source": [
    "image = np.genfromtxt(f'../../BioEM_production/hsp90_images/particle_from_16_snr1', skip_header=1)"
   ]
  },
  {
   "cell_type": "code",
   "execution_count": null,
   "id": "ce542b12-9b16-4f7b-ac27-7ddb118a44bc",
   "metadata": {},
   "outputs": [],
   "source": [
    "image = torch.tensor(image[:, 2])"
   ]
  },
  {
   "cell_type": "code",
   "execution_count": null,
   "id": "ab8094f6-cbd4-4a9c-a85e-50b3dc319c12",
   "metadata": {},
   "outputs": [],
   "source": [
    "plt.imshow(image.reshape(64, 64))"
   ]
  },
  {
   "cell_type": "code",
   "execution_count": null,
   "id": "84043072-7d9b-4368-9057-61eb83d2fd6d",
   "metadata": {},
   "outputs": [],
   "source": [
    "assert np.isclose(image.std(), 1)"
   ]
  },
  {
   "cell_type": "code",
   "execution_count": null,
   "id": "8d52558e-549b-408d-bf69-dcdfa99cc5ef",
   "metadata": {},
   "outputs": [],
   "source": [
    "estimator.cuda()\n",
    "estimator.eval()\n",
    "thetas = torch.tensor(np.arange(0, 20, 1), dtype=torch.float).reshape(-1, 1)\n",
    "with torch.no_grad():\n",
    "     log_prob = estimator(thetas.cuda(), image.float().cuda()).cpu()"
   ]
  },
  {
   "cell_type": "code",
   "execution_count": null,
   "id": "e43be550-bdfc-4689-9fe4-e965ac34760f",
   "metadata": {},
   "outputs": [],
   "source": [
    "plt.plot(thetas.cpu(), log_prob)"
   ]
  },
  {
   "cell_type": "code",
   "execution_count": null,
   "id": "275012af-dff0-4cae-a966-1a500ac941ac",
   "metadata": {},
   "outputs": [],
   "source": [
    "np.savez_compressed('posterior_lampe_large_deep_ce_snr01_16', theta=thetas.cpu().numpy(), log_prob=log_prob.numpy())"
   ]
  },
  {
   "cell_type": "markdown",
   "id": "a890dc7a-5881-46fa-9ac2-c5a9379d7834",
   "metadata": {},
   "source": [
    "## Compute posterior calibration"
   ]
  },
  {
   "cell_type": "code",
   "execution_count": null,
   "id": "076e5567-6962-4652-a1df-c362cf8e3728",
   "metadata": {},
   "outputs": [],
   "source": [
    "from lampe.data import JointLoader\n",
    "from priors import get_unirom_prior_1d\n",
    "from lampe.diagnostics import expected_coverage_ni\n",
    "from lampe.plots import coverage_plot\n",
    "from itertools import islice"
   ]
  },
  {
   "cell_type": "code",
   "execution_count": null,
   "id": "813d38ab-2cf4-48bc-8b08-7d928b244870",
   "metadata": {},
   "outputs": [],
   "source": [
    "loader = JointLoader(get_unirom_prior_1d(), cryosbi.simulator, vectorized=True, batch_size=1, num_workers=24, prefetch_factor=1)"
   ]
  },
  {
   "cell_type": "code",
   "execution_count": null,
   "id": "5bfb7150-5ed0-4d17-a31a-54be434b2ff9",
   "metadata": {},
   "outputs": [],
   "source": [
    "estimator.cuda()\n",
    "estimator.eval()\n",
    "\n",
    "log_p = lambda theta, x: estimator(theta.cuda(), x.cuda()) + prior.log_prob(theta.cpu()).cuda()\n",
    "nre_levels, nre_coverages = expected_coverage_ni(log_p, loader, (torch.tensor([0.]), torch.tensor([19.])))\n",
    "\n",
    "fig = coverage_plot(levels, coverages, legend='NRE')\n",
    "#fig.savefig('sbc_posterior.pdf', dpi=600)"
   ]
  },
  {
   "cell_type": "code",
   "execution_count": null,
   "id": "3c19d0a6-3c77-4146-a68b-4eb22eb3578d",
   "metadata": {},
   "outputs": [],
   "source": [
    "for theta, x in loader:\n",
    "    print(estimator(theta.cuda(), x.cuda()))"
   ]
  },
  {
   "cell_type": "code",
   "execution_count": null,
   "id": "37c03be4-09cd-4d1a-8241-78c1f4319493",
   "metadata": {},
   "outputs": [],
   "source": [
    "''"
   ]
  }
 ],
 "metadata": {
  "kernelspec": {
   "display_name": "cryo_sbi",
   "language": "python",
   "name": "cryo_sbi"
  },
  "language_info": {
   "codemirror_mode": {
    "name": "ipython",
    "version": 3
   },
   "file_extension": ".py",
   "mimetype": "text/x-python",
   "name": "python",
   "nbconvert_exporter": "python",
   "pygments_lexer": "ipython3",
   "version": "3.10.0 (default, Mar  3 2022, 09:58:08) [GCC 7.5.0]"
  },
  "widgets": {
   "application/vnd.jupyter.widget-state+json": {
    "state": {},
    "version_major": 2,
    "version_minor": 0
   }
  }
 },
 "nbformat": 4,
 "nbformat_minor": 5
}

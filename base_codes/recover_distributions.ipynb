{
 "cells": [
  {
   "cell_type": "code",
   "execution_count": 2,
   "metadata": {},
   "outputs": [],
   "source": [
    "import numpy as np\n",
    "import torch\n",
    "import matplotlib.pyplot as plt\n",
    "import pickle\n",
    "import json\n",
    "from scipy.spatial.transform import Rotation\n",
    "from sbi import utils as utils\n",
    "from sbi.inference import SNPE, prepare_for_sbi, simulate_for_sbi\n",
    "from sbi import analysis as analysis"
   ]
  },
  {
   "cell_type": "code",
   "execution_count": 3,
   "metadata": {},
   "outputs": [],
   "source": [
    "config = json.load(open(\"config_square.json\"))\n",
    "\n",
    "image_params = dict(config[\"IMAGES\"])\n",
    "simulation_params = config[\"SIMULATION\"]\n",
    "training_params = dict(config[\"TRAINING\"])\n",
    "\n",
    "models = np.transpose(\n",
    "    np.load(simulation_params[\"MODEL_FILE\"]).diagonal(), [2, 0, 1]\n",
    ")"
   ]
  },
  {
   "cell_type": "code",
   "execution_count": 4,
   "metadata": {},
   "outputs": [],
   "source": [
    "def gen_quat():\n",
    "    # Sonya's code\n",
    "    # Generates a single quaternion\n",
    "\n",
    "    count = 0\n",
    "    while count < 1:\n",
    "\n",
    "        quat = np.random.uniform(\n",
    "            -1, 1, 4\n",
    "        )  # note this is a half-open interval, so 1 is not included but -1 is\n",
    "        norm = 1 / np.sqrt(np.sum(quat**2))\n",
    "\n",
    "        if 0.2 <= norm <= 1.0:\n",
    "            quat *= norm\n",
    "            count += 1\n",
    "\n",
    "    return quat\n",
    "\n",
    "\n",
    "def gen_img(coord):\n",
    "\n",
    "    n_atoms = coord.shape[1]\n",
    "    norm = 1 / (2 * np.pi * image_params[\"SIGMA\"] ** 2 * n_atoms)\n",
    "\n",
    "    grid_min = -image_params[\"PIXEL_SIZE\"] * (image_params[\"N_PIXELS\"] - 1) * 0.5\n",
    "    grid_max = (\n",
    "        image_params[\"PIXEL_SIZE\"] * (image_params[\"N_PIXELS\"] - 1) * 0.5\n",
    "        + image_params[\"PIXEL_SIZE\"]\n",
    "    )\n",
    "\n",
    "    grid = np.arange(grid_min, grid_max, image_params[\"PIXEL_SIZE\"])\n",
    "\n",
    "    gauss = np.exp(\n",
    "        -0.5 * (((grid[:, None] - coord[0, :]) / image_params[\"SIGMA\"]) ** 2)\n",
    "    )[:, None] * np.exp(\n",
    "        -0.5 * (((grid[:, None] - coord[1, :]) / image_params[\"SIGMA\"]) ** 2)\n",
    "    )\n",
    "\n",
    "    image = gauss.sum(axis=2) * norm\n",
    "\n",
    "    return image\n",
    "\n",
    "\n",
    "def add_noise(img):\n",
    "\n",
    "    # mean_image = np.mean(img)\n",
    "    std_image = np.std(img)\n",
    "\n",
    "    mask = np.abs(img) > 0.5 * std_image\n",
    "\n",
    "    signal_mean = np.mean(img[mask])\n",
    "    signal_std = np.std(img[mask])\n",
    "\n",
    "    noise_std = signal_std / np.sqrt(image_params[\"SNR\"])\n",
    "    noise = np.random.normal(loc=signal_mean, scale=noise_std, size=img.shape)\n",
    "\n",
    "    img_noise = img + noise\n",
    "\n",
    "    return img_noise\n",
    "\n",
    "def gaussian_normalize_image(image):\n",
    "\n",
    "    mean_img = np.mean(image)\n",
    "    std_img = np.std(image)\n",
    "\n",
    "    return (image - mean_img) / std_img\n",
    "\n",
    "\n",
    "def min_max_normalize_image(image):\n",
    "\n",
    "    max_img = np.max(image)\n",
    "    min_img = np.min(image)\n",
    "\n",
    "    return (image - min_img) / (max_img - min_img)\n",
    "\n",
    "\n",
    "def simulator(index):\n",
    "\n",
    "    index = int(torch.round(index))\n",
    "\n",
    "    coord = models[index]\n",
    "\n",
    "    quat = gen_quat()\n",
    "    rot_mat = Rotation.from_quat(quat).as_matrix()\n",
    "    coord = np.matmul(rot_mat, coord)\n",
    "\n",
    "    image = gen_img(coord)\n",
    "    image = add_noise(image)\n",
    "    image = gaussian_normalize_image(image)\n",
    "\n",
    "    image = torch.tensor(image.reshape(-1, 1), device=training_params[\"DEVICE\"])\n",
    "\n",
    "    return image\n",
    "\n",
    "prior_indices = utils.BoxUniform(\n",
    "        low=0 * torch.ones(1, device=training_params[\"DEVICE\"]),\n",
    "        high=19 * torch.ones(1, device=training_params[\"DEVICE\"]),\n",
    "        device=training_params[\"DEVICE\"],\n",
    "    )\n",
    "\n",
    "simulator_sbi, prior_sbi = prepare_for_sbi(simulator, prior_indices)"
   ]
  },
  {
   "cell_type": "code",
   "execution_count": 65,
   "metadata": {},
   "outputs": [],
   "source": [
    "with open(\"posterior.pkl\", \"rb\") as handle:\n",
    "    posterior = pickle.load(handle)"
   ]
  },
  {
   "cell_type": "code",
   "execution_count": 27,
   "metadata": {},
   "outputs": [],
   "source": [
    "import torch.distributions as D\n",
    "\n",
    "mix = D.Categorical(torch.ones(2,))\n",
    "comp = D.Normal(torch.tensor([7., 14.]), torch.tensor([2., 2.]))\n",
    "gmm = D.MixtureSameFamily(mix, comp)\n",
    "\n"
   ]
  },
  {
   "cell_type": "code",
   "execution_count": 48,
   "metadata": {},
   "outputs": [],
   "source": [
    "true_indices = gmm.sample((1000,))\n",
    "true_indices = torch.round(true_indices)\n",
    "\n",
    "true_indices = true_indices[true_indices <= 19]\n",
    "true_indices = true_indices[true_indices >= 0]\n",
    "\n",
    "true_indices = true_indices.numpy().flatten()"
   ]
  },
  {
   "cell_type": "code",
   "execution_count": 66,
   "metadata": {},
   "outputs": [],
   "source": [
    "n_samples = 1000\n",
    "n_indices = true_indices.shape[0]\n",
    "samples = torch.empty(n_indices, n_samples, 1)\n",
    "\n",
    "for i in range(n_indices):\n",
    "    true_index = torch.tensor([[true_indices[i]]])\n",
    "    true_image = simulator_sbi(true_index)\n",
    "    samples[i] = posterior.sample((n_samples,), x=true_image, show_progress_bars=False)  "
   ]
  },
  {
   "cell_type": "code",
   "execution_count": 76,
   "metadata": {},
   "outputs": [
    {
     "data": {
      "text/plain": [
       "<matplotlib.legend.Legend at 0x7fbc9e14bd00>"
      ]
     },
     "execution_count": 76,
     "metadata": {},
     "output_type": "execute_result"
    },
    {
     "data": {
      "image/png": "[encoded data removed]",
      "text/plain": [
       "<Figure size 432x288 with 1 Axes>"
      ]
     },
     "metadata": {
      "needs_background": "light"
     },
     "output_type": "display_data"
    }
   ],
   "source": [
    "import pandas as pd\n",
    "import seaborn as sns\n",
    "\n",
    "obs = pd.DataFrame()\n",
    "calc = pd.DataFrame()\n",
    "\n",
    "obs[\"samples\"] = true_indices.flatten()\n",
    "calc[\"samples\"] = samples.numpy().flatten()\n",
    "\n",
    "sns.kdeplot(data=obs, x=\"samples\", label=\"exp data\")\n",
    "sns.kdeplot(data=calc, x=\"samples\", label=\"sbi results\")\n",
    "\n",
    "plt.legend()"
   ]
  },
  {
   "cell_type": "markdown",
   "metadata": {},
   "source": []
  }
 ],
 "metadata": {
  "kernelspec": {
   "display_name": "Python 3.8.12 ('sbi_env')",
   "language": "python",
   "name": "python3"
  },
  "language_info": {
   "codemirror_mode": {
    "name": "ipython",
    "version": 3
   },
   "file_extension": ".py",
   "mimetype": "text/x-python",
   "name": "python",
   "nbconvert_exporter": "python",
   "pygments_lexer": "ipython3",
   "version": "3.8.12"
  },
  "orig_nbformat": 4,
  "vscode": {
   "interpreter": {
    "hash": "6d203e551838dddb2cfb6db2d118c3aa99f573da06a5e28b90091e964619fc54"
   }
  }
 },
 "nbformat": 4,
 "nbformat_minor": 2
}

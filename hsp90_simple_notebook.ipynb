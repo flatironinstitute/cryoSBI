{
 "cells": [
  {
   "cell_type": "code",
   "execution_count": 2,
   "metadata": {},
   "outputs": [],
   "source": [
    "# Numerical libraries\n",
    "import numpy as np\n",
    "import pandas as pd\n",
    "from scipy.spatial.transform import Rotation\n",
    "\n",
    "# Plotting\n",
    "import matplotlib.pyplot as plt\n",
    "from mpl_toolkits.axes_grid1 import make_axes_locatable\n",
    "import seaborn as sns\n",
    "\n",
    "# MD Stuff\n",
    "import MDAnalysis as mda\n",
    "\n",
    "# Utils\n",
    "from tqdm import tqdm\n",
    "import pickle\n",
    "\n",
    "# SBI\n",
    "import torch\n",
    "from sbi import utils as utils\n",
    "from sbi import analysis as analysis\n",
    "from sbi.inference.base import infer\n",
    "from sbi.inference import SNPE, prepare_for_sbi, simulate_for_sbi\n",
    "from sbi.utils.get_nn_models import posterior_nn\n"
   ]
  },
  {
   "cell_type": "markdown",
   "metadata": {},
   "source": [
    "# Functions for generating images"
   ]
  },
  {
   "cell_type": "code",
   "execution_count": 11,
   "metadata": {},
   "outputs": [],
   "source": [
    "def gen_quat(size):\n",
    "    #Sonya's code\n",
    "    \n",
    "    #np.random.seed(0)\n",
    "    quaternions = np.zeros((size, 4))\n",
    "    count = 0\n",
    "\n",
    "    while count < size:\n",
    "\n",
    "        quat = np.random.uniform(-1,1,4) #note this is a half-open interval, so 1 is not included but -1 is\n",
    "        norm = np.sqrt(np.sum(quat**2))\n",
    "\n",
    "        if ( 0.2 <= norm <= 1.0 ):\n",
    "            quaternions[count] = quat/norm\n",
    "            count += 1\n",
    "\n",
    "    return quaternions\n",
    "\n",
    "def gen_img(coord, args_dict):\n",
    "    \n",
    "    n_atoms = coord.shape[1]\n",
    "    norm = 1 / (2 * np.pi * args_dict[\"SIGMA\"]**2 * n_atoms)\n",
    "\n",
    "    grid_min = -args_dict[\"PIXEL_SIZE\"] * (args_dict[\"N_PIXELS\"] - 1)*0.5\n",
    "    grid_max = args_dict[\"PIXEL_SIZE\"] * (args_dict[\"N_PIXELS\"] - 1)*0.5 + args_dict[\"PIXEL_SIZE\"]\n",
    "\n",
    "    grid = np.arange(grid_min, grid_max, args_dict[\"PIXEL_SIZE\"])\n",
    "\n",
    "    gauss = np.exp( -0.5 * ( ((grid[:,None] - coord[0,:]) / args_dict[\"SIGMA\"])**2) )[:,None] * \\\n",
    "            np.exp( -0.5 * ( ((grid[:,None] - coord[1,:]) / args_dict[\"SIGMA\"])**2) )\n",
    "\n",
    "    image = gauss.sum(axis=2) * norm\n",
    "\n",
    "    return image\n",
    "\n",
    "def load_model(fname, filter = \"name CA\"):\n",
    "\n",
    "    mda_model = mda.Universe(fname)\n",
    "\n",
    "    # Center model\n",
    "    mda_model.atoms.translate(-mda_model.select_atoms('all').center_of_mass())\n",
    "\n",
    "    # Extract coordinates\n",
    "    coordinates = mda_model.select_atoms(filter).positions.T\n",
    "\n",
    "    return coordinates"
   ]
  },
  {
   "cell_type": "markdown",
   "metadata": {},
   "source": [
    "# Functions for post-processing the images"
   ]
  },
  {
   "cell_type": "code",
   "execution_count": 10,
   "metadata": {},
   "outputs": [],
   "source": [
    "def add_noise(img, n_pixels, pixel_size, snr):\n",
    "\n",
    "    img_noise = np.asarray(img).reshape(n_pixels, n_pixels)\n",
    "    \n",
    "    rad_sq = (pixel_size * (n_pixels + 1)*0.5)**2\n",
    "\n",
    "    grid_min = -pixel_size * (n_pixels - 1)*0.5\n",
    "    grid_max = pixel_size * (n_pixels - 1)*0.5 + pixel_size\n",
    "\n",
    "    grid = np.arange(grid_min, grid_max, pixel_size)\n",
    "\n",
    "    mask = grid[None,:]**2 + grid[:,None]**2 < rad_sq\n",
    "\n",
    "    noise_std = np.std(img[mask]) / snr\n",
    "    noise = np.random.normal(loc=0.0, scale = noise_std, size=img.shape)\n",
    "\n",
    "    img_noise = img + noise\n",
    "\n",
    "    return img_noise\n",
    "\n",
    "def add_noise_to_dataset(dataset, args_dict, snr):\n",
    "\n",
    "    images_with_noise = torch.empty_like(dataset)\n",
    "\n",
    "    for i in range(dataset.shape[0]):\n",
    "\n",
    "        image_with_noise = add_noise(\n",
    "            dataset[i].reshape(args_dict[\"N_PIXELS\"], args_dict[\"N_PIXELS\"]).numpy(),\n",
    "            args_dict[\"N_PIXELS\"],\n",
    "            args_dict[\"PIXEL_SIZE\"],\n",
    "            snr)\n",
    "\n",
    "        images_with_noise[i] = torch.tensor(image_with_noise.reshape(args_dict[\"N_PIXELS\"]**2))\n",
    "\n",
    "    return images_with_noise\n",
    "\n",
    "def normalize_dataset(dataset):\n",
    "\n",
    "    norm_images = torch.empty_like(dataset)\n",
    "\n",
    "    for i in range(dataset.shape[0]):\n",
    "\n",
    "        mu = torch.mean(dataset[i])\n",
    "        sigma = torch.std(dataset[i])\n",
    "\n",
    "        norm_images[i] = (dataset[i] - mu) / sigma\n",
    "\n",
    "    return norm_images"
   ]
  },
  {
   "cell_type": "markdown",
   "metadata": {},
   "source": [
    "# Generating data\n",
    "\n",
    "I only generate images for models with name ```models/state_1_*.txt```. If you want to generate different models change the 43rd line in ```simulate_for_sbi_cpp``` (one cell above)."
   ]
  },
  {
   "cell_type": "code",
   "execution_count": 6,
   "metadata": {},
   "outputs": [],
   "source": [
    "prior_indices = utils.BoxUniform(low=1*torch.ones(1), high=20*torch.ones(1))"
   ]
  },
  {
   "cell_type": "code",
   "execution_count": 14,
   "metadata": {},
   "outputs": [],
   "source": [
    "args_dict = {\"PIXEL_SIZE\": 4,\n",
    "             \"N_PIXELS\": 32,\n",
    "             \"SIGMA\": 1.0\n",
    "             }\n",
    "\n",
    "def simulator(index):\n",
    "\n",
    "    index1 = int(np.round(index))\n",
    "\n",
    "    coord = load_model(f\"models/state_1_{index1}.pdb\")\n",
    "\n",
    "    # quat = gen_quat(1)[0]\n",
    "    # rot_mat = Rotation.from_quat(quat).as_matrix()\n",
    "    # coord = np.matmul(rot_mat, coord)\n",
    "\n",
    "    image = gen_img(coord, args_dict)\n",
    "\n",
    "    return image\n",
    "\n",
    "simulator_sbi, prior_sbi = prepare_for_sbi(simulator, prior_indices)"
   ]
  },
  {
   "cell_type": "code",
   "execution_count": 27,
   "metadata": {},
   "outputs": [
    {
     "name": "stderr",
     "output_type": "stream",
     "text": [
      "Running 1000 simulations in 1000 batches.: 100%|██████████| 1000/1000 [01:07<00:00, 14.79it/s]\n"
     ]
    }
   ],
   "source": [
    "indices, images = simulate_for_sbi(\n",
    "    simulator_sbi,\n",
    "    proposal=prior_sbi,\n",
    "    num_simulations=1000,\n",
    "    num_workers=4\n",
    "    )"
   ]
  },
  {
   "cell_type": "markdown",
   "metadata": {},
   "source": [
    "# Post-processing of the generated images \n",
    "\n",
    "Because we are generating images with no rotations we need to add noise so pytorch doesn't die. This could also be the place to normalize images, or add the CTF. I prefer not to do add these things when generating the images because having a set of raw images allows me to do many test with just one dataset.\n",
    "\n",
    "### WARNING: with images without rotations the lack of noise kills PyTorch!\n",
    "\n",
    "I post-process images on-the-fly to save memory (see 2 cells below)"
   ]
  },
  {
   "cell_type": "markdown",
   "metadata": {},
   "source": [
    "# Training SBI's neural network\n"
   ]
  },
  {
   "cell_type": "code",
   "execution_count": 28,
   "metadata": {},
   "outputs": [],
   "source": [
    "density_estimator_build_fun = posterior_nn(model='maf', hidden_features=10, num_transforms=4)\n",
    "inference = SNPE(prior=prior_indices, density_estimator=density_estimator_build_fun)"
   ]
  },
  {
   "cell_type": "code",
   "execution_count": 17,
   "metadata": {},
   "outputs": [
    {
     "name": "stderr",
     "output_type": "stream",
     "text": [
      "/Data/Packages/Research/miniconda3/envs/sbi_cryoem/lib/python3.8/site-packages/sbi/neural_nets/flow.py:108: UserWarning: In one-dimensional output space, this flow is limited to Gaussians\n",
      "  warn(f\"In one-dimensional output space, this flow is limited to Gaussians\")\n"
     ]
    },
    {
     "name": "stdout",
     "output_type": "stream",
     "text": [
      "Neural network successfully converged after 80 epochs.\n"
     ]
    }
   ],
   "source": [
    "# Calculate and save posterior\n",
    "posteriors = {}\n",
    "\n",
    "# Train multiple posteriors for different noise levels\n",
    "snr_training = [0.1]\n",
    "\n",
    "for snr in snr_training:\n",
    "    \n",
    "    ##### Post processing images #####\n",
    "    images_with_noise = add_noise_to_dataset(images, args_dict, snr) \n",
    "    images_with_noise = normalize_dataset(images_with_noise)\n",
    "    ##### Post processing images #####\n",
    "    \n",
    "    inference = inference.append_simulations(indices, images_with_noise)\n",
    "\n",
    "    density_estimator = inference.train()\n",
    "    posteriors[f\"snr_{snr}\"] = inference.build_posterior(density_estimator)"
   ]
  },
  {
   "cell_type": "code",
   "execution_count": 13,
   "metadata": {},
   "outputs": [],
   "source": [
    "with open(\"posteriors_no_rot.pkl\", \"wb\") as handle:\n",
    "    pickle.dump(posteriors, handle)"
   ]
  },
  {
   "cell_type": "code",
   "execution_count": 5,
   "metadata": {},
   "outputs": [],
   "source": [
    "with open(\"posteriors_no_rot.pkl\", \"rb\") as handle:\n",
    "    posteriors = pickle.load(handle)"
   ]
  },
  {
   "cell_type": "code",
   "execution_count": 29,
   "metadata": {},
   "outputs": [],
   "source": [
    "true_index = prior_sbi.sample((1,))\n",
    "true_image = simulator_sbi(true_index)"
   ]
  },
  {
   "cell_type": "code",
   "execution_count": 30,
   "metadata": {},
   "outputs": [
    {
     "name": "stderr",
     "output_type": "stream",
     "text": [
      "Drawing 20000 posterior samples: 23314it [00:00, 41928.40it/s]                           \n"
     ]
    }
   ],
   "source": [
    "n_samples = 20000\n",
    "\n",
    "snrs_testing = [0.1]\n",
    "\n",
    "samples = torch.empty((len(snrs_testing), n_samples, 1))\n",
    "\n",
    "for i, snr in enumerate(snrs_testing):\n",
    "    \n",
    "    true_image_with_noise = add_noise_to_dataset(true_image, args_dict, snr) \n",
    "    #true_image_with_noise = normalize_dataset(true_image_with_noise)\n",
    "    samples[i] = posteriors[f\"snr_{snr}\"].sample((n_samples,), x=true_image_with_noise)  "
   ]
  },
  {
   "cell_type": "code",
   "execution_count": 31,
   "metadata": {},
   "outputs": [
    {
     "data": {
      "image/png": "[encoded data removed]",
      "text/plain": [
       "<Figure size 360x360 with 1 Axes>"
      ]
     },
     "metadata": {
      "needs_background": "light"
     },
     "output_type": "display_data"
    }
   ],
   "source": [
    "fig, axes = analysis.pairplot(samples[0],\n",
    "                           limits=[[1,21], [1,21]],\n",
    "                           #ticks=[[2,10], [2,10]],\n",
    "                           figsize=(5,5),\n",
    "                           points=true_index.round(),\n",
    "                           points_offdiag={'markersize': 6},\n",
    "                           points_colors='r');"
   ]
  }
 ],
 "metadata": {
  "interpreter": {
   "hash": "e1aacc329f4eedc97866ad18b95bb07bba41681494da4fd1f5a311cb8e4006de"
  },
  "kernelspec": {
   "display_name": "Python 3.8.2 ('sbi_cryoem')",
   "language": "python",
   "name": "python3"
  },
  "language_info": {
   "codemirror_mode": {
    "name": "ipython",
    "version": 3
   },
   "file_extension": ".py",
   "mimetype": "text/x-python",
   "name": "python",
   "nbconvert_exporter": "python",
   "pygments_lexer": "ipython3",
   "version": "3.8.2"
  },
  "orig_nbformat": 4
 },
 "nbformat": 4,
 "nbformat_minor": 2
}
